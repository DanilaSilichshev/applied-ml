{
 "cells": [
  {
   "cell_type": "markdown",
   "id": "871144f5",
   "metadata": {
    "id": "871144f5"
   },
   "source": [
    "# Оценка грамматической корректности предложений с использованием трансформерных моделей"
   ]
  },
  {
   "cell_type": "markdown",
   "id": "96694b8c",
   "metadata": {
    "id": "96694b8c"
   },
   "source": [
    "**Подключение библиотек и загрузка данных**"
   ]
  },
  {
   "cell_type": "code",
   "execution_count": 1,
   "id": "KAeUer1aTW2Y",
   "metadata": {
    "executionInfo": {
     "elapsed": 14613,
     "status": "ok",
     "timestamp": 1745168785493,
     "user": {
      "displayName": "Danila Silichshev",
      "userId": "13799801190473562794"
     },
     "user_tz": -300
    },
    "id": "KAeUer1aTW2Y"
   },
   "outputs": [],
   "source": [
    "import pandas as pd\n",
    "import numpy as np\n",
    "import matplotlib.pyplot as plt\n",
    "import seaborn as sns\n",
    "from sklearn.model_selection import train_test_split\n",
    "from sklearn.metrics import classification_report\n",
    "from datasets import Dataset\n",
    "import torch\n",
    "from transformers import (\n",
    "    AutoTokenizer,\n",
    "    AutoModelForSequenceClassification,\n",
    "    AutoModelForCausalLM,\n",
    "    Trainer,\n",
    "    TrainingArguments\n",
    ")\n",
    "import evaluate"
   ]
  },
  {
   "cell_type": "code",
   "execution_count": 2,
   "id": "59lV3QZGp8mY",
   "metadata": {
    "colab": {
     "base_uri": "https://localhost:8080/"
    },
    "executionInfo": {
     "elapsed": 36,
     "status": "ok",
     "timestamp": 1745168785524,
     "user": {
      "displayName": "Danila Silichshev",
      "userId": "13799801190473562794"
     },
     "user_tz": -300
    },
    "id": "59lV3QZGp8mY",
    "outputId": "4f80bd49-cf2e-4a06-972d-a44dfda89443"
   },
   "outputs": [
    {
     "name": "stdout",
     "output_type": "stream",
     "text": [
      "Всего записей:\n",
      "в обучающем наборе - 7869,\n",
      "в тестовом - 983\n"
     ]
    }
   ],
   "source": [
    "start_path = \"data/\"\n",
    "train_path, test_path = \"in_domain_train.csv\", \"in_domain_dev.csv\"\n",
    "\n",
    "train_data = pd.read_csv(start_path + train_path)\n",
    "test_data = pd.read_csv(start_path + test_path)\n",
    "\n",
    "train_data.set_index(\"id\",  inplace=True)\n",
    "test_data.set_index(\"id\",  inplace=True)\n",
    "\n",
    "print(f\"Всего записей:\\nв обучающем наборе - {train_data.shape[0]},\"\n",
    "      f\"\\nв тестовом - {test_data.shape[0]}\")"
   ]
  },
  {
   "cell_type": "code",
   "execution_count": 3,
   "id": "dCqV4frVvWb-",
   "metadata": {
    "colab": {
     "base_uri": "https://localhost:8080/",
     "height": 455
    },
    "executionInfo": {
     "elapsed": 67,
     "status": "ok",
     "timestamp": 1745168785590,
     "user": {
      "displayName": "Danila Silichshev",
      "userId": "13799801190473562794"
     },
     "user_tz": -300
    },
    "id": "dCqV4frVvWb-",
    "outputId": "1ec314df-eef2-44a5-ce3f-c3642d38c0ad"
   },
   "outputs": [
    {
     "data": {
      "application/vnd.google.colaboratory.intrinsic+json": {
       "summary": "{\n  \"name\": \"train_data\",\n  \"rows\": 7869,\n  \"fields\": [\n    {\n      \"column\": \"id\",\n      \"properties\": {\n        \"dtype\": \"number\",\n        \"std\": 2271,\n        \"min\": 0,\n        \"max\": 7868,\n        \"num_unique_values\": 7869,\n        \"samples\": [\n          7794,\n          503,\n          6496\n        ],\n        \"semantic_type\": \"\",\n        \"description\": \"\"\n      }\n    },\n    {\n      \"column\": \"sentence\",\n      \"properties\": {\n        \"dtype\": \"string\",\n        \"num_unique_values\": 7869,\n        \"samples\": [\n          \"\\u0412 \\u0411\\u0435\\u043b\\u043e\\u0440\\u0443\\u0441\\u0441\\u0438\\u0438 \\u043b\\u0438\\u0431\\u0435\\u0440\\u0430\\u043b\\u044c\\u043d\\u044b\\u0435 \\u0433\\u0430\\u0437\\u0435\\u0442\\u044b \\u043d\\u0435 \\u043e\\u0441\\u0442\\u0430\\u043b\\u0438\\u0441\\u044c.\",\n          \"\\u0418\\u0432\\u0430\\u043d \\u0445\\u043e\\u0447\\u0435\\u0442, \\u0447\\u0442\\u043e\\u0431\\u044b \\u041f\\u0435\\u0442\\u0440 \\u043f\\u0440\\u0438\\u0433\\u043b\\u0430\\u0441\\u0438\\u043b \\u0435\\u0433\\u043e \\u043a \\u0441\\u0435\\u0431\\u0435.\",\n          \"\\u0414\\u0443\\u0431\\u0440\\u043e\\u0432\\u0441\\u043a\\u0438\\u0439 \\u043d\\u0430\\u0437\\u043d\\u0430\\u0447\\u0438\\u043b \\u041a\\u0438\\u0441\\u0442\\u0435\\u043d\\u0435\\u0432\\u0441\\u043a\\u0443\\u044e \\u0440\\u043e\\u0449\\u0443 \\u043c\\u0435\\u0441\\u0442\\u043e\\u043c \\u0441\\u0432\\u0438\\u0434\\u0430\\u043d\\u044c\\u044f.\"\n        ],\n        \"semantic_type\": \"\",\n        \"description\": \"\"\n      }\n    },\n    {\n      \"column\": \"acceptable\",\n      \"properties\": {\n        \"dtype\": \"number\",\n        \"std\": 0,\n        \"min\": 0,\n        \"max\": 1,\n        \"num_unique_values\": 2,\n        \"samples\": [\n          0,\n          1\n        ],\n        \"semantic_type\": \"\",\n        \"description\": \"\"\n      }\n    },\n    {\n      \"column\": \"error_type\",\n      \"properties\": {\n        \"dtype\": \"category\",\n        \"num_unique_values\": 4,\n        \"samples\": [\n          \"Syntax\",\n          \"Morphology\"\n        ],\n        \"semantic_type\": \"\",\n        \"description\": \"\"\n      }\n    },\n    {\n      \"column\": \"detailed_source\",\n      \"properties\": {\n        \"dtype\": \"category\",\n        \"num_unique_values\": 11,\n        \"samples\": [\n          \"Testelets\",\n          \"Paducheva2004\"\n        ],\n        \"semantic_type\": \"\",\n        \"description\": \"\"\n      }\n    }\n  ]\n}",
       "type": "dataframe",
       "variable_name": "train_data"
      },
      "text/html": [
       "\n",
       "  <div id=\"df-d46d6529-8229-4ab1-b2ae-53e1f2904f5e\" class=\"colab-df-container\">\n",
       "    <div>\n",
       "<style scoped>\n",
       "    .dataframe tbody tr th:only-of-type {\n",
       "        vertical-align: middle;\n",
       "    }\n",
       "\n",
       "    .dataframe tbody tr th {\n",
       "        vertical-align: top;\n",
       "    }\n",
       "\n",
       "    .dataframe thead th {\n",
       "        text-align: right;\n",
       "    }\n",
       "</style>\n",
       "<table border=\"1\" class=\"dataframe\">\n",
       "  <thead>\n",
       "    <tr style=\"text-align: right;\">\n",
       "      <th></th>\n",
       "      <th>sentence</th>\n",
       "      <th>acceptable</th>\n",
       "      <th>error_type</th>\n",
       "      <th>detailed_source</th>\n",
       "    </tr>\n",
       "    <tr>\n",
       "      <th>id</th>\n",
       "      <th></th>\n",
       "      <th></th>\n",
       "      <th></th>\n",
       "      <th></th>\n",
       "    </tr>\n",
       "  </thead>\n",
       "  <tbody>\n",
       "    <tr>\n",
       "      <th>0</th>\n",
       "      <td>Вдруг решетка беззвучно поехала в сторону, и н...</td>\n",
       "      <td>1</td>\n",
       "      <td>0</td>\n",
       "      <td>Paducheva2004</td>\n",
       "    </tr>\n",
       "    <tr>\n",
       "      <th>1</th>\n",
       "      <td>Этим летом не никуда ездили.</td>\n",
       "      <td>0</td>\n",
       "      <td>Syntax</td>\n",
       "      <td>Rusgram</td>\n",
       "    </tr>\n",
       "    <tr>\n",
       "      <th>2</th>\n",
       "      <td>Только Иван выразил какую бы то ни было готовн...</td>\n",
       "      <td>1</td>\n",
       "      <td>0</td>\n",
       "      <td>Paducheva2013</td>\n",
       "    </tr>\n",
       "    <tr>\n",
       "      <th>3</th>\n",
       "      <td>Теперь ты видишь собственными глазами, как тут...</td>\n",
       "      <td>1</td>\n",
       "      <td>0</td>\n",
       "      <td>Paducheva2010</td>\n",
       "    </tr>\n",
       "    <tr>\n",
       "      <th>4</th>\n",
       "      <td>На поверку вся теория оказалась полной чепухой.</td>\n",
       "      <td>1</td>\n",
       "      <td>0</td>\n",
       "      <td>Paducheva2010</td>\n",
       "    </tr>\n",
       "    <tr>\n",
       "      <th>...</th>\n",
       "      <td>...</td>\n",
       "      <td>...</td>\n",
       "      <td>...</td>\n",
       "      <td>...</td>\n",
       "    </tr>\n",
       "    <tr>\n",
       "      <th>7864</th>\n",
       "      <td>Установки не было введено в действие.</td>\n",
       "      <td>0</td>\n",
       "      <td>Semantics</td>\n",
       "      <td>Paducheva2004</td>\n",
       "    </tr>\n",
       "    <tr>\n",
       "      <th>7865</th>\n",
       "      <td>Конечно, против такой системы ценностей решите...</td>\n",
       "      <td>0</td>\n",
       "      <td>Semantics</td>\n",
       "      <td>Paducheva2013</td>\n",
       "    </tr>\n",
       "    <tr>\n",
       "      <th>7866</th>\n",
       "      <td>Симптомов болезни не исчезло.</td>\n",
       "      <td>0</td>\n",
       "      <td>Semantics</td>\n",
       "      <td>Paducheva2013</td>\n",
       "    </tr>\n",
       "    <tr>\n",
       "      <th>7867</th>\n",
       "      <td>Послезавтра температура у больного снижается д...</td>\n",
       "      <td>0</td>\n",
       "      <td>Semantics</td>\n",
       "      <td>Rusgram</td>\n",
       "    </tr>\n",
       "    <tr>\n",
       "      <th>7868</th>\n",
       "      <td>Говоря, например, о картине Александра Иванова...</td>\n",
       "      <td>0</td>\n",
       "      <td>Semantics</td>\n",
       "      <td>Paducheva2013</td>\n",
       "    </tr>\n",
       "  </tbody>\n",
       "</table>\n",
       "<p>7869 rows × 4 columns</p>\n",
       "</div>\n",
       "    <div class=\"colab-df-buttons\">\n",
       "\n",
       "  <div class=\"colab-df-container\">\n",
       "    <button class=\"colab-df-convert\" onclick=\"convertToInteractive('df-d46d6529-8229-4ab1-b2ae-53e1f2904f5e')\"\n",
       "            title=\"Convert this dataframe to an interactive table.\"\n",
       "            style=\"display:none;\">\n",
       "\n",
       "  <svg xmlns=\"http://www.w3.org/2000/svg\" height=\"24px\" viewBox=\"0 -960 960 960\">\n",
       "    <path d=\"M120-120v-720h720v720H120Zm60-500h600v-160H180v160Zm220 220h160v-160H400v160Zm0 220h160v-160H400v160ZM180-400h160v-160H180v160Zm440 0h160v-160H620v160ZM180-180h160v-160H180v160Zm440 0h160v-160H620v160Z\"/>\n",
       "  </svg>\n",
       "    </button>\n",
       "\n",
       "  <style>\n",
       "    .colab-df-container {\n",
       "      display:flex;\n",
       "      gap: 12px;\n",
       "    }\n",
       "\n",
       "    .colab-df-convert {\n",
       "      background-color: #E8F0FE;\n",
       "      border: none;\n",
       "      border-radius: 50%;\n",
       "      cursor: pointer;\n",
       "      display: none;\n",
       "      fill: #1967D2;\n",
       "      height: 32px;\n",
       "      padding: 0 0 0 0;\n",
       "      width: 32px;\n",
       "    }\n",
       "\n",
       "    .colab-df-convert:hover {\n",
       "      background-color: #E2EBFA;\n",
       "      box-shadow: 0px 1px 2px rgba(60, 64, 67, 0.3), 0px 1px 3px 1px rgba(60, 64, 67, 0.15);\n",
       "      fill: #174EA6;\n",
       "    }\n",
       "\n",
       "    .colab-df-buttons div {\n",
       "      margin-bottom: 4px;\n",
       "    }\n",
       "\n",
       "    [theme=dark] .colab-df-convert {\n",
       "      background-color: #3B4455;\n",
       "      fill: #D2E3FC;\n",
       "    }\n",
       "\n",
       "    [theme=dark] .colab-df-convert:hover {\n",
       "      background-color: #434B5C;\n",
       "      box-shadow: 0px 1px 3px 1px rgba(0, 0, 0, 0.15);\n",
       "      filter: drop-shadow(0px 1px 2px rgba(0, 0, 0, 0.3));\n",
       "      fill: #FFFFFF;\n",
       "    }\n",
       "  </style>\n",
       "\n",
       "    <script>\n",
       "      const buttonEl =\n",
       "        document.querySelector('#df-d46d6529-8229-4ab1-b2ae-53e1f2904f5e button.colab-df-convert');\n",
       "      buttonEl.style.display =\n",
       "        google.colab.kernel.accessAllowed ? 'block' : 'none';\n",
       "\n",
       "      async function convertToInteractive(key) {\n",
       "        const element = document.querySelector('#df-d46d6529-8229-4ab1-b2ae-53e1f2904f5e');\n",
       "        const dataTable =\n",
       "          await google.colab.kernel.invokeFunction('convertToInteractive',\n",
       "                                                    [key], {});\n",
       "        if (!dataTable) return;\n",
       "\n",
       "        const docLinkHtml = 'Like what you see? Visit the ' +\n",
       "          '<a target=\"_blank\" href=https://colab.research.google.com/notebooks/data_table.ipynb>data table notebook</a>'\n",
       "          + ' to learn more about interactive tables.';\n",
       "        element.innerHTML = '';\n",
       "        dataTable['output_type'] = 'display_data';\n",
       "        await google.colab.output.renderOutput(dataTable, element);\n",
       "        const docLink = document.createElement('div');\n",
       "        docLink.innerHTML = docLinkHtml;\n",
       "        element.appendChild(docLink);\n",
       "      }\n",
       "    </script>\n",
       "  </div>\n",
       "\n",
       "\n",
       "<div id=\"df-6001a8e5-1f4b-4037-b806-e1ca6b9a76f7\">\n",
       "  <button class=\"colab-df-quickchart\" onclick=\"quickchart('df-6001a8e5-1f4b-4037-b806-e1ca6b9a76f7')\"\n",
       "            title=\"Suggest charts\"\n",
       "            style=\"display:none;\">\n",
       "\n",
       "<svg xmlns=\"http://www.w3.org/2000/svg\" height=\"24px\"viewBox=\"0 0 24 24\"\n",
       "     width=\"24px\">\n",
       "    <g>\n",
       "        <path d=\"M19 3H5c-1.1 0-2 .9-2 2v14c0 1.1.9 2 2 2h14c1.1 0 2-.9 2-2V5c0-1.1-.9-2-2-2zM9 17H7v-7h2v7zm4 0h-2V7h2v10zm4 0h-2v-4h2v4z\"/>\n",
       "    </g>\n",
       "</svg>\n",
       "  </button>\n",
       "\n",
       "<style>\n",
       "  .colab-df-quickchart {\n",
       "      --bg-color: #E8F0FE;\n",
       "      --fill-color: #1967D2;\n",
       "      --hover-bg-color: #E2EBFA;\n",
       "      --hover-fill-color: #174EA6;\n",
       "      --disabled-fill-color: #AAA;\n",
       "      --disabled-bg-color: #DDD;\n",
       "  }\n",
       "\n",
       "  [theme=dark] .colab-df-quickchart {\n",
       "      --bg-color: #3B4455;\n",
       "      --fill-color: #D2E3FC;\n",
       "      --hover-bg-color: #434B5C;\n",
       "      --hover-fill-color: #FFFFFF;\n",
       "      --disabled-bg-color: #3B4455;\n",
       "      --disabled-fill-color: #666;\n",
       "  }\n",
       "\n",
       "  .colab-df-quickchart {\n",
       "    background-color: var(--bg-color);\n",
       "    border: none;\n",
       "    border-radius: 50%;\n",
       "    cursor: pointer;\n",
       "    display: none;\n",
       "    fill: var(--fill-color);\n",
       "    height: 32px;\n",
       "    padding: 0;\n",
       "    width: 32px;\n",
       "  }\n",
       "\n",
       "  .colab-df-quickchart:hover {\n",
       "    background-color: var(--hover-bg-color);\n",
       "    box-shadow: 0 1px 2px rgba(60, 64, 67, 0.3), 0 1px 3px 1px rgba(60, 64, 67, 0.15);\n",
       "    fill: var(--button-hover-fill-color);\n",
       "  }\n",
       "\n",
       "  .colab-df-quickchart-complete:disabled,\n",
       "  .colab-df-quickchart-complete:disabled:hover {\n",
       "    background-color: var(--disabled-bg-color);\n",
       "    fill: var(--disabled-fill-color);\n",
       "    box-shadow: none;\n",
       "  }\n",
       "\n",
       "  .colab-df-spinner {\n",
       "    border: 2px solid var(--fill-color);\n",
       "    border-color: transparent;\n",
       "    border-bottom-color: var(--fill-color);\n",
       "    animation:\n",
       "      spin 1s steps(1) infinite;\n",
       "  }\n",
       "\n",
       "  @keyframes spin {\n",
       "    0% {\n",
       "      border-color: transparent;\n",
       "      border-bottom-color: var(--fill-color);\n",
       "      border-left-color: var(--fill-color);\n",
       "    }\n",
       "    20% {\n",
       "      border-color: transparent;\n",
       "      border-left-color: var(--fill-color);\n",
       "      border-top-color: var(--fill-color);\n",
       "    }\n",
       "    30% {\n",
       "      border-color: transparent;\n",
       "      border-left-color: var(--fill-color);\n",
       "      border-top-color: var(--fill-color);\n",
       "      border-right-color: var(--fill-color);\n",
       "    }\n",
       "    40% {\n",
       "      border-color: transparent;\n",
       "      border-right-color: var(--fill-color);\n",
       "      border-top-color: var(--fill-color);\n",
       "    }\n",
       "    60% {\n",
       "      border-color: transparent;\n",
       "      border-right-color: var(--fill-color);\n",
       "    }\n",
       "    80% {\n",
       "      border-color: transparent;\n",
       "      border-right-color: var(--fill-color);\n",
       "      border-bottom-color: var(--fill-color);\n",
       "    }\n",
       "    90% {\n",
       "      border-color: transparent;\n",
       "      border-bottom-color: var(--fill-color);\n",
       "    }\n",
       "  }\n",
       "</style>\n",
       "\n",
       "  <script>\n",
       "    async function quickchart(key) {\n",
       "      const quickchartButtonEl =\n",
       "        document.querySelector('#' + key + ' button');\n",
       "      quickchartButtonEl.disabled = true;  // To prevent multiple clicks.\n",
       "      quickchartButtonEl.classList.add('colab-df-spinner');\n",
       "      try {\n",
       "        const charts = await google.colab.kernel.invokeFunction(\n",
       "            'suggestCharts', [key], {});\n",
       "      } catch (error) {\n",
       "        console.error('Error during call to suggestCharts:', error);\n",
       "      }\n",
       "      quickchartButtonEl.classList.remove('colab-df-spinner');\n",
       "      quickchartButtonEl.classList.add('colab-df-quickchart-complete');\n",
       "    }\n",
       "    (() => {\n",
       "      let quickchartButtonEl =\n",
       "        document.querySelector('#df-6001a8e5-1f4b-4037-b806-e1ca6b9a76f7 button');\n",
       "      quickchartButtonEl.style.display =\n",
       "        google.colab.kernel.accessAllowed ? 'block' : 'none';\n",
       "    })();\n",
       "  </script>\n",
       "</div>\n",
       "\n",
       "  <div id=\"id_68992018-aed4-4f0e-adc2-60a64ebcd822\">\n",
       "    <style>\n",
       "      .colab-df-generate {\n",
       "        background-color: #E8F0FE;\n",
       "        border: none;\n",
       "        border-radius: 50%;\n",
       "        cursor: pointer;\n",
       "        display: none;\n",
       "        fill: #1967D2;\n",
       "        height: 32px;\n",
       "        padding: 0 0 0 0;\n",
       "        width: 32px;\n",
       "      }\n",
       "\n",
       "      .colab-df-generate:hover {\n",
       "        background-color: #E2EBFA;\n",
       "        box-shadow: 0px 1px 2px rgba(60, 64, 67, 0.3), 0px 1px 3px 1px rgba(60, 64, 67, 0.15);\n",
       "        fill: #174EA6;\n",
       "      }\n",
       "\n",
       "      [theme=dark] .colab-df-generate {\n",
       "        background-color: #3B4455;\n",
       "        fill: #D2E3FC;\n",
       "      }\n",
       "\n",
       "      [theme=dark] .colab-df-generate:hover {\n",
       "        background-color: #434B5C;\n",
       "        box-shadow: 0px 1px 3px 1px rgba(0, 0, 0, 0.15);\n",
       "        filter: drop-shadow(0px 1px 2px rgba(0, 0, 0, 0.3));\n",
       "        fill: #FFFFFF;\n",
       "      }\n",
       "    </style>\n",
       "    <button class=\"colab-df-generate\" onclick=\"generateWithVariable('train_data')\"\n",
       "            title=\"Generate code using this dataframe.\"\n",
       "            style=\"display:none;\">\n",
       "\n",
       "  <svg xmlns=\"http://www.w3.org/2000/svg\" height=\"24px\"viewBox=\"0 0 24 24\"\n",
       "       width=\"24px\">\n",
       "    <path d=\"M7,19H8.4L18.45,9,17,7.55,7,17.6ZM5,21V16.75L18.45,3.32a2,2,0,0,1,2.83,0l1.4,1.43a1.91,1.91,0,0,1,.58,1.4,1.91,1.91,0,0,1-.58,1.4L9.25,21ZM18.45,9,17,7.55Zm-12,3A5.31,5.31,0,0,0,4.9,8.1,5.31,5.31,0,0,0,1,6.5,5.31,5.31,0,0,0,4.9,4.9,5.31,5.31,0,0,0,6.5,1,5.31,5.31,0,0,0,8.1,4.9,5.31,5.31,0,0,0,12,6.5,5.46,5.46,0,0,0,6.5,12Z\"/>\n",
       "  </svg>\n",
       "    </button>\n",
       "    <script>\n",
       "      (() => {\n",
       "      const buttonEl =\n",
       "        document.querySelector('#id_68992018-aed4-4f0e-adc2-60a64ebcd822 button.colab-df-generate');\n",
       "      buttonEl.style.display =\n",
       "        google.colab.kernel.accessAllowed ? 'block' : 'none';\n",
       "\n",
       "      buttonEl.onclick = () => {\n",
       "        google.colab.notebook.generateWithVariable('train_data');\n",
       "      }\n",
       "      })();\n",
       "    </script>\n",
       "  </div>\n",
       "\n",
       "    </div>\n",
       "  </div>\n"
      ],
      "text/plain": [
       "                                               sentence  acceptable  \\\n",
       "id                                                                    \n",
       "0     Вдруг решетка беззвучно поехала в сторону, и н...           1   \n",
       "1                          Этим летом не никуда ездили.           0   \n",
       "2     Только Иван выразил какую бы то ни было готовн...           1   \n",
       "3     Теперь ты видишь собственными глазами, как тут...           1   \n",
       "4       На поверку вся теория оказалась полной чепухой.           1   \n",
       "...                                                 ...         ...   \n",
       "7864              Установки не было введено в действие.           0   \n",
       "7865  Конечно, против такой системы ценностей решите...           0   \n",
       "7866                      Симптомов болезни не исчезло.           0   \n",
       "7867  Послезавтра температура у больного снижается д...           0   \n",
       "7868  Говоря, например, о картине Александра Иванова...           0   \n",
       "\n",
       "     error_type detailed_source  \n",
       "id                               \n",
       "0             0   Paducheva2004  \n",
       "1        Syntax         Rusgram  \n",
       "2             0   Paducheva2013  \n",
       "3             0   Paducheva2010  \n",
       "4             0   Paducheva2010  \n",
       "...         ...             ...  \n",
       "7864  Semantics   Paducheva2004  \n",
       "7865  Semantics   Paducheva2013  \n",
       "7866  Semantics   Paducheva2013  \n",
       "7867  Semantics         Rusgram  \n",
       "7868  Semantics   Paducheva2013  \n",
       "\n",
       "[7869 rows x 4 columns]"
      ]
     },
     "execution_count": 3,
     "metadata": {},
     "output_type": "execute_result"
    }
   ],
   "source": [
    "train_data"
   ]
  },
  {
   "cell_type": "code",
   "execution_count": 4,
   "id": "o_h7Rfzhv_F3",
   "metadata": {
    "colab": {
     "base_uri": "https://localhost:8080/",
     "height": 455
    },
    "executionInfo": {
     "elapsed": 26,
     "status": "ok",
     "timestamp": 1745168785621,
     "user": {
      "displayName": "Danila Silichshev",
      "userId": "13799801190473562794"
     },
     "user_tz": -300
    },
    "id": "o_h7Rfzhv_F3",
    "outputId": "d034950a-d486-4c29-f6f9-31df385a6e86"
   },
   "outputs": [
    {
     "data": {
      "application/vnd.google.colaboratory.intrinsic+json": {
       "summary": "{\n  \"name\": \"test_data\",\n  \"rows\": 983,\n  \"fields\": [\n    {\n      \"column\": \"id\",\n      \"properties\": {\n        \"dtype\": \"number\",\n        \"std\": 283,\n        \"min\": 0,\n        \"max\": 982,\n        \"num_unique_values\": 983,\n        \"samples\": [\n          810,\n          801,\n          813\n        ],\n        \"semantic_type\": \"\",\n        \"description\": \"\"\n      }\n    },\n    {\n      \"column\": \"sentence\",\n      \"properties\": {\n        \"dtype\": \"string\",\n        \"num_unique_values\": 983,\n        \"samples\": [\n          \"\\u0422\\u043e\\u043c \\u0438 \\u0413\\u0435\\u043a \\u0440\\u0430\\u0437\\u0433\\u043e\\u0432\\u0430\\u0440\\u0438\\u0432\\u0430\\u044e\\u0442.\",\n          \"\\u042f \\u0432\\u043e\\u0437\\u0434\\u0435\\u0440\\u0436\\u0430\\u043b\\u0441\\u044f \\u043e\\u0442 \\u043a\\u0430\\u043a\\u0438\\u0445 \\u0431\\u044b \\u0442\\u043e \\u043d\\u0438 \\u0431\\u044b\\u043b\\u043e \\u043a\\u043e\\u043c\\u043c\\u0435\\u043d\\u0442\\u0430\\u0440\\u0438\\u0435\\u0432.\",\n          \"\\u0412 \\u0434\\u043e\\u043c\\u0435 \\u0431\\u044b\\u043b \\u0431\\u043e\\u043b\\u044c\\u0448\\u043e\\u0439 \\u043a\\u0440\\u0443\\u0433\\u043b\\u044b\\u0439 \\u0441\\u0442\\u043e\\u0439, \\u0432\\u0441\\u0435 \\u043b\\u044e\\u0431\\u0438\\u043b\\u0438 \\u0441\\u043e\\u0431\\u0438\\u0440\\u0430\\u0442\\u044c\\u0441\\u044f \\u0438 \\u0440\\u0430\\u0437\\u0433\\u043e\\u0432\\u0430\\u0440\\u0438\\u0432\\u0430\\u0442\\u044c \\u0432 \\u0433\\u043e\\u0441\\u0442\\u0438\\u043d\\u043e\\u0439 \\u0443 \\u043d\\u0435\\u0433\\u043e.\"\n        ],\n        \"semantic_type\": \"\",\n        \"description\": \"\"\n      }\n    },\n    {\n      \"column\": \"acceptable\",\n      \"properties\": {\n        \"dtype\": \"number\",\n        \"std\": 0,\n        \"min\": 0,\n        \"max\": 1,\n        \"num_unique_values\": 2,\n        \"samples\": [\n          0,\n          1\n        ],\n        \"semantic_type\": \"\",\n        \"description\": \"\"\n      }\n    },\n    {\n      \"column\": \"error_type\",\n      \"properties\": {\n        \"dtype\": \"category\",\n        \"num_unique_values\": 4,\n        \"samples\": [\n          \"Syntax\",\n          \"Morphology\"\n        ],\n        \"semantic_type\": \"\",\n        \"description\": \"\"\n      }\n    },\n    {\n      \"column\": \"detailed_source\",\n      \"properties\": {\n        \"dtype\": \"category\",\n        \"num_unique_values\": 11,\n        \"samples\": [\n          \"Paducheva2010\",\n          \"Paducheva2013\"\n        ],\n        \"semantic_type\": \"\",\n        \"description\": \"\"\n      }\n    }\n  ]\n}",
       "type": "dataframe",
       "variable_name": "test_data"
      },
      "text/html": [
       "\n",
       "  <div id=\"df-1b37ca11-b5e5-48e6-81cc-0aaaaa658eff\" class=\"colab-df-container\">\n",
       "    <div>\n",
       "<style scoped>\n",
       "    .dataframe tbody tr th:only-of-type {\n",
       "        vertical-align: middle;\n",
       "    }\n",
       "\n",
       "    .dataframe tbody tr th {\n",
       "        vertical-align: top;\n",
       "    }\n",
       "\n",
       "    .dataframe thead th {\n",
       "        text-align: right;\n",
       "    }\n",
       "</style>\n",
       "<table border=\"1\" class=\"dataframe\">\n",
       "  <thead>\n",
       "    <tr style=\"text-align: right;\">\n",
       "      <th></th>\n",
       "      <th>sentence</th>\n",
       "      <th>acceptable</th>\n",
       "      <th>error_type</th>\n",
       "      <th>detailed_source</th>\n",
       "    </tr>\n",
       "    <tr>\n",
       "      <th>id</th>\n",
       "      <th></th>\n",
       "      <th></th>\n",
       "      <th></th>\n",
       "      <th></th>\n",
       "    </tr>\n",
       "  </thead>\n",
       "  <tbody>\n",
       "    <tr>\n",
       "      <th>0</th>\n",
       "      <td>Иван вчера не позвонил.</td>\n",
       "      <td>1</td>\n",
       "      <td>0</td>\n",
       "      <td>Paducheva2013</td>\n",
       "    </tr>\n",
       "    <tr>\n",
       "      <th>1</th>\n",
       "      <td>У многих туристов, кто посещают Кемер весной, ...</td>\n",
       "      <td>0</td>\n",
       "      <td>Syntax</td>\n",
       "      <td>USE8</td>\n",
       "    </tr>\n",
       "    <tr>\n",
       "      <th>2</th>\n",
       "      <td>Лесные запахи набегали волнами; в них смешалос...</td>\n",
       "      <td>1</td>\n",
       "      <td>0</td>\n",
       "      <td>USE5</td>\n",
       "    </tr>\n",
       "    <tr>\n",
       "      <th>3</th>\n",
       "      <td>Вчера президент имел неофициальную беседу с ан...</td>\n",
       "      <td>1</td>\n",
       "      <td>0</td>\n",
       "      <td>Seliverstova</td>\n",
       "    </tr>\n",
       "    <tr>\n",
       "      <th>4</th>\n",
       "      <td>Коллега так и не признал вину за катастрофу пе...</td>\n",
       "      <td>1</td>\n",
       "      <td>0</td>\n",
       "      <td>Testelets</td>\n",
       "    </tr>\n",
       "    <tr>\n",
       "      <th>...</th>\n",
       "      <td>...</td>\n",
       "      <td>...</td>\n",
       "      <td>...</td>\n",
       "      <td>...</td>\n",
       "    </tr>\n",
       "    <tr>\n",
       "      <th>978</th>\n",
       "      <td>Мысли отказываются остановиться на всяком пред...</td>\n",
       "      <td>0</td>\n",
       "      <td>Semantics</td>\n",
       "      <td>Paducheva2013</td>\n",
       "    </tr>\n",
       "    <tr>\n",
       "      <th>979</th>\n",
       "      <td>Не должно быть подозрений, что судью привлекаю...</td>\n",
       "      <td>0</td>\n",
       "      <td>Semantics</td>\n",
       "      <td>Paducheva2013</td>\n",
       "    </tr>\n",
       "    <tr>\n",
       "      <th>980</th>\n",
       "      <td>Хорошо, что он купил что-нибудь.</td>\n",
       "      <td>0</td>\n",
       "      <td>Semantics</td>\n",
       "      <td>Rusgram</td>\n",
       "    </tr>\n",
       "    <tr>\n",
       "      <th>981</th>\n",
       "      <td>Если бы я не потерял очков, не пришлось бы пок...</td>\n",
       "      <td>0</td>\n",
       "      <td>Semantics</td>\n",
       "      <td>Paducheva2013</td>\n",
       "    </tr>\n",
       "    <tr>\n",
       "      <th>982</th>\n",
       "      <td>На Марсе есть какие-либо (какие бы то ни было)...</td>\n",
       "      <td>0</td>\n",
       "      <td>Semantics</td>\n",
       "      <td>Rusgram</td>\n",
       "    </tr>\n",
       "  </tbody>\n",
       "</table>\n",
       "<p>983 rows × 4 columns</p>\n",
       "</div>\n",
       "    <div class=\"colab-df-buttons\">\n",
       "\n",
       "  <div class=\"colab-df-container\">\n",
       "    <button class=\"colab-df-convert\" onclick=\"convertToInteractive('df-1b37ca11-b5e5-48e6-81cc-0aaaaa658eff')\"\n",
       "            title=\"Convert this dataframe to an interactive table.\"\n",
       "            style=\"display:none;\">\n",
       "\n",
       "  <svg xmlns=\"http://www.w3.org/2000/svg\" height=\"24px\" viewBox=\"0 -960 960 960\">\n",
       "    <path d=\"M120-120v-720h720v720H120Zm60-500h600v-160H180v160Zm220 220h160v-160H400v160Zm0 220h160v-160H400v160ZM180-400h160v-160H180v160Zm440 0h160v-160H620v160ZM180-180h160v-160H180v160Zm440 0h160v-160H620v160Z\"/>\n",
       "  </svg>\n",
       "    </button>\n",
       "\n",
       "  <style>\n",
       "    .colab-df-container {\n",
       "      display:flex;\n",
       "      gap: 12px;\n",
       "    }\n",
       "\n",
       "    .colab-df-convert {\n",
       "      background-color: #E8F0FE;\n",
       "      border: none;\n",
       "      border-radius: 50%;\n",
       "      cursor: pointer;\n",
       "      display: none;\n",
       "      fill: #1967D2;\n",
       "      height: 32px;\n",
       "      padding: 0 0 0 0;\n",
       "      width: 32px;\n",
       "    }\n",
       "\n",
       "    .colab-df-convert:hover {\n",
       "      background-color: #E2EBFA;\n",
       "      box-shadow: 0px 1px 2px rgba(60, 64, 67, 0.3), 0px 1px 3px 1px rgba(60, 64, 67, 0.15);\n",
       "      fill: #174EA6;\n",
       "    }\n",
       "\n",
       "    .colab-df-buttons div {\n",
       "      margin-bottom: 4px;\n",
       "    }\n",
       "\n",
       "    [theme=dark] .colab-df-convert {\n",
       "      background-color: #3B4455;\n",
       "      fill: #D2E3FC;\n",
       "    }\n",
       "\n",
       "    [theme=dark] .colab-df-convert:hover {\n",
       "      background-color: #434B5C;\n",
       "      box-shadow: 0px 1px 3px 1px rgba(0, 0, 0, 0.15);\n",
       "      filter: drop-shadow(0px 1px 2px rgba(0, 0, 0, 0.3));\n",
       "      fill: #FFFFFF;\n",
       "    }\n",
       "  </style>\n",
       "\n",
       "    <script>\n",
       "      const buttonEl =\n",
       "        document.querySelector('#df-1b37ca11-b5e5-48e6-81cc-0aaaaa658eff button.colab-df-convert');\n",
       "      buttonEl.style.display =\n",
       "        google.colab.kernel.accessAllowed ? 'block' : 'none';\n",
       "\n",
       "      async function convertToInteractive(key) {\n",
       "        const element = document.querySelector('#df-1b37ca11-b5e5-48e6-81cc-0aaaaa658eff');\n",
       "        const dataTable =\n",
       "          await google.colab.kernel.invokeFunction('convertToInteractive',\n",
       "                                                    [key], {});\n",
       "        if (!dataTable) return;\n",
       "\n",
       "        const docLinkHtml = 'Like what you see? Visit the ' +\n",
       "          '<a target=\"_blank\" href=https://colab.research.google.com/notebooks/data_table.ipynb>data table notebook</a>'\n",
       "          + ' to learn more about interactive tables.';\n",
       "        element.innerHTML = '';\n",
       "        dataTable['output_type'] = 'display_data';\n",
       "        await google.colab.output.renderOutput(dataTable, element);\n",
       "        const docLink = document.createElement('div');\n",
       "        docLink.innerHTML = docLinkHtml;\n",
       "        element.appendChild(docLink);\n",
       "      }\n",
       "    </script>\n",
       "  </div>\n",
       "\n",
       "\n",
       "<div id=\"df-3995c843-361b-4bd4-a014-2aa992e92e85\">\n",
       "  <button class=\"colab-df-quickchart\" onclick=\"quickchart('df-3995c843-361b-4bd4-a014-2aa992e92e85')\"\n",
       "            title=\"Suggest charts\"\n",
       "            style=\"display:none;\">\n",
       "\n",
       "<svg xmlns=\"http://www.w3.org/2000/svg\" height=\"24px\"viewBox=\"0 0 24 24\"\n",
       "     width=\"24px\">\n",
       "    <g>\n",
       "        <path d=\"M19 3H5c-1.1 0-2 .9-2 2v14c0 1.1.9 2 2 2h14c1.1 0 2-.9 2-2V5c0-1.1-.9-2-2-2zM9 17H7v-7h2v7zm4 0h-2V7h2v10zm4 0h-2v-4h2v4z\"/>\n",
       "    </g>\n",
       "</svg>\n",
       "  </button>\n",
       "\n",
       "<style>\n",
       "  .colab-df-quickchart {\n",
       "      --bg-color: #E8F0FE;\n",
       "      --fill-color: #1967D2;\n",
       "      --hover-bg-color: #E2EBFA;\n",
       "      --hover-fill-color: #174EA6;\n",
       "      --disabled-fill-color: #AAA;\n",
       "      --disabled-bg-color: #DDD;\n",
       "  }\n",
       "\n",
       "  [theme=dark] .colab-df-quickchart {\n",
       "      --bg-color: #3B4455;\n",
       "      --fill-color: #D2E3FC;\n",
       "      --hover-bg-color: #434B5C;\n",
       "      --hover-fill-color: #FFFFFF;\n",
       "      --disabled-bg-color: #3B4455;\n",
       "      --disabled-fill-color: #666;\n",
       "  }\n",
       "\n",
       "  .colab-df-quickchart {\n",
       "    background-color: var(--bg-color);\n",
       "    border: none;\n",
       "    border-radius: 50%;\n",
       "    cursor: pointer;\n",
       "    display: none;\n",
       "    fill: var(--fill-color);\n",
       "    height: 32px;\n",
       "    padding: 0;\n",
       "    width: 32px;\n",
       "  }\n",
       "\n",
       "  .colab-df-quickchart:hover {\n",
       "    background-color: var(--hover-bg-color);\n",
       "    box-shadow: 0 1px 2px rgba(60, 64, 67, 0.3), 0 1px 3px 1px rgba(60, 64, 67, 0.15);\n",
       "    fill: var(--button-hover-fill-color);\n",
       "  }\n",
       "\n",
       "  .colab-df-quickchart-complete:disabled,\n",
       "  .colab-df-quickchart-complete:disabled:hover {\n",
       "    background-color: var(--disabled-bg-color);\n",
       "    fill: var(--disabled-fill-color);\n",
       "    box-shadow: none;\n",
       "  }\n",
       "\n",
       "  .colab-df-spinner {\n",
       "    border: 2px solid var(--fill-color);\n",
       "    border-color: transparent;\n",
       "    border-bottom-color: var(--fill-color);\n",
       "    animation:\n",
       "      spin 1s steps(1) infinite;\n",
       "  }\n",
       "\n",
       "  @keyframes spin {\n",
       "    0% {\n",
       "      border-color: transparent;\n",
       "      border-bottom-color: var(--fill-color);\n",
       "      border-left-color: var(--fill-color);\n",
       "    }\n",
       "    20% {\n",
       "      border-color: transparent;\n",
       "      border-left-color: var(--fill-color);\n",
       "      border-top-color: var(--fill-color);\n",
       "    }\n",
       "    30% {\n",
       "      border-color: transparent;\n",
       "      border-left-color: var(--fill-color);\n",
       "      border-top-color: var(--fill-color);\n",
       "      border-right-color: var(--fill-color);\n",
       "    }\n",
       "    40% {\n",
       "      border-color: transparent;\n",
       "      border-right-color: var(--fill-color);\n",
       "      border-top-color: var(--fill-color);\n",
       "    }\n",
       "    60% {\n",
       "      border-color: transparent;\n",
       "      border-right-color: var(--fill-color);\n",
       "    }\n",
       "    80% {\n",
       "      border-color: transparent;\n",
       "      border-right-color: var(--fill-color);\n",
       "      border-bottom-color: var(--fill-color);\n",
       "    }\n",
       "    90% {\n",
       "      border-color: transparent;\n",
       "      border-bottom-color: var(--fill-color);\n",
       "    }\n",
       "  }\n",
       "</style>\n",
       "\n",
       "  <script>\n",
       "    async function quickchart(key) {\n",
       "      const quickchartButtonEl =\n",
       "        document.querySelector('#' + key + ' button');\n",
       "      quickchartButtonEl.disabled = true;  // To prevent multiple clicks.\n",
       "      quickchartButtonEl.classList.add('colab-df-spinner');\n",
       "      try {\n",
       "        const charts = await google.colab.kernel.invokeFunction(\n",
       "            'suggestCharts', [key], {});\n",
       "      } catch (error) {\n",
       "        console.error('Error during call to suggestCharts:', error);\n",
       "      }\n",
       "      quickchartButtonEl.classList.remove('colab-df-spinner');\n",
       "      quickchartButtonEl.classList.add('colab-df-quickchart-complete');\n",
       "    }\n",
       "    (() => {\n",
       "      let quickchartButtonEl =\n",
       "        document.querySelector('#df-3995c843-361b-4bd4-a014-2aa992e92e85 button');\n",
       "      quickchartButtonEl.style.display =\n",
       "        google.colab.kernel.accessAllowed ? 'block' : 'none';\n",
       "    })();\n",
       "  </script>\n",
       "</div>\n",
       "\n",
       "  <div id=\"id_8ceabc5e-8267-48a3-91c5-3665af2a6008\">\n",
       "    <style>\n",
       "      .colab-df-generate {\n",
       "        background-color: #E8F0FE;\n",
       "        border: none;\n",
       "        border-radius: 50%;\n",
       "        cursor: pointer;\n",
       "        display: none;\n",
       "        fill: #1967D2;\n",
       "        height: 32px;\n",
       "        padding: 0 0 0 0;\n",
       "        width: 32px;\n",
       "      }\n",
       "\n",
       "      .colab-df-generate:hover {\n",
       "        background-color: #E2EBFA;\n",
       "        box-shadow: 0px 1px 2px rgba(60, 64, 67, 0.3), 0px 1px 3px 1px rgba(60, 64, 67, 0.15);\n",
       "        fill: #174EA6;\n",
       "      }\n",
       "\n",
       "      [theme=dark] .colab-df-generate {\n",
       "        background-color: #3B4455;\n",
       "        fill: #D2E3FC;\n",
       "      }\n",
       "\n",
       "      [theme=dark] .colab-df-generate:hover {\n",
       "        background-color: #434B5C;\n",
       "        box-shadow: 0px 1px 3px 1px rgba(0, 0, 0, 0.15);\n",
       "        filter: drop-shadow(0px 1px 2px rgba(0, 0, 0, 0.3));\n",
       "        fill: #FFFFFF;\n",
       "      }\n",
       "    </style>\n",
       "    <button class=\"colab-df-generate\" onclick=\"generateWithVariable('test_data')\"\n",
       "            title=\"Generate code using this dataframe.\"\n",
       "            style=\"display:none;\">\n",
       "\n",
       "  <svg xmlns=\"http://www.w3.org/2000/svg\" height=\"24px\"viewBox=\"0 0 24 24\"\n",
       "       width=\"24px\">\n",
       "    <path d=\"M7,19H8.4L18.45,9,17,7.55,7,17.6ZM5,21V16.75L18.45,3.32a2,2,0,0,1,2.83,0l1.4,1.43a1.91,1.91,0,0,1,.58,1.4,1.91,1.91,0,0,1-.58,1.4L9.25,21ZM18.45,9,17,7.55Zm-12,3A5.31,5.31,0,0,0,4.9,8.1,5.31,5.31,0,0,0,1,6.5,5.31,5.31,0,0,0,4.9,4.9,5.31,5.31,0,0,0,6.5,1,5.31,5.31,0,0,0,8.1,4.9,5.31,5.31,0,0,0,12,6.5,5.46,5.46,0,0,0,6.5,12Z\"/>\n",
       "  </svg>\n",
       "    </button>\n",
       "    <script>\n",
       "      (() => {\n",
       "      const buttonEl =\n",
       "        document.querySelector('#id_8ceabc5e-8267-48a3-91c5-3665af2a6008 button.colab-df-generate');\n",
       "      buttonEl.style.display =\n",
       "        google.colab.kernel.accessAllowed ? 'block' : 'none';\n",
       "\n",
       "      buttonEl.onclick = () => {\n",
       "        google.colab.notebook.generateWithVariable('test_data');\n",
       "      }\n",
       "      })();\n",
       "    </script>\n",
       "  </div>\n",
       "\n",
       "    </div>\n",
       "  </div>\n"
      ],
      "text/plain": [
       "                                              sentence  acceptable error_type  \\\n",
       "id                                                                              \n",
       "0                              Иван вчера не позвонил.           1          0   \n",
       "1    У многих туристов, кто посещают Кемер весной, ...           0     Syntax   \n",
       "2    Лесные запахи набегали волнами; в них смешалос...           1          0   \n",
       "3    Вчера президент имел неофициальную беседу с ан...           1          0   \n",
       "4    Коллега так и не признал вину за катастрофу пе...           1          0   \n",
       "..                                                 ...         ...        ...   \n",
       "978  Мысли отказываются остановиться на всяком пред...           0  Semantics   \n",
       "979  Не должно быть подозрений, что судью привлекаю...           0  Semantics   \n",
       "980                   Хорошо, что он купил что-нибудь.           0  Semantics   \n",
       "981  Если бы я не потерял очков, не пришлось бы пок...           0  Semantics   \n",
       "982  На Марсе есть какие-либо (какие бы то ни было)...           0  Semantics   \n",
       "\n",
       "    detailed_source  \n",
       "id                   \n",
       "0     Paducheva2013  \n",
       "1              USE8  \n",
       "2              USE5  \n",
       "3      Seliverstova  \n",
       "4         Testelets  \n",
       "..              ...  \n",
       "978   Paducheva2013  \n",
       "979   Paducheva2013  \n",
       "980         Rusgram  \n",
       "981   Paducheva2013  \n",
       "982         Rusgram  \n",
       "\n",
       "[983 rows x 4 columns]"
      ]
     },
     "execution_count": 4,
     "metadata": {},
     "output_type": "execute_result"
    }
   ],
   "source": [
    "test_data"
   ]
  },
  {
   "cell_type": "markdown",
   "id": "swrfFGyPxggj",
   "metadata": {
    "id": "swrfFGyPxggj"
   },
   "source": [
    "## EDA"
   ]
  },
  {
   "cell_type": "markdown",
   "id": "LvnuVe93yR7x",
   "metadata": {
    "id": "LvnuVe93yR7x"
   },
   "source": [
    "### Описание признаков датасета RuCoLA\n",
    "\n",
    "- **`sentence`** — предложение на русском языке  \n",
    "- **`acceptable` (target)** —метка корректности: `1` — предложение грамматически корректное, `0` — некорректное  \n",
    "- **`error_type`** — тип грамматической ошибки (например, `Syntax`, `Semantics`), либо `0`, если предложение корректное  \n",
    "- **`detailed_source`** — источник/корпус, из которого взято предложение"
   ]
  },
  {
   "cell_type": "markdown",
   "id": "HvH9Cf-Jzv-u",
   "metadata": {
    "id": "HvH9Cf-Jzv-u"
   },
   "source": [
    "***Объединим данные для проведения базового EDA***"
   ]
  },
  {
   "cell_type": "code",
   "execution_count": 5,
   "id": "1gbP-zfRzvPo",
   "metadata": {
    "executionInfo": {
     "elapsed": 4,
     "status": "ok",
     "timestamp": 1745168785630,
     "user": {
      "displayName": "Danila Silichshev",
      "userId": "13799801190473562794"
     },
     "user_tz": -300
    },
    "id": "1gbP-zfRzvPo"
   },
   "outputs": [],
   "source": [
    "full_data = pd.concat([train_data, test_data])\n",
    "\n",
    "# Проверка на корректность конкатенации\n",
    "assert full_data.shape == (train_data.shape[0] + test_data.shape[0], train_data.shape[1])"
   ]
  },
  {
   "cell_type": "markdown",
   "id": "kO6krr12yXOh",
   "metadata": {
    "id": "kO6krr12yXOh"
   },
   "source": [
    "Посмотрим на распределение ошибок"
   ]
  },
  {
   "cell_type": "code",
   "execution_count": 6,
   "id": "e0tt_p8ZzFNU",
   "metadata": {
    "colab": {
     "base_uri": "https://localhost:8080/",
     "height": 410
    },
    "executionInfo": {
     "elapsed": 204,
     "status": "ok",
     "timestamp": 1745168785836,
     "user": {
      "displayName": "Danila Silichshev",
      "userId": "13799801190473562794"
     },
     "user_tz": -300
    },
    "id": "e0tt_p8ZzFNU",
    "outputId": "6da37d5a-616e-46a2-cd8d-fe349b6d0d3b"
   },
   "outputs": [
    {
     "data": {
      "image/png": "[encoded data removed]",
      "text/plain": [
       "<Figure size 1000x400 with 1 Axes>"
      ]
     },
     "metadata": {},
     "output_type": "display_data"
    }
   ],
   "source": [
    "errors = full_data.loc[full_data[\"error_type\"] != \"0\", \"error_type\"]\n",
    "\n",
    "fig = plt.figure(figsize=(10, 4))\n",
    "plt.barh(errors.unique(), errors.value_counts().to_list())\n",
    "\n",
    "plt.xlabel(\"Количество\")\n",
    "plt.ylabel(\"Тип ошибки\")\n",
    "plt.title(\"Распределение типов грамматических ошибок\")\n",
    "plt.show()"
   ]
  },
  {
   "cell_type": "markdown",
   "id": "68dFW83_CnOJ",
   "metadata": {
    "id": "68dFW83_CnOJ"
   },
   "source": [
    "Выделим источники с наибольшим и наименьшим количеством ошибок"
   ]
  },
  {
   "cell_type": "code",
   "execution_count": 7,
   "id": "l1ffed1JCmpo",
   "metadata": {
    "colab": {
     "base_uri": "https://localhost:8080/",
     "height": 425
    },
    "executionInfo": {
     "elapsed": 34,
     "status": "ok",
     "timestamp": 1745168785867,
     "user": {
      "displayName": "Danila Silichshev",
      "userId": "13799801190473562794"
     },
     "user_tz": -300
    },
    "id": "l1ffed1JCmpo",
    "outputId": "273a2c48-7484-4ebe-9a7f-24680d293e8b"
   },
   "outputs": [
    {
     "data": {
      "application/vnd.google.colaboratory.intrinsic+json": {
       "summary": "{\n  \"name\": \"                                                      ascending=False)\",\n  \"rows\": 11,\n  \"fields\": [\n    {\n      \"column\": \"detailed_source\",\n      \"properties\": {\n        \"dtype\": \"string\",\n        \"num_unique_values\": 11,\n        \"samples\": [\n          \"Paducheva2013\",\n          \"USE8\",\n          \"Mitrenina\"\n        ],\n        \"semantic_type\": \"\",\n        \"description\": \"\"\n      }\n    },\n    {\n      \"column\": \"is_error\",\n      \"properties\": {\n        \"dtype\": \"number\",\n        \"std\": 197,\n        \"min\": 0,\n        \"max\": 686,\n        \"num_unique_values\": 11,\n        \"samples\": [\n          142,\n          686,\n          20\n        ],\n        \"semantic_type\": \"\",\n        \"description\": \"\"\n      }\n    }\n  ]\n}",
       "type": "dataframe"
      },
      "text/html": [
       "\n",
       "  <div id=\"df-fbdf2399-4515-4ca9-b085-7c3d0cb80adf\" class=\"colab-df-container\">\n",
       "    <div>\n",
       "<style scoped>\n",
       "    .dataframe tbody tr th:only-of-type {\n",
       "        vertical-align: middle;\n",
       "    }\n",
       "\n",
       "    .dataframe tbody tr th {\n",
       "        vertical-align: top;\n",
       "    }\n",
       "\n",
       "    .dataframe thead th {\n",
       "        text-align: right;\n",
       "    }\n",
       "</style>\n",
       "<table border=\"1\" class=\"dataframe\">\n",
       "  <thead>\n",
       "    <tr style=\"text-align: right;\">\n",
       "      <th></th>\n",
       "      <th>is_error</th>\n",
       "    </tr>\n",
       "    <tr>\n",
       "      <th>detailed_source</th>\n",
       "      <th></th>\n",
       "    </tr>\n",
       "  </thead>\n",
       "  <tbody>\n",
       "    <tr>\n",
       "      <th>USE8</th>\n",
       "      <td>686</td>\n",
       "    </tr>\n",
       "    <tr>\n",
       "      <th>Seliverstova</th>\n",
       "      <td>359</td>\n",
       "    </tr>\n",
       "    <tr>\n",
       "      <th>Testelets</th>\n",
       "      <td>316</td>\n",
       "    </tr>\n",
       "    <tr>\n",
       "      <th>Rusgram</th>\n",
       "      <td>252</td>\n",
       "    </tr>\n",
       "    <tr>\n",
       "      <th>Paducheva2010</th>\n",
       "      <td>187</td>\n",
       "    </tr>\n",
       "    <tr>\n",
       "      <th>Paducheva2013</th>\n",
       "      <td>142</td>\n",
       "    </tr>\n",
       "    <tr>\n",
       "      <th>USE7</th>\n",
       "      <td>141</td>\n",
       "    </tr>\n",
       "    <tr>\n",
       "      <th>Paducheva2004</th>\n",
       "      <td>113</td>\n",
       "    </tr>\n",
       "    <tr>\n",
       "      <th>Lutikova</th>\n",
       "      <td>39</td>\n",
       "    </tr>\n",
       "    <tr>\n",
       "      <th>Mitrenina</th>\n",
       "      <td>20</td>\n",
       "    </tr>\n",
       "    <tr>\n",
       "      <th>USE5</th>\n",
       "      <td>0</td>\n",
       "    </tr>\n",
       "  </tbody>\n",
       "</table>\n",
       "</div>\n",
       "    <div class=\"colab-df-buttons\">\n",
       "\n",
       "  <div class=\"colab-df-container\">\n",
       "    <button class=\"colab-df-convert\" onclick=\"convertToInteractive('df-fbdf2399-4515-4ca9-b085-7c3d0cb80adf')\"\n",
       "            title=\"Convert this dataframe to an interactive table.\"\n",
       "            style=\"display:none;\">\n",
       "\n",
       "  <svg xmlns=\"http://www.w3.org/2000/svg\" height=\"24px\" viewBox=\"0 -960 960 960\">\n",
       "    <path d=\"M120-120v-720h720v720H120Zm60-500h600v-160H180v160Zm220 220h160v-160H400v160Zm0 220h160v-160H400v160ZM180-400h160v-160H180v160Zm440 0h160v-160H620v160ZM180-180h160v-160H180v160Zm440 0h160v-160H620v160Z\"/>\n",
       "  </svg>\n",
       "    </button>\n",
       "\n",
       "  <style>\n",
       "    .colab-df-container {\n",
       "      display:flex;\n",
       "      gap: 12px;\n",
       "    }\n",
       "\n",
       "    .colab-df-convert {\n",
       "      background-color: #E8F0FE;\n",
       "      border: none;\n",
       "      border-radius: 50%;\n",
       "      cursor: pointer;\n",
       "      display: none;\n",
       "      fill: #1967D2;\n",
       "      height: 32px;\n",
       "      padding: 0 0 0 0;\n",
       "      width: 32px;\n",
       "    }\n",
       "\n",
       "    .colab-df-convert:hover {\n",
       "      background-color: #E2EBFA;\n",
       "      box-shadow: 0px 1px 2px rgba(60, 64, 67, 0.3), 0px 1px 3px 1px rgba(60, 64, 67, 0.15);\n",
       "      fill: #174EA6;\n",
       "    }\n",
       "\n",
       "    .colab-df-buttons div {\n",
       "      margin-bottom: 4px;\n",
       "    }\n",
       "\n",
       "    [theme=dark] .colab-df-convert {\n",
       "      background-color: #3B4455;\n",
       "      fill: #D2E3FC;\n",
       "    }\n",
       "\n",
       "    [theme=dark] .colab-df-convert:hover {\n",
       "      background-color: #434B5C;\n",
       "      box-shadow: 0px 1px 3px 1px rgba(0, 0, 0, 0.15);\n",
       "      filter: drop-shadow(0px 1px 2px rgba(0, 0, 0, 0.3));\n",
       "      fill: #FFFFFF;\n",
       "    }\n",
       "  </style>\n",
       "\n",
       "    <script>\n",
       "      const buttonEl =\n",
       "        document.querySelector('#df-fbdf2399-4515-4ca9-b085-7c3d0cb80adf button.colab-df-convert');\n",
       "      buttonEl.style.display =\n",
       "        google.colab.kernel.accessAllowed ? 'block' : 'none';\n",
       "\n",
       "      async function convertToInteractive(key) {\n",
       "        const element = document.querySelector('#df-fbdf2399-4515-4ca9-b085-7c3d0cb80adf');\n",
       "        const dataTable =\n",
       "          await google.colab.kernel.invokeFunction('convertToInteractive',\n",
       "                                                    [key], {});\n",
       "        if (!dataTable) return;\n",
       "\n",
       "        const docLinkHtml = 'Like what you see? Visit the ' +\n",
       "          '<a target=\"_blank\" href=https://colab.research.google.com/notebooks/data_table.ipynb>data table notebook</a>'\n",
       "          + ' to learn more about interactive tables.';\n",
       "        element.innerHTML = '';\n",
       "        dataTable['output_type'] = 'display_data';\n",
       "        await google.colab.output.renderOutput(dataTable, element);\n",
       "        const docLink = document.createElement('div');\n",
       "        docLink.innerHTML = docLinkHtml;\n",
       "        element.appendChild(docLink);\n",
       "      }\n",
       "    </script>\n",
       "  </div>\n",
       "\n",
       "\n",
       "<div id=\"df-b27651b3-b979-453d-869d-040a71cc81ab\">\n",
       "  <button class=\"colab-df-quickchart\" onclick=\"quickchart('df-b27651b3-b979-453d-869d-040a71cc81ab')\"\n",
       "            title=\"Suggest charts\"\n",
       "            style=\"display:none;\">\n",
       "\n",
       "<svg xmlns=\"http://www.w3.org/2000/svg\" height=\"24px\"viewBox=\"0 0 24 24\"\n",
       "     width=\"24px\">\n",
       "    <g>\n",
       "        <path d=\"M19 3H5c-1.1 0-2 .9-2 2v14c0 1.1.9 2 2 2h14c1.1 0 2-.9 2-2V5c0-1.1-.9-2-2-2zM9 17H7v-7h2v7zm4 0h-2V7h2v10zm4 0h-2v-4h2v4z\"/>\n",
       "    </g>\n",
       "</svg>\n",
       "  </button>\n",
       "\n",
       "<style>\n",
       "  .colab-df-quickchart {\n",
       "      --bg-color: #E8F0FE;\n",
       "      --fill-color: #1967D2;\n",
       "      --hover-bg-color: #E2EBFA;\n",
       "      --hover-fill-color: #174EA6;\n",
       "      --disabled-fill-color: #AAA;\n",
       "      --disabled-bg-color: #DDD;\n",
       "  }\n",
       "\n",
       "  [theme=dark] .colab-df-quickchart {\n",
       "      --bg-color: #3B4455;\n",
       "      --fill-color: #D2E3FC;\n",
       "      --hover-bg-color: #434B5C;\n",
       "      --hover-fill-color: #FFFFFF;\n",
       "      --disabled-bg-color: #3B4455;\n",
       "      --disabled-fill-color: #666;\n",
       "  }\n",
       "\n",
       "  .colab-df-quickchart {\n",
       "    background-color: var(--bg-color);\n",
       "    border: none;\n",
       "    border-radius: 50%;\n",
       "    cursor: pointer;\n",
       "    display: none;\n",
       "    fill: var(--fill-color);\n",
       "    height: 32px;\n",
       "    padding: 0;\n",
       "    width: 32px;\n",
       "  }\n",
       "\n",
       "  .colab-df-quickchart:hover {\n",
       "    background-color: var(--hover-bg-color);\n",
       "    box-shadow: 0 1px 2px rgba(60, 64, 67, 0.3), 0 1px 3px 1px rgba(60, 64, 67, 0.15);\n",
       "    fill: var(--button-hover-fill-color);\n",
       "  }\n",
       "\n",
       "  .colab-df-quickchart-complete:disabled,\n",
       "  .colab-df-quickchart-complete:disabled:hover {\n",
       "    background-color: var(--disabled-bg-color);\n",
       "    fill: var(--disabled-fill-color);\n",
       "    box-shadow: none;\n",
       "  }\n",
       "\n",
       "  .colab-df-spinner {\n",
       "    border: 2px solid var(--fill-color);\n",
       "    border-color: transparent;\n",
       "    border-bottom-color: var(--fill-color);\n",
       "    animation:\n",
       "      spin 1s steps(1) infinite;\n",
       "  }\n",
       "\n",
       "  @keyframes spin {\n",
       "    0% {\n",
       "      border-color: transparent;\n",
       "      border-bottom-color: var(--fill-color);\n",
       "      border-left-color: var(--fill-color);\n",
       "    }\n",
       "    20% {\n",
       "      border-color: transparent;\n",
       "      border-left-color: var(--fill-color);\n",
       "      border-top-color: var(--fill-color);\n",
       "    }\n",
       "    30% {\n",
       "      border-color: transparent;\n",
       "      border-left-color: var(--fill-color);\n",
       "      border-top-color: var(--fill-color);\n",
       "      border-right-color: var(--fill-color);\n",
       "    }\n",
       "    40% {\n",
       "      border-color: transparent;\n",
       "      border-right-color: var(--fill-color);\n",
       "      border-top-color: var(--fill-color);\n",
       "    }\n",
       "    60% {\n",
       "      border-color: transparent;\n",
       "      border-right-color: var(--fill-color);\n",
       "    }\n",
       "    80% {\n",
       "      border-color: transparent;\n",
       "      border-right-color: var(--fill-color);\n",
       "      border-bottom-color: var(--fill-color);\n",
       "    }\n",
       "    90% {\n",
       "      border-color: transparent;\n",
       "      border-bottom-color: var(--fill-color);\n",
       "    }\n",
       "  }\n",
       "</style>\n",
       "\n",
       "  <script>\n",
       "    async function quickchart(key) {\n",
       "      const quickchartButtonEl =\n",
       "        document.querySelector('#' + key + ' button');\n",
       "      quickchartButtonEl.disabled = true;  // To prevent multiple clicks.\n",
       "      quickchartButtonEl.classList.add('colab-df-spinner');\n",
       "      try {\n",
       "        const charts = await google.colab.kernel.invokeFunction(\n",
       "            'suggestCharts', [key], {});\n",
       "      } catch (error) {\n",
       "        console.error('Error during call to suggestCharts:', error);\n",
       "      }\n",
       "      quickchartButtonEl.classList.remove('colab-df-spinner');\n",
       "      quickchartButtonEl.classList.add('colab-df-quickchart-complete');\n",
       "    }\n",
       "    (() => {\n",
       "      let quickchartButtonEl =\n",
       "        document.querySelector('#df-b27651b3-b979-453d-869d-040a71cc81ab button');\n",
       "      quickchartButtonEl.style.display =\n",
       "        google.colab.kernel.accessAllowed ? 'block' : 'none';\n",
       "    })();\n",
       "  </script>\n",
       "</div>\n",
       "\n",
       "    </div>\n",
       "  </div>\n"
      ],
      "text/plain": [
       "                 is_error\n",
       "detailed_source          \n",
       "USE8                  686\n",
       "Seliverstova          359\n",
       "Testelets             316\n",
       "Rusgram               252\n",
       "Paducheva2010         187\n",
       "Paducheva2013         142\n",
       "USE7                  141\n",
       "Paducheva2004         113\n",
       "Lutikova               39\n",
       "Mitrenina              20\n",
       "USE5                    0"
      ]
     },
     "execution_count": 7,
     "metadata": {},
     "output_type": "execute_result"
    }
   ],
   "source": [
    "full_data[\"is_error\"] = full_data[\"acceptable\"] == 0\n",
    "\n",
    "data_by_source = full_data.groupby(\"detailed_source\")\n",
    "data_by_source.agg({\"is_error\": \"sum\"}).sort_values(by=\"is_error\",\n",
    "                                                      ascending=False)"
   ]
  },
  {
   "cell_type": "code",
   "execution_count": 8,
   "id": "EjFIBODaFId9",
   "metadata": {
    "colab": {
     "base_uri": "https://localhost:8080/",
     "height": 490
    },
    "executionInfo": {
     "elapsed": 525,
     "status": "ok",
     "timestamp": 1745168786391,
     "user": {
      "displayName": "Danila Silichshev",
      "userId": "13799801190473562794"
     },
     "user_tz": -300
    },
    "id": "EjFIBODaFId9",
    "outputId": "743f89de-43e4-45e6-dfd3-0020825154ae"
   },
   "outputs": [
    {
     "data": {
      "image/png": "[encoded data removed]",
      "text/plain": [
       "<Figure size 1400x600 with 1 Axes>"
      ]
     },
     "metadata": {},
     "output_type": "display_data"
    }
   ],
   "source": [
    "full_data[\"with_errors\"] = full_data[\"is_error\"].replace({\n",
    "    True: \"C ошибками\",\n",
    "    False: \"Без ошибок\"\n",
    "})\n",
    "\n",
    "plt.figure(figsize=(14, 6))\n",
    "sns.countplot(data=full_data, x=\"detailed_source\", hue=\"with_errors\",\n",
    "              order=full_data[\"detailed_source\"].value_counts().index)\n",
    "\n",
    "plt.xlabel(\"Источник\")\n",
    "plt.ylabel(\"Количество текстов\")\n",
    "plt.title(\"Количество корректных и некорректных текстов по источникам\")\n",
    "plt.xticks(rotation=45)\n",
    "plt.legend(title=\"Тексты\")\n",
    "plt.tight_layout()\n",
    "plt.show()"
   ]
  },
  {
   "cell_type": "markdown",
   "id": "Jpgw_8sM2NtR",
   "metadata": {
    "id": "Jpgw_8sM2NtR"
   },
   "source": [
    "**Анализ таргета**"
   ]
  },
  {
   "cell_type": "code",
   "execution_count": 9,
   "id": "ae3AGIo90GDZ",
   "metadata": {
    "colab": {
     "base_uri": "https://localhost:8080/",
     "height": 445
    },
    "executionInfo": {
     "elapsed": 117,
     "status": "ok",
     "timestamp": 1745168786510,
     "user": {
      "displayName": "Danila Silichshev",
      "userId": "13799801190473562794"
     },
     "user_tz": -300
    },
    "id": "ae3AGIo90GDZ",
    "outputId": "33e50662-a31c-4e1d-923a-69c2bc30547f"
   },
   "outputs": [
    {
     "data": {
      "text/plain": [
       "<Axes: title={'center': 'Распределение по целевому признаку acceptability'}, ylabel='Доля'>"
      ]
     },
     "execution_count": 9,
     "metadata": {},
     "output_type": "execute_result"
    },
    {
     "data": {
      "image/png": "[encoded data removed]",
      "text/plain": [
       "<Figure size 640x480 with 1 Axes>"
      ]
     },
     "metadata": {},
     "output_type": "display_data"
    }
   ],
   "source": [
    "full_data[\"acceptable\"].value_counts().plot.pie(\n",
    "    autopct='%1.1f%%', startangle=90, ylabel=\"Доля\",\n",
    "    labels=[\"Грамматически правильно\", \"Грамматически неправильно\"],\n",
    "    title=\"Распределение по целевому признаку acceptability\"\n",
    ")"
   ]
  },
  {
   "cell_type": "markdown",
   "id": "NZNiUlDF0HfV",
   "metadata": {
    "id": "NZNiUlDF0HfV"
   },
   "source": [
    "#### **Дисбаланс классов в данных есть, но он не критичный**"
   ]
  },
  {
   "cell_type": "markdown",
   "id": "9Ioo7KEo3G12",
   "metadata": {
    "id": "9Ioo7KEo3G12"
   },
   "source": [
    "## Построение модели"
   ]
  },
  {
   "cell_type": "markdown",
   "id": "BW2m-UmV2txJ",
   "metadata": {
    "id": "BW2m-UmV2txJ"
   },
   "source": [
    "***Выделим валидационную выборку***"
   ]
  },
  {
   "cell_type": "code",
   "execution_count": 10,
   "id": "rEV6Xz6o3FPp",
   "metadata": {
    "colab": {
     "base_uri": "https://localhost:8080/"
    },
    "executionInfo": {
     "elapsed": 13,
     "status": "ok",
     "timestamp": 1745168786521,
     "user": {
      "displayName": "Danila Silichshev",
      "userId": "13799801190473562794"
     },
     "user_tz": -300
    },
    "id": "rEV6Xz6o3FPp",
    "outputId": "b1e282e7-4419-46c5-d94d-89a023b4639f"
   },
   "outputs": [
    {
     "name": "stdout",
     "output_type": "stream",
     "text": [
      "(7082, 4) (787, 4)\n"
     ]
    }
   ],
   "source": [
    "train_data, val_data = train_test_split(train_data, test_size=0.1,\n",
    "                                        random_state=42,\n",
    "                                        stratify=train_data[\"acceptable\"])\n",
    "\n",
    "print(train_data.shape, val_data.shape)"
   ]
  },
  {
   "cell_type": "markdown",
   "id": "jcocKvDiLV59",
   "metadata": {
    "id": "jcocKvDiLV59"
   },
   "source": [
    "### Токенизация"
   ]
  },
  {
   "cell_type": "code",
   "execution_count": 11,
   "id": "RgdLWZFHKaYY",
   "metadata": {
    "colab": {
     "base_uri": "https://localhost:8080/"
    },
    "executionInfo": {
     "elapsed": 2208,
     "status": "ok",
     "timestamp": 1745168788730,
     "user": {
      "displayName": "Danila Silichshev",
      "userId": "13799801190473562794"
     },
     "user_tz": -300
    },
    "id": "RgdLWZFHKaYY",
    "outputId": "8a37335d-a058-4215-b2b9-f0f8255f14c8"
   },
   "outputs": [
    {
     "name": "stderr",
     "output_type": "stream",
     "text": [
      "/usr/local/lib/python3.11/dist-packages/huggingface_hub/file_download.py:896: FutureWarning: `resume_download` is deprecated and will be removed in version 1.0.0. Downloads always resume when possible. If you want to force a new download, use `force_download=True`.\n",
      "  warnings.warn(\n",
      "/usr/local/lib/python3.11/dist-packages/huggingface_hub/utils/_auth.py:94: UserWarning: \n",
      "The secret `HF_TOKEN` does not exist in your Colab secrets.\n",
      "To authenticate with the Hugging Face Hub, create a token in your settings tab (https://huggingface.co/settings/tokens), set it as secret in your Google Colab and restart your session.\n",
      "You will be able to reuse this secret in all of your notebooks.\n",
      "Please note that authentication is recommended but still optional to access public models or datasets.\n",
      "  warnings.warn(\n"
     ]
    }
   ],
   "source": [
    "model_name = \"DeepPavlov/rubert-base-cased\"\n",
    "tokenizer = AutoTokenizer.from_pretrained(model_name)\n",
    "\n",
    "# Преобразуем в Hugging Face Dataset\n",
    "train_dataset = Dataset.from_pandas(train_data)\n",
    "val_dataset = Dataset.from_pandas(val_data)"
   ]
  },
  {
   "cell_type": "markdown",
   "id": "KXjkVSJhuSPv",
   "metadata": {
    "id": "KXjkVSJhuSPv"
   },
   "source": [
    "***Оценим максимальное количество токенов, которое потребуется при токенизации***"
   ]
  },
  {
   "cell_type": "code",
   "execution_count": 12,
   "id": "AohSfZIitRrX",
   "metadata": {
    "colab": {
     "base_uri": "https://localhost:8080/"
    },
    "executionInfo": {
     "elapsed": 1187,
     "status": "ok",
     "timestamp": 1745168790054,
     "user": {
      "displayName": "Danila Silichshev",
      "userId": "13799801190473562794"
     },
     "user_tz": -300
    },
    "id": "AohSfZIitRrX",
    "outputId": "8c4a317f-a3f4-46cf-ad46-505a5670343b"
   },
   "outputs": [
    {
     "data": {
      "text/plain": [
       "46"
      ]
     },
     "execution_count": 12,
     "metadata": {},
     "output_type": "execute_result"
    }
   ],
   "source": [
    "full_data[\"token_len\"] = full_data[\"sentence\"].apply(\n",
    "    lambda x: len(tokenizer.encode(x, add_special_tokens=True))\n",
    ")\n",
    "\n",
    "full_data[\"token_len\"].max()"
   ]
  },
  {
   "cell_type": "code",
   "execution_count": 13,
   "id": "UAFUbVurM7vf",
   "metadata": {
    "colab": {
     "base_uri": "https://localhost:8080/",
     "height": 220,
     "referenced_widgets": [
      "d7a9066be69845288ba6c2d799822a01",
      "7894675a37cf44319c3aa5d472f8c07d",
      "8461855bb6c348ea8d2fa535f4908100",
      "3faf8faffd414f17b2bd46965f20ca97",
      "7fd136ee913e41e08d7a6e0ea9757b3f",
      "2e2a335f2f814e6289deda8109b247d3",
      "65b6c32ecb434b3a898ad3c224abcd24",
      "b091d4a286514504bacfeb61c5a39287",
      "161b8c95139e4824bbe6858c704e0bed",
      "281923ff543f426db940806cfbc3bcdb",
      "8225f84088b14c2ca8c2a70bf731841e",
      "e0fef9c88e2747288210ba48e133437a",
      "d54166d8d7554472a3fa7f0d43139055",
      "b03e6b52a4584fd5a71298cb9aa41fed",
      "449f7afcc4a54e85a085c14788155753",
      "0b099a5451514a969bfc10647bb1deee",
      "9c1a37a18d1b48e5838e03bccbbb1821",
      "3518378d7e6c4de08ca6b72b0223f3a8",
      "1210b65b6c6843428bb5abb4ba7352c8",
      "58e67efadd56468e9df0db6d0aa617c5",
      "5df7ebfc7d27461fba93c562f52a296d",
      "b7fc0a98fa3d41cf93e55879504369e5"
     ]
    },
    "executionInfo": {
     "elapsed": 2507,
     "status": "ok",
     "timestamp": 1745168792563,
     "user": {
      "displayName": "Danila Silichshev",
      "userId": "13799801190473562794"
     },
     "user_tz": -300
    },
    "id": "UAFUbVurM7vf",
    "outputId": "76bf0d7b-cd9e-4250-b4b2-7e1302701440"
   },
   "outputs": [
    {
     "data": {
      "application/vnd.jupyter.widget-view+json": {
       "model_id": "d7a9066be69845288ba6c2d799822a01",
       "version_major": 2,
       "version_minor": 0
      },
      "text/plain": [
       "Map:   0%|          | 0/7082 [00:00<?, ? examples/s]"
      ]
     },
     "metadata": {},
     "output_type": "display_data"
    },
    {
     "data": {
      "application/vnd.jupyter.widget-view+json": {
       "model_id": "e0fef9c88e2747288210ba48e133437a",
       "version_major": 2,
       "version_minor": 0
      },
      "text/plain": [
       "Map:   0%|          | 0/787 [00:00<?, ? examples/s]"
      ]
     },
     "metadata": {},
     "output_type": "display_data"
    },
    {
     "data": {
      "text/plain": [
       "(Dataset({\n",
       "     features: ['acceptable', 'error_type', 'detailed_source', 'id', 'input_ids', 'token_type_ids', 'attention_mask'],\n",
       "     num_rows: 7082\n",
       " }),\n",
       " Dataset({\n",
       "     features: ['acceptable', 'error_type', 'detailed_source', 'id', 'input_ids', 'token_type_ids', 'attention_mask'],\n",
       "     num_rows: 787\n",
       " }))"
      ]
     },
     "execution_count": 13,
     "metadata": {},
     "output_type": "execute_result"
    }
   ],
   "source": [
    "train_dataset = train_dataset.map(\n",
    "    lambda x: tokenizer(x[\"sentence\"], truncation=True,\n",
    "                        padding=\"max_length\", max_length=64),\n",
    "    batched=True,\n",
    "    remove_columns=[\"sentence\"]\n",
    ")\n",
    "\n",
    "val_dataset = val_dataset.map(\n",
    "    lambda x: tokenizer(x[\"sentence\"], truncation=True,\n",
    "                        padding=\"max_length\", max_length=64),\n",
    "    batched=True,\n",
    "    remove_columns=[\"sentence\"]\n",
    ")\n",
    "\n",
    "train_dataset, val_dataset"
   ]
  },
  {
   "cell_type": "code",
   "execution_count": 14,
   "id": "Ryzk3mzYM9IV",
   "metadata": {
    "executionInfo": {
     "elapsed": 20,
     "status": "ok",
     "timestamp": 1745168792584,
     "user": {
      "displayName": "Danila Silichshev",
      "userId": "13799801190473562794"
     },
     "user_tz": -300
    },
    "id": "Ryzk3mzYM9IV"
   },
   "outputs": [],
   "source": [
    "# Удалим лишние поля (всё кроме нужных)\n",
    "columns_to_keep = [\"input_ids\", \"attention_mask\", \"acceptable\"]\n",
    "\n",
    "train_dataset = train_dataset.remove_columns(\n",
    "    [col for col in train_dataset.column_names if col not in columns_to_keep])\n",
    "val_dataset = val_dataset.remove_columns(\n",
    "    [col for col in val_dataset.column_names if col not in columns_to_keep])\n",
    "\n",
    "# Переименуем для модели\n",
    "train_dataset = train_dataset.rename_column(\"acceptable\", \"labels\")\n",
    "val_dataset = val_dataset.rename_column(\"acceptable\", \"labels\")\n",
    "\n",
    "# Установим формат torch\n",
    "train_dataset.set_format(\"torch\")\n",
    "val_dataset.set_format(\"torch\")"
   ]
  },
  {
   "cell_type": "markdown",
   "id": "dY6-qApoOJX9",
   "metadata": {
    "id": "dY6-qApoOJX9"
   },
   "source": [
    "###  Дообучение (Fine-tune) RuBERT на датасете RuCoLA для классификации текста"
   ]
  },
  {
   "cell_type": "markdown",
   "id": "BIf3Az9hVlPs",
   "metadata": {
    "id": "BIf3Az9hVlPs"
   },
   "source": [
    "#### Загрузка модели"
   ]
  },
  {
   "cell_type": "code",
   "execution_count": 15,
   "id": "ZjbgnMyvTTQi",
   "metadata": {
    "colab": {
     "base_uri": "https://localhost:8080/"
    },
    "executionInfo": {
     "elapsed": 7819,
     "status": "ok",
     "timestamp": 1745168800405,
     "user": {
      "displayName": "Danila Silichshev",
      "userId": "13799801190473562794"
     },
     "user_tz": -300
    },
    "id": "ZjbgnMyvTTQi",
    "outputId": "3b0c5e3d-7ea8-4968-fdcb-348db25b3a05"
   },
   "outputs": [
    {
     "name": "stderr",
     "output_type": "stream",
     "text": [
      "/usr/local/lib/python3.11/dist-packages/huggingface_hub/file_download.py:896: FutureWarning: `resume_download` is deprecated and will be removed in version 1.0.0. Downloads always resume when possible. If you want to force a new download, use `force_download=True`.\n",
      "  warnings.warn(\n",
      "Some weights of the model checkpoint at DeepPavlov/rubert-base-cased were not used when initializing BertForSequenceClassification: ['cls.predictions.decoder.bias', 'cls.seq_relationship.bias', 'cls.predictions.transform.dense.bias', 'cls.predictions.transform.LayerNorm.bias', 'cls.predictions.transform.dense.weight', 'cls.seq_relationship.weight', 'cls.predictions.transform.LayerNorm.weight', 'cls.predictions.bias', 'cls.predictions.decoder.weight']\n",
      "- This IS expected if you are initializing BertForSequenceClassification from the checkpoint of a model trained on another task or with another architecture (e.g. initializing a BertForSequenceClassification model from a BertForPreTraining model).\n",
      "- This IS NOT expected if you are initializing BertForSequenceClassification from the checkpoint of a model that you expect to be exactly identical (initializing a BertForSequenceClassification model from a BertForSequenceClassification model).\n",
      "Some weights of BertForSequenceClassification were not initialized from the model checkpoint at DeepPavlov/rubert-base-cased and are newly initialized: ['classifier.weight', 'classifier.bias']\n",
      "You should probably TRAIN this model on a down-stream task to be able to use it for predictions and inference.\n"
     ]
    }
   ],
   "source": [
    "model = AutoModelForSequenceClassification.from_pretrained(model_name, num_labels=2)"
   ]
  },
  {
   "cell_type": "markdown",
   "id": "qMuvdS2qTsI9",
   "metadata": {
    "id": "qMuvdS2qTsI9"
   },
   "source": [
    "#### Задание метрики"
   ]
  },
  {
   "cell_type": "code",
   "execution_count": 16,
   "id": "xB27gHs2Topb",
   "metadata": {
    "executionInfo": {
     "elapsed": 452,
     "status": "ok",
     "timestamp": 1745168800892,
     "user": {
      "displayName": "Danila Silichshev",
      "userId": "13799801190473562794"
     },
     "user_tz": -300
    },
    "id": "xB27gHs2Topb"
   },
   "outputs": [],
   "source": [
    "f1 = evaluate.load(\"f1\")\n",
    "\n",
    "def compute_metrics(eval_pred):\n",
    "    logits, labels = eval_pred\n",
    "    predictions = logits.argmax(axis=-1)\n",
    "    return f1.compute(predictions=predictions, references=labels)"
   ]
  },
  {
   "cell_type": "markdown",
   "id": "_CsGrD9OUtiu",
   "metadata": {
    "id": "_CsGrD9OUtiu"
   },
   "source": [
    "#### Аргументы обучения"
   ]
  },
  {
   "cell_type": "code",
   "execution_count": 17,
   "id": "bg8QRt9gUo3q",
   "metadata": {
    "executionInfo": {
     "elapsed": 106,
     "status": "ok",
     "timestamp": 1745168800997,
     "user": {
      "displayName": "Danila Silichshev",
      "userId": "13799801190473562794"
     },
     "user_tz": -300
    },
    "id": "bg8QRt9gUo3q"
   },
   "outputs": [],
   "source": [
    "training_args = TrainingArguments(\n",
    "    output_dir=\"./results\",\n",
    "    evaluation_strategy=\"epoch\",\n",
    "    save_strategy=\"epoch\",\n",
    "    learning_rate=2e-5,\n",
    "    per_device_train_batch_size=16,\n",
    "    per_device_eval_batch_size=64,\n",
    "    num_train_epochs=5,\n",
    "    weight_decay=0.01,\n",
    "    load_best_model_at_end=True,\n",
    "    metric_for_best_model=\"f1\",\n",
    "    report_to=\"none\"\n",
    ")"
   ]
  },
  {
   "cell_type": "markdown",
   "id": "_cqIEq5-R5t_",
   "metadata": {
    "id": "_cqIEq5-R5t_"
   },
   "source": [
    "#### Обучение модели BERT (rubert-base-cased) с использованием Hugging Face Trainer"
   ]
  },
  {
   "cell_type": "code",
   "execution_count": 18,
   "id": "CEZnaj2lR4we",
   "metadata": {
    "colab": {
     "base_uri": "https://localhost:8080/"
    },
    "executionInfo": {
     "elapsed": 15,
     "status": "ok",
     "timestamp": 1745168801013,
     "user": {
      "displayName": "Danila Silichshev",
      "userId": "13799801190473562794"
     },
     "user_tz": -300
    },
    "id": "CEZnaj2lR4we",
    "outputId": "43f91666-4118-47cd-d303-260d02bfd5e8"
   },
   "outputs": [
    {
     "name": "stdout",
     "output_type": "stream",
     "text": [
      "Tesla T4\n"
     ]
    }
   ],
   "source": [
    "print(torch.cuda.get_device_name(0) if torch.cuda.is_available() else \"GPU недоступен\")"
   ]
  },
  {
   "cell_type": "code",
   "execution_count": 19,
   "id": "safsVcGAR4aD",
   "metadata": {
    "executionInfo": {
     "elapsed": 389,
     "status": "ok",
     "timestamp": 1745168801403,
     "user": {
      "displayName": "Danila Silichshev",
      "userId": "13799801190473562794"
     },
     "user_tz": -300
    },
    "id": "safsVcGAR4aD"
   },
   "outputs": [],
   "source": [
    "trainer = Trainer(\n",
    "    model=model,\n",
    "    args=training_args,\n",
    "    train_dataset=train_dataset,\n",
    "    eval_dataset=val_dataset,\n",
    "    compute_metrics=compute_metrics\n",
    ")"
   ]
  },
  {
   "cell_type": "code",
   "execution_count": 20,
   "id": "Ah8clObGQe_6",
   "metadata": {
    "colab": {
     "base_uri": "https://localhost:8080/",
     "height": 321
    },
    "executionInfo": {
     "elapsed": 645552,
     "status": "ok",
     "timestamp": 1745169446954,
     "user": {
      "displayName": "Danila Silichshev",
      "userId": "13799801190473562794"
     },
     "user_tz": -300
    },
    "id": "Ah8clObGQe_6",
    "outputId": "1506cb81-d622-4b95-892d-cf21519039a9"
   },
   "outputs": [
    {
     "name": "stderr",
     "output_type": "stream",
     "text": [
      "/usr/local/lib/python3.11/dist-packages/transformers/optimization.py:391: FutureWarning: This implementation of AdamW is deprecated and will be removed in a future version. Use the PyTorch implementation torch.optim.AdamW instead, or set `no_deprecation_warning=True` to disable this warning\n",
      "  warnings.warn(\n"
     ]
    },
    {
     "data": {
      "text/html": [
       "\n",
       "    <div>\n",
       "      \n",
       "      <progress value='2215' max='2215' style='width:300px; height:20px; vertical-align: middle;'></progress>\n",
       "      [2215/2215 10:43, Epoch 5/5]\n",
       "    </div>\n",
       "    <table border=\"1\" class=\"dataframe\">\n",
       "  <thead>\n",
       " <tr style=\"text-align: left;\">\n",
       "      <th>Epoch</th>\n",
       "      <th>Training Loss</th>\n",
       "      <th>Validation Loss</th>\n",
       "      <th>F1</th>\n",
       "    </tr>\n",
       "  </thead>\n",
       "  <tbody>\n",
       "    <tr>\n",
       "      <td>1</td>\n",
       "      <td>No log</td>\n",
       "      <td>0.513280</td>\n",
       "      <td>0.863706</td>\n",
       "    </tr>\n",
       "    <tr>\n",
       "      <td>2</td>\n",
       "      <td>0.536000</td>\n",
       "      <td>0.501005</td>\n",
       "      <td>0.871560</td>\n",
       "    </tr>\n",
       "    <tr>\n",
       "      <td>3</td>\n",
       "      <td>0.397700</td>\n",
       "      <td>0.600516</td>\n",
       "      <td>0.863745</td>\n",
       "    </tr>\n",
       "    <tr>\n",
       "      <td>4</td>\n",
       "      <td>0.239200</td>\n",
       "      <td>0.787239</td>\n",
       "      <td>0.857847</td>\n",
       "    </tr>\n",
       "    <tr>\n",
       "      <td>5</td>\n",
       "      <td>0.155100</td>\n",
       "      <td>1.033003</td>\n",
       "      <td>0.862208</td>\n",
       "    </tr>\n",
       "  </tbody>\n",
       "</table><p>"
      ],
      "text/plain": [
       "<IPython.core.display.HTML object>"
      ]
     },
     "metadata": {},
     "output_type": "display_data"
    },
    {
     "data": {
      "text/plain": [
       "TrainOutput(global_step=2215, training_loss=0.3108054847803396, metrics={'train_runtime': 643.9289, 'train_samples_per_second': 54.991, 'train_steps_per_second': 3.44, 'total_flos': 1164595308787200.0, 'train_loss': 0.3108054847803396, 'epoch': 5.0})"
      ]
     },
     "execution_count": 20,
     "metadata": {},
     "output_type": "execute_result"
    }
   ],
   "source": [
    "trainer.train()"
   ]
  },
  {
   "cell_type": "markdown",
   "id": "l-SivFzCVZfC",
   "metadata": {
    "id": "l-SivFzCVZfC"
   },
   "source": [
    "**Лучший результат модель показала на третьей эпохе**"
   ]
  },
  {
   "cell_type": "markdown",
   "id": "H8tocrp0cFeg",
   "metadata": {
    "id": "H8tocrp0cFeg"
   },
   "source": [
    "#### Оценка качества модели на тестовой выборке"
   ]
  },
  {
   "cell_type": "code",
   "execution_count": 21,
   "id": "tU8z7lF_cRQ1",
   "metadata": {
    "colab": {
     "base_uri": "https://localhost:8080/",
     "height": 49,
     "referenced_widgets": [
      "3e39e4fcd01b4039b2246c1059dd5c71",
      "578bb716c6af44f69c57dfc1a96e7cd5",
      "074c1eb723dd4b04a3504e793ace27f2",
      "c44480dd234e4b2f868aa9b0fcc209ff",
      "3dbed4841e9444e589697a5115afd89a",
      "596ab5373d9a4fdebf4c857de6adf7fe",
      "81c74e5bc9834dd18f31bb151f93f3d5",
      "ac75e68f60f945fe94220d5efed76396",
      "81cbdabbd5904564ac10272478ddcecd",
      "471836c1b4514adf99fcb6cddc24284d",
      "c5d34ed7cee64aa19fe916f1c9f6e54c"
     ]
    },
    "executionInfo": {
     "elapsed": 119,
     "status": "ok",
     "timestamp": 1745169447075,
     "user": {
      "displayName": "Danila Silichshev",
      "userId": "13799801190473562794"
     },
     "user_tz": -300
    },
    "id": "tU8z7lF_cRQ1",
    "outputId": "0ad94421-4700-4b3f-daa2-b3627d10af9a"
   },
   "outputs": [
    {
     "data": {
      "application/vnd.jupyter.widget-view+json": {
       "model_id": "3e39e4fcd01b4039b2246c1059dd5c71",
       "version_major": 2,
       "version_minor": 0
      },
      "text/plain": [
       "Map:   0%|          | 0/983 [00:00<?, ? examples/s]"
      ]
     },
     "metadata": {},
     "output_type": "display_data"
    }
   ],
   "source": [
    "test_dataset = Dataset.from_pandas(test_data)\n",
    "\n",
    "test_dataset = test_dataset.map(\n",
    "    lambda x: tokenizer(x[\"sentence\"], truncation=True, padding=\"max_length\", max_length=64),\n",
    "    batched=True,\n",
    "    remove_columns=[\"sentence\"]\n",
    ")\n",
    "\n",
    "columns_to_keep = [\"input_ids\", \"attention_mask\"]\n",
    "test_dataset = test_dataset.remove_columns([col for col in test_dataset.column_names if col not in columns_to_keep])\n",
    "test_dataset.set_format(\"torch\")"
   ]
  },
  {
   "cell_type": "code",
   "execution_count": 22,
   "id": "QtWwHtVmcbS3",
   "metadata": {
    "colab": {
     "base_uri": "https://localhost:8080/",
     "height": 17
    },
    "executionInfo": {
     "elapsed": 3313,
     "status": "ok",
     "timestamp": 1745169450389,
     "user": {
      "displayName": "Danila Silichshev",
      "userId": "13799801190473562794"
     },
     "user_tz": -300
    },
    "id": "QtWwHtVmcbS3",
    "outputId": "bf8d5629-13c6-4f1d-ad13-037123c872ea"
   },
   "outputs": [
    {
     "data": {
      "text/html": [],
      "text/plain": [
       "<IPython.core.display.HTML object>"
      ]
     },
     "metadata": {},
     "output_type": "display_data"
    }
   ],
   "source": [
    "predictions = trainer.predict(test_dataset)\n",
    "preds = predictions.predictions.argmax(axis=-1)"
   ]
  },
  {
   "cell_type": "code",
   "execution_count": 23,
   "id": "7jW0PEghc0X5",
   "metadata": {
    "colab": {
     "base_uri": "https://localhost:8080/"
    },
    "executionInfo": {
     "elapsed": 16,
     "status": "ok",
     "timestamp": 1745169450411,
     "user": {
      "displayName": "Danila Silichshev",
      "userId": "13799801190473562794"
     },
     "user_tz": -300
    },
    "id": "7jW0PEghc0X5",
    "outputId": "685e6949-db17-4f92-bff7-b153b565bec6"
   },
   "outputs": [
    {
     "name": "stdout",
     "output_type": "stream",
     "text": [
      "              precision    recall  f1-score   support\n",
      "\n",
      "           0      0.828     0.288     0.427       250\n",
      "           1      0.801     0.980     0.882       733\n",
      "\n",
      "    accuracy                          0.804       983\n",
      "   macro avg      0.814     0.634     0.654       983\n",
      "weighted avg      0.808     0.804     0.766       983\n",
      "\n"
     ]
    }
   ],
   "source": [
    "true_labels = test_data[\"acceptable\"].values\n",
    "print(classification_report(true_labels, preds, digits=3))"
   ]
  },
  {
   "cell_type": "markdown",
   "id": "XXpQnpb7gWPi",
   "metadata": {
    "id": "XXpQnpb7gWPi"
   },
   "source": [
    "**Промежуточные итоги:**\n",
    "\n",
    "*   Для дообучения модели на 5ти эпохах понадобилось около 10 минут;\n",
    "*   Наилучшее качество достигается на 2ей эпохе;\n",
    "*   На валидационной выборке качество довольно высокое (F1-score = 0.87);\n",
    "*   На тестовой выборке качество также хорошее, однако проседает recall для минорного класса <br>грамматически неправильных предложений, то есть модель склонна их пропускать\n",
    "\n",
    "\n",
    "\n"
   ]
  },
  {
   "cell_type": "markdown",
   "id": "N9hGTjfggan5",
   "metadata": {
    "id": "N9hGTjfggan5"
   },
   "source": [
    "###Генеративный подход к классификации предложений с помощью RuGPT-3"
   ]
  },
  {
   "cell_type": "markdown",
   "id": "SDyY6j8shmbZ",
   "metadata": {
    "id": "SDyY6j8shmbZ"
   },
   "source": [
    "#### Загрузка модели и токенизатора RuGPT3 (large)"
   ]
  },
  {
   "cell_type": "code",
   "execution_count": 24,
   "id": "e2a5howhgbDg",
   "metadata": {
    "colab": {
     "base_uri": "https://localhost:8080/"
    },
    "executionInfo": {
     "elapsed": 25334,
     "status": "ok",
     "timestamp": 1745169475746,
     "user": {
      "displayName": "Danila Silichshev",
      "userId": "13799801190473562794"
     },
     "user_tz": -300
    },
    "id": "e2a5howhgbDg",
    "outputId": "034a4066-4e52-407b-d9e3-08dee2124c39"
   },
   "outputs": [
    {
     "name": "stderr",
     "output_type": "stream",
     "text": [
      "/usr/local/lib/python3.11/dist-packages/huggingface_hub/file_download.py:896: FutureWarning: `resume_download` is deprecated and will be removed in version 1.0.0. Downloads always resume when possible. If you want to force a new download, use `force_download=True`.\n",
      "  warnings.warn(\n"
     ]
    }
   ],
   "source": [
    "model_name = \"sberbank-ai/rugpt3large_based_on_gpt2\"\n",
    "tokenizer = AutoTokenizer.from_pretrained(model_name)\n",
    "model = AutoModelForCausalLM.from_pretrained(model_name)"
   ]
  },
  {
   "cell_type": "markdown",
   "id": "og8eJUttiX4Z",
   "metadata": {
    "id": "og8eJUttiX4Z"
   },
   "source": [
    "#### Вспомогательные функции"
   ]
  },
  {
   "cell_type": "code",
   "execution_count": 25,
   "id": "slLktrftixqe",
   "metadata": {
    "executionInfo": {
     "elapsed": 3,
     "status": "ok",
     "timestamp": 1745169475752,
     "user": {
      "displayName": "Danila Silichshev",
      "userId": "13799801190473562794"
     },
     "user_tz": -300
    },
    "id": "slLktrftixqe"
   },
   "outputs": [],
   "source": [
    "generative_results = []\n",
    "\n",
    "# Функция генерации ответа\n",
    "def generate(prompt, expected_label, style_name, max_new_tokens=5):\n",
    "    inputs = tokenizer(prompt, return_tensors=\"pt\").to(model.device)\n",
    "    outputs = model.generate(\n",
    "        **inputs,\n",
    "        max_new_tokens=max_new_tokens,   # максимальное число токенов в ответе\n",
    "        do_sample=False,                 # без случайной выборки, только самый вероятный токен\n",
    "        temperature=0.0,                 # строгое поведение, нет случайности, никакой креативности в ответе\n",
    "        top_k=1                          # выбирать только из 1 наиболее вероятного токена\n",
    "    )\n",
    "    decoded = tokenizer.decode(outputs[0], skip_special_tokens=True)\n",
    "    response_raw = decoded[len(prompt):].strip()\n",
    "    response_clean = response_raw.split(\"\\n\")[0].strip()\n",
    "\n",
    "    expected_text = \"корректно\" if expected_label == 1 else \"некорректно\"\n",
    "\n",
    "    print(\"\\n=== Prompt ===\\n\" + prompt)\n",
    "    print(f\"\\n=== Ожидаемый ответ: {expected_text}\")\n",
    "    print(f\"=== Предсказание: {response_clean or '(пусто)'}\")\n",
    "\n",
    "    generative_results.append({\n",
    "        \"sentence\": prompt.split(\"Предложение: \")[-1].split(\"\\n\")[0],\n",
    "        \"expected\": expected_text,\n",
    "        \"predicted\": response_clean,\n",
    "        \"style\": style_name\n",
    "    })"
   ]
  },
  {
   "cell_type": "code",
   "execution_count": 26,
   "id": "qQ2_lD9rh90b",
   "metadata": {
    "executionInfo": {
     "elapsed": 4,
     "status": "ok",
     "timestamp": 1745169475756,
     "user": {
      "displayName": "Danila Silichshev",
      "userId": "13799801190473562794"
     },
     "user_tz": -300
    },
    "id": "qQ2_lD9rh90b"
   },
   "outputs": [],
   "source": [
    "# Стиль 1: Инструкция + предложение\n",
    "def make_prompt_style_1(sentence):\n",
    "    return f\"Оцени, является ли предложение грамматически корректным/некорректным.\\nПредложение: {sentence}\"\n",
    "\n",
    "# Стиль 2: Список примеров (короткий стиль)\n",
    "def make_prompt_style_2(examples, sentence):\n",
    "    lines = \"\\n\".join([f\"{ex} — {'корректно' if label else 'некорректно'}\" for ex, label in examples])\n",
    "    return f\"Оцени грамматическую корректность предложений:\\n{lines}\\n{sentence} —\"\n",
    "\n",
    "# Стиль 3: Словесная инструкция с префиксом\n",
    "def make_prompt_style_3(examples, sentence):\n",
    "    head = \"Определи корректность каждого предложения, отвечай 'корректно' или 'некорректно'.\"\n",
    "    lines = \"\\n\".join([f\"Предложение: {ex}\\nОтвет: {'корректно' if label else 'некорректно'}\" for ex, label in examples])\n",
    "    return f\"{head}\\n{lines}\\nПредложение: {sentence}\""
   ]
  },
  {
   "cell_type": "markdown",
   "id": "lXp2eXxamHIf",
   "metadata": {
    "id": "lXp2eXxamHIf"
   },
   "source": [
    "#### Выборка примеров"
   ]
  },
  {
   "cell_type": "code",
   "execution_count": 27,
   "id": "cTLtogxhiII6",
   "metadata": {
    "executionInfo": {
     "elapsed": 11,
     "status": "ok",
     "timestamp": 1745169475768,
     "user": {
      "displayName": "Danila Silichshev",
      "userId": "13799801190473562794"
     },
     "user_tz": -300
    },
    "id": "cTLtogxhiII6"
   },
   "outputs": [],
   "source": [
    "# Выберем случайным образом 4 предложения для теста и 4 для few-shot\n",
    "\n",
    "samples = test_data.sample(frac=1, random_state=42).reset_index(drop=True)\n",
    "test_sentences = [\n",
    "    (row[\"sentence\"], row[\"acceptable\"])\n",
    "    for _, row in samples.iloc[:4].iterrows()\n",
    "]\n",
    "\n",
    "correct_examples = test_data[test_data[\"acceptable\"] == 1].sample(n=2, random_state=42)\n",
    "incorrect_examples = test_data[test_data[\"acceptable\"] == 0].sample(n=2, random_state=42)\n",
    "\n",
    "examples_df = pd.concat([correct_examples, incorrect_examples]).sample(frac=1, random_state=42).reset_index(drop=True)\n",
    "\n",
    "examples_fewshot = [\n",
    "    (row[\"sentence\"], row[\"acceptable\"])\n",
    "    for _, row in examples_df.iterrows()\n",
    "]"
   ]
  },
  {
   "cell_type": "code",
   "execution_count": 28,
   "id": "Uq4Bp-tnjmhn",
   "metadata": {
    "colab": {
     "base_uri": "https://localhost:8080/"
    },
    "executionInfo": {
     "elapsed": 63251,
     "status": "ok",
     "timestamp": 1745169539021,
     "user": {
      "displayName": "Danila Silichshev",
      "userId": "13799801190473562794"
     },
     "user_tz": -300
    },
    "id": "Uq4Bp-tnjmhn",
    "outputId": "347d443a-fb05-47cb-9460-abdfe2737aa6",
    "scrolled": false
   },
   "outputs": [
    {
     "name": "stdout",
     "output_type": "stream",
     "text": [
      "\n",
      "===== ZERO-SHOT (Style 1) =====\n",
      "\n",
      "=== Prompt ===\n",
      "Оцени, является ли предложение грамматически корректным/некорректным.\n",
      "Предложение: Том и Гек разговаривают.\n",
      "\n",
      "=== Ожидаемый ответ: корректно\n",
      "=== Предсказание: Гек: Том\n",
      "\n",
      "=== Prompt ===\n",
      "Оцени, является ли предложение грамматически корректным/некорректным.\n",
      "Предложение: Я воздержался от каких бы то ни было комментариев.\n",
      "\n",
      "=== Ожидаемый ответ: корректно\n",
      "=== Предсказание: Предложение: Я\n",
      "\n",
      "=== Prompt ===\n",
      "Оцени, является ли предложение грамматически корректным/некорректным.\n",
      "Предложение: В доме был большой круглый стой, все любили собираться и разговаривать в гостиной у него.\n",
      "\n",
      "=== Ожидаемый ответ: некорректно\n",
      "=== Предсказание: Оцени, является\n",
      "\n",
      "=== Prompt ===\n",
      "Оцени, является ли предложение грамматически корректным/некорректным.\n",
      "Предложение: Так я и пойду!\n",
      "\n",
      "=== Ожидаемый ответ: корректно\n",
      "=== Предсказание: Оцени, является\n",
      "\n",
      "===== ONE-SHOT (Style 2) =====\n",
      "\n",
      "=== Prompt ===\n",
      "Оцени грамматическую корректность предложений:\n",
      "В нашем лесу есть озеро. — корректно\n",
      "Том и Гек разговаривают. —\n",
      "\n",
      "=== Ожидаемый ответ: корректно\n",
      "=== Предсказание: корректно\n",
      "\n",
      "=== Prompt ===\n",
      "Оцени грамматическую корректность предложений:\n",
      "В нашем лесу есть озеро. — корректно\n",
      "Я воздержался от каких бы то ни было комментариев. —\n",
      "\n",
      "=== Ожидаемый ответ: корректно\n",
      "=== Предсказание: корректно\n",
      "\n",
      "=== Prompt ===\n",
      "Оцени грамматическую корректность предложений:\n",
      "В нашем лесу есть озеро. — корректно\n",
      "В доме был большой круглый стой, все любили собираться и разговаривать в гостиной у него. —\n",
      "\n",
      "=== Ожидаемый ответ: некорректно\n",
      "=== Предсказание: корректно\n",
      "\n",
      "=== Prompt ===\n",
      "Оцени грамматическую корректность предложений:\n",
      "В нашем лесу есть озеро. — корректно\n",
      "Так я и пойду! —\n",
      "\n",
      "=== Ожидаемый ответ: корректно\n",
      "=== Предсказание: корректно\n",
      "\n",
      "===== TWO-SHOT (Style 2) =====\n",
      "\n",
      "=== Prompt ===\n",
      "Оцени грамматическую корректность предложений:\n",
      "В нашем лесу есть озеро. — корректно\n",
      "Я стою поблизости от Центризбиркома и наблюдаю за тем, что происходит у входа. — некорректно\n",
      "Том и Гек разговаривают. —\n",
      "\n",
      "=== Ожидаемый ответ: корректно\n",
      "=== Предсказание: корректно\n",
      "\n",
      "=== Prompt ===\n",
      "Оцени грамматическую корректность предложений:\n",
      "В нашем лесу есть озеро. — корректно\n",
      "Я стою поблизости от Центризбиркома и наблюдаю за тем, что происходит у входа. — некорректно\n",
      "Я воздержался от каких бы то ни было комментариев. —\n",
      "\n",
      "=== Ожидаемый ответ: корректно\n",
      "=== Предсказание: некорректно\n",
      "\n",
      "=== Prompt ===\n",
      "Оцени грамматическую корректность предложений:\n",
      "В нашем лесу есть озеро. — корректно\n",
      "Я стою поблизости от Центризбиркома и наблюдаю за тем, что происходит у входа. — некорректно\n",
      "В доме был большой круглый стой, все любили собираться и разговаривать в гостиной у него. —\n",
      "\n",
      "=== Ожидаемый ответ: некорректно\n",
      "=== Предсказание: некорректно\n",
      "\n",
      "=== Prompt ===\n",
      "Оцени грамматическую корректность предложений:\n",
      "В нашем лесу есть озеро. — корректно\n",
      "Я стою поблизости от Центризбиркома и наблюдаю за тем, что происходит у входа. — некорректно\n",
      "Так я и пойду! —\n",
      "\n",
      "=== Ожидаемый ответ: корректно\n",
      "=== Предсказание: некорректно\n",
      "\n",
      "===== FOUR-SHOT (Style 2) =====\n",
      "\n",
      "=== Prompt ===\n",
      "Оцени грамматическую корректность предложений:\n",
      "В нашем лесу есть озеро. — корректно\n",
      "Я стою поблизости от Центризбиркома и наблюдаю за тем, что происходит у входа. — некорректно\n",
      "Он медленно, но несомненно умнеет. — корректно\n",
      "Посещая галерею современного искусства, меня привлекли работы молодых авторов — выпускников Московского художественного института им. В. Сурикова. — некорректно\n",
      "Том и Гек разговаривают. —\n",
      "\n",
      "=== Ожидаемый ответ: корректно\n",
      "=== Предсказание: корректно\n",
      "\n",
      "=== Prompt ===\n",
      "Оцени грамматическую корректность предложений:\n",
      "В нашем лесу есть озеро. — корректно\n",
      "Я стою поблизости от Центризбиркома и наблюдаю за тем, что происходит у входа. — некорректно\n",
      "Он медленно, но несомненно умнеет. — корректно\n",
      "Посещая галерею современного искусства, меня привлекли работы молодых авторов — выпускников Московского художественного института им. В. Сурикова. — некорректно\n",
      "Я воздержался от каких бы то ни было комментариев. —\n",
      "\n",
      "=== Ожидаемый ответ: корректно\n",
      "=== Предсказание: некорректно\n",
      "\n",
      "=== Prompt ===\n",
      "Оцени грамматическую корректность предложений:\n",
      "В нашем лесу есть озеро. — корректно\n",
      "Я стою поблизости от Центризбиркома и наблюдаю за тем, что происходит у входа. — некорректно\n",
      "Он медленно, но несомненно умнеет. — корректно\n",
      "Посещая галерею современного искусства, меня привлекли работы молодых авторов — выпускников Московского художественного института им. В. Сурикова. — некорректно\n",
      "В доме был большой круглый стой, все любили собираться и разговаривать в гостиной у него. —\n",
      "\n",
      "=== Ожидаемый ответ: некорректно\n",
      "=== Предсказание: некорректно\n",
      "\n",
      "=== Prompt ===\n",
      "Оцени грамматическую корректность предложений:\n",
      "В нашем лесу есть озеро. — корректно\n",
      "Я стою поблизости от Центризбиркома и наблюдаю за тем, что происходит у входа. — некорректно\n",
      "Он медленно, но несомненно умнеет. — корректно\n",
      "Посещая галерею современного искусства, меня привлекли работы молодых авторов — выпускников Московского художественного института им. В. Сурикова. — некорректно\n",
      "Так я и пойду! —\n",
      "\n",
      "=== Ожидаемый ответ: корректно\n",
      "=== Предсказание: корректно\n",
      "\n",
      "===== FOUR-SHOT (Style 3) =====\n",
      "\n",
      "=== Prompt ===\n",
      "Определи корректность каждого предложения, отвечай 'корректно' или 'некорректно'.\n",
      "Предложение: В нашем лесу есть озеро.\n",
      "Ответ: корректно\n",
      "Предложение: Я стою поблизости от Центризбиркома и наблюдаю за тем, что происходит у входа.\n",
      "Ответ: некорректно\n",
      "Предложение: Он медленно, но несомненно умнеет.\n",
      "Ответ: корректно\n",
      "Предложение: Посещая галерею современного искусства, меня привлекли работы молодых авторов — выпускников Московского художественного института им. В. Сурикова.\n",
      "Ответ: некорректно\n",
      "Предложение: Том и Гек разговаривают.\n",
      "\n",
      "=== Ожидаемый ответ: корректно\n",
      "=== Предсказание: Ответ: некорректно\n",
      "\n",
      "=== Prompt ===\n",
      "Определи корректность каждого предложения, отвечай 'корректно' или 'некорректно'.\n",
      "Предложение: В нашем лесу есть озеро.\n",
      "Ответ: корректно\n",
      "Предложение: Я стою поблизости от Центризбиркома и наблюдаю за тем, что происходит у входа.\n",
      "Ответ: некорректно\n",
      "Предложение: Он медленно, но несомненно умнеет.\n",
      "Ответ: корректно\n",
      "Предложение: Посещая галерею современного искусства, меня привлекли работы молодых авторов — выпускников Московского художественного института им. В. Сурикова.\n",
      "Ответ: некорректно\n",
      "Предложение: Я воздержался от каких бы то ни было комментариев.\n",
      "\n",
      "=== Ожидаемый ответ: корректно\n",
      "=== Предсказание: Ответ: некорректно\n",
      "\n",
      "=== Prompt ===\n",
      "Определи корректность каждого предложения, отвечай 'корректно' или 'некорректно'.\n",
      "Предложение: В нашем лесу есть озеро.\n",
      "Ответ: корректно\n",
      "Предложение: Я стою поблизости от Центризбиркома и наблюдаю за тем, что происходит у входа.\n",
      "Ответ: некорректно\n",
      "Предложение: Он медленно, но несомненно умнеет.\n",
      "Ответ: корректно\n",
      "Предложение: Посещая галерею современного искусства, меня привлекли работы молодых авторов — выпускников Московского художественного института им. В. Сурикова.\n",
      "Ответ: некорректно\n",
      "Предложение: В доме был большой круглый стой, все любили собираться и разговаривать в гостиной у него.\n",
      "\n",
      "=== Ожидаемый ответ: некорректно\n",
      "=== Предсказание: Ответ: некорректно\n",
      "\n",
      "=== Prompt ===\n",
      "Определи корректность каждого предложения, отвечай 'корректно' или 'некорректно'.\n",
      "Предложение: В нашем лесу есть озеро.\n",
      "Ответ: корректно\n",
      "Предложение: Я стою поблизости от Центризбиркома и наблюдаю за тем, что происходит у входа.\n",
      "Ответ: некорректно\n",
      "Предложение: Он медленно, но несомненно умнеет.\n",
      "Ответ: корректно\n",
      "Предложение: Посещая галерею современного искусства, меня привлекли работы молодых авторов — выпускников Московского художественного института им. В. Сурикова.\n",
      "Ответ: некорректно\n",
      "Предложение: Так я и пойду!\n",
      "\n",
      "=== Ожидаемый ответ: корректно\n",
      "=== Предсказание: Ответ: некорректно\n"
     ]
    }
   ],
   "source": [
    "# === ZERO-SHOT (Style 1) ===\n",
    "print(\"\\n===== ZERO-SHOT (Style 1) =====\")\n",
    "for s, label in test_sentences:\n",
    "    prompt = make_prompt_style_1(s)\n",
    "    generate(prompt, label, style_name=\"zero-shot\")\n",
    "\n",
    "# === ONE-SHOT (Style 2) ===\n",
    "print(\"\\n===== ONE-SHOT (Style 2) =====\")\n",
    "for s, label in test_sentences:\n",
    "    prompt = make_prompt_style_2(examples_fewshot[:1], s)\n",
    "    generate(prompt, label, style_name=\"one-shot\")\n",
    "\n",
    "# === TWO-SHOT (Style 2) ===\n",
    "print(\"\\n===== TWO-SHOT (Style 2) =====\")\n",
    "for s, label in test_sentences:\n",
    "    prompt = make_prompt_style_2(examples_fewshot[:2], s)\n",
    "    generate(prompt, label, style_name=\"two-shot\")\n",
    "\n",
    "# === FOUR-SHOT (Style 2) ===\n",
    "print(\"\\n===== FOUR-SHOT (Style 2) =====\")\n",
    "for s, label in test_sentences:\n",
    "    prompt = make_prompt_style_2(examples_fewshot[:4], s)\n",
    "    generate(prompt, label, style_name=\"four-shot (style 2)\")\n",
    "\n",
    "# === FOUR-SHOT (Style 3) ===\n",
    "print(\"\\n===== FOUR-SHOT (Style 3) =====\")\n",
    "for s, label in test_sentences:\n",
    "    prompt = make_prompt_style_3(examples_fewshot[:4], s)\n",
    "    generate(prompt, label, style_name=\"four-shot (style 3)\")"
   ]
  },
  {
   "cell_type": "code",
   "execution_count": 29,
   "id": "ykAyvCphrmm_",
   "metadata": {
    "colab": {
     "base_uri": "https://localhost:8080/",
     "height": 676
    },
    "executionInfo": {
     "elapsed": 76,
     "status": "ok",
     "timestamp": 1745169539103,
     "user": {
      "displayName": "Danila Silichshev",
      "userId": "13799801190473562794"
     },
     "user_tz": -300
    },
    "id": "ykAyvCphrmm_",
    "outputId": "a8516e20-d21e-45cc-8467-02334332090e"
   },
   "outputs": [
    {
     "data": {
      "application/vnd.google.colaboratory.intrinsic+json": {
       "summary": "{\n  \"name\": \"generative_results_df\",\n  \"rows\": 20,\n  \"fields\": [\n    {\n      \"column\": \"sentence\",\n      \"properties\": {\n        \"dtype\": \"category\",\n        \"num_unique_values\": 5,\n        \"samples\": [\n          \"\\u042f \\u0432\\u043e\\u0437\\u0434\\u0435\\u0440\\u0436\\u0430\\u043b\\u0441\\u044f \\u043e\\u0442 \\u043a\\u0430\\u043a\\u0438\\u0445 \\u0431\\u044b \\u0442\\u043e \\u043d\\u0438 \\u0431\\u044b\\u043b\\u043e \\u043a\\u043e\\u043c\\u043c\\u0435\\u043d\\u0442\\u0430\\u0440\\u0438\\u0435\\u0432.\",\n          \"\\u041e\\u0446\\u0435\\u043d\\u0438 \\u0433\\u0440\\u0430\\u043c\\u043c\\u0430\\u0442\\u0438\\u0447\\u0435\\u0441\\u043a\\u0443\\u044e \\u043a\\u043e\\u0440\\u0440\\u0435\\u043a\\u0442\\u043d\\u043e\\u0441\\u0442\\u044c \\u043f\\u0440\\u0435\\u0434\\u043b\\u043e\\u0436\\u0435\\u043d\\u0438\\u0439:\",\n          \"\\u0412 \\u0434\\u043e\\u043c\\u0435 \\u0431\\u044b\\u043b \\u0431\\u043e\\u043b\\u044c\\u0448\\u043e\\u0439 \\u043a\\u0440\\u0443\\u0433\\u043b\\u044b\\u0439 \\u0441\\u0442\\u043e\\u0439, \\u0432\\u0441\\u0435 \\u043b\\u044e\\u0431\\u0438\\u043b\\u0438 \\u0441\\u043e\\u0431\\u0438\\u0440\\u0430\\u0442\\u044c\\u0441\\u044f \\u0438 \\u0440\\u0430\\u0437\\u0433\\u043e\\u0432\\u0430\\u0440\\u0438\\u0432\\u0430\\u0442\\u044c \\u0432 \\u0433\\u043e\\u0441\\u0442\\u0438\\u043d\\u043e\\u0439 \\u0443 \\u043d\\u0435\\u0433\\u043e.\"\n        ],\n        \"semantic_type\": \"\",\n        \"description\": \"\"\n      }\n    },\n    {\n      \"column\": \"expected\",\n      \"properties\": {\n        \"dtype\": \"category\",\n        \"num_unique_values\": 2,\n        \"samples\": [\n          \"\\u043d\\u0435\\u043a\\u043e\\u0440\\u0440\\u0435\\u043a\\u0442\\u043d\\u043e\",\n          \"\\u043a\\u043e\\u0440\\u0440\\u0435\\u043a\\u0442\\u043d\\u043e\"\n        ],\n        \"semantic_type\": \"\",\n        \"description\": \"\"\n      }\n    },\n    {\n      \"column\": \"predicted\",\n      \"properties\": {\n        \"dtype\": \"category\",\n        \"num_unique_values\": 6,\n        \"samples\": [\n          \"\\u0413\\u0435\\u043a: \\u0422\\u043e\\u043c\",\n          \"\\u041f\\u0440\\u0435\\u0434\\u043b\\u043e\\u0436\\u0435\\u043d\\u0438\\u0435: \\u042f\"\n        ],\n        \"semantic_type\": \"\",\n        \"description\": \"\"\n      }\n    },\n    {\n      \"column\": \"style\",\n      \"properties\": {\n        \"dtype\": \"category\",\n        \"num_unique_values\": 5,\n        \"samples\": [\n          \"one-shot\",\n          \"four-shot (style 3)\"\n        ],\n        \"semantic_type\": \"\",\n        \"description\": \"\"\n      }\n    }\n  ]\n}",
       "type": "dataframe",
       "variable_name": "generative_results_df"
      },
      "text/html": [
       "\n",
       "  <div id=\"df-b96d0872-76a4-4310-82f2-c556b7d6de0a\" class=\"colab-df-container\">\n",
       "    <div>\n",
       "<style scoped>\n",
       "    .dataframe tbody tr th:only-of-type {\n",
       "        vertical-align: middle;\n",
       "    }\n",
       "\n",
       "    .dataframe tbody tr th {\n",
       "        vertical-align: top;\n",
       "    }\n",
       "\n",
       "    .dataframe thead th {\n",
       "        text-align: right;\n",
       "    }\n",
       "</style>\n",
       "<table border=\"1\" class=\"dataframe\">\n",
       "  <thead>\n",
       "    <tr style=\"text-align: right;\">\n",
       "      <th></th>\n",
       "      <th>sentence</th>\n",
       "      <th>expected</th>\n",
       "      <th>predicted</th>\n",
       "      <th>style</th>\n",
       "    </tr>\n",
       "  </thead>\n",
       "  <tbody>\n",
       "    <tr>\n",
       "      <th>0</th>\n",
       "      <td>Том и Гек разговаривают.</td>\n",
       "      <td>корректно</td>\n",
       "      <td>Гек: Том</td>\n",
       "      <td>zero-shot</td>\n",
       "    </tr>\n",
       "    <tr>\n",
       "      <th>1</th>\n",
       "      <td>Я воздержался от каких бы то ни было комментар...</td>\n",
       "      <td>корректно</td>\n",
       "      <td>Предложение: Я</td>\n",
       "      <td>zero-shot</td>\n",
       "    </tr>\n",
       "    <tr>\n",
       "      <th>2</th>\n",
       "      <td>В доме был большой круглый стой, все любили со...</td>\n",
       "      <td>некорректно</td>\n",
       "      <td>Оцени, является</td>\n",
       "      <td>zero-shot</td>\n",
       "    </tr>\n",
       "    <tr>\n",
       "      <th>3</th>\n",
       "      <td>Так я и пойду!</td>\n",
       "      <td>корректно</td>\n",
       "      <td>Оцени, является</td>\n",
       "      <td>zero-shot</td>\n",
       "    </tr>\n",
       "    <tr>\n",
       "      <th>4</th>\n",
       "      <td>Оцени грамматическую корректность предложений:</td>\n",
       "      <td>корректно</td>\n",
       "      <td>корректно</td>\n",
       "      <td>one-shot</td>\n",
       "    </tr>\n",
       "    <tr>\n",
       "      <th>5</th>\n",
       "      <td>Оцени грамматическую корректность предложений:</td>\n",
       "      <td>корректно</td>\n",
       "      <td>корректно</td>\n",
       "      <td>one-shot</td>\n",
       "    </tr>\n",
       "    <tr>\n",
       "      <th>6</th>\n",
       "      <td>Оцени грамматическую корректность предложений:</td>\n",
       "      <td>некорректно</td>\n",
       "      <td>корректно</td>\n",
       "      <td>one-shot</td>\n",
       "    </tr>\n",
       "    <tr>\n",
       "      <th>7</th>\n",
       "      <td>Оцени грамматическую корректность предложений:</td>\n",
       "      <td>корректно</td>\n",
       "      <td>корректно</td>\n",
       "      <td>one-shot</td>\n",
       "    </tr>\n",
       "    <tr>\n",
       "      <th>8</th>\n",
       "      <td>Оцени грамматическую корректность предложений:</td>\n",
       "      <td>корректно</td>\n",
       "      <td>корректно</td>\n",
       "      <td>two-shot</td>\n",
       "    </tr>\n",
       "    <tr>\n",
       "      <th>9</th>\n",
       "      <td>Оцени грамматическую корректность предложений:</td>\n",
       "      <td>корректно</td>\n",
       "      <td>некорректно</td>\n",
       "      <td>two-shot</td>\n",
       "    </tr>\n",
       "    <tr>\n",
       "      <th>10</th>\n",
       "      <td>Оцени грамматическую корректность предложений:</td>\n",
       "      <td>некорректно</td>\n",
       "      <td>некорректно</td>\n",
       "      <td>two-shot</td>\n",
       "    </tr>\n",
       "    <tr>\n",
       "      <th>11</th>\n",
       "      <td>Оцени грамматическую корректность предложений:</td>\n",
       "      <td>корректно</td>\n",
       "      <td>некорректно</td>\n",
       "      <td>two-shot</td>\n",
       "    </tr>\n",
       "    <tr>\n",
       "      <th>12</th>\n",
       "      <td>Оцени грамматическую корректность предложений:</td>\n",
       "      <td>корректно</td>\n",
       "      <td>корректно</td>\n",
       "      <td>four-shot (style 2)</td>\n",
       "    </tr>\n",
       "    <tr>\n",
       "      <th>13</th>\n",
       "      <td>Оцени грамматическую корректность предложений:</td>\n",
       "      <td>корректно</td>\n",
       "      <td>некорректно</td>\n",
       "      <td>four-shot (style 2)</td>\n",
       "    </tr>\n",
       "    <tr>\n",
       "      <th>14</th>\n",
       "      <td>Оцени грамматическую корректность предложений:</td>\n",
       "      <td>некорректно</td>\n",
       "      <td>некорректно</td>\n",
       "      <td>four-shot (style 2)</td>\n",
       "    </tr>\n",
       "    <tr>\n",
       "      <th>15</th>\n",
       "      <td>Оцени грамматическую корректность предложений:</td>\n",
       "      <td>корректно</td>\n",
       "      <td>корректно</td>\n",
       "      <td>four-shot (style 2)</td>\n",
       "    </tr>\n",
       "    <tr>\n",
       "      <th>16</th>\n",
       "      <td>Том и Гек разговаривают.</td>\n",
       "      <td>корректно</td>\n",
       "      <td>Ответ: некорректно</td>\n",
       "      <td>four-shot (style 3)</td>\n",
       "    </tr>\n",
       "    <tr>\n",
       "      <th>17</th>\n",
       "      <td>Я воздержался от каких бы то ни было комментар...</td>\n",
       "      <td>корректно</td>\n",
       "      <td>Ответ: некорректно</td>\n",
       "      <td>four-shot (style 3)</td>\n",
       "    </tr>\n",
       "    <tr>\n",
       "      <th>18</th>\n",
       "      <td>В доме был большой круглый стой, все любили со...</td>\n",
       "      <td>некорректно</td>\n",
       "      <td>Ответ: некорректно</td>\n",
       "      <td>four-shot (style 3)</td>\n",
       "    </tr>\n",
       "    <tr>\n",
       "      <th>19</th>\n",
       "      <td>Так я и пойду!</td>\n",
       "      <td>корректно</td>\n",
       "      <td>Ответ: некорректно</td>\n",
       "      <td>four-shot (style 3)</td>\n",
       "    </tr>\n",
       "  </tbody>\n",
       "</table>\n",
       "</div>\n",
       "    <div class=\"colab-df-buttons\">\n",
       "\n",
       "  <div class=\"colab-df-container\">\n",
       "    <button class=\"colab-df-convert\" onclick=\"convertToInteractive('df-b96d0872-76a4-4310-82f2-c556b7d6de0a')\"\n",
       "            title=\"Convert this dataframe to an interactive table.\"\n",
       "            style=\"display:none;\">\n",
       "\n",
       "  <svg xmlns=\"http://www.w3.org/2000/svg\" height=\"24px\" viewBox=\"0 -960 960 960\">\n",
       "    <path d=\"M120-120v-720h720v720H120Zm60-500h600v-160H180v160Zm220 220h160v-160H400v160Zm0 220h160v-160H400v160ZM180-400h160v-160H180v160Zm440 0h160v-160H620v160ZM180-180h160v-160H180v160Zm440 0h160v-160H620v160Z\"/>\n",
       "  </svg>\n",
       "    </button>\n",
       "\n",
       "  <style>\n",
       "    .colab-df-container {\n",
       "      display:flex;\n",
       "      gap: 12px;\n",
       "    }\n",
       "\n",
       "    .colab-df-convert {\n",
       "      background-color: #E8F0FE;\n",
       "      border: none;\n",
       "      border-radius: 50%;\n",
       "      cursor: pointer;\n",
       "      display: none;\n",
       "      fill: #1967D2;\n",
       "      height: 32px;\n",
       "      padding: 0 0 0 0;\n",
       "      width: 32px;\n",
       "    }\n",
       "\n",
       "    .colab-df-convert:hover {\n",
       "      background-color: #E2EBFA;\n",
       "      box-shadow: 0px 1px 2px rgba(60, 64, 67, 0.3), 0px 1px 3px 1px rgba(60, 64, 67, 0.15);\n",
       "      fill: #174EA6;\n",
       "    }\n",
       "\n",
       "    .colab-df-buttons div {\n",
       "      margin-bottom: 4px;\n",
       "    }\n",
       "\n",
       "    [theme=dark] .colab-df-convert {\n",
       "      background-color: #3B4455;\n",
       "      fill: #D2E3FC;\n",
       "    }\n",
       "\n",
       "    [theme=dark] .colab-df-convert:hover {\n",
       "      background-color: #434B5C;\n",
       "      box-shadow: 0px 1px 3px 1px rgba(0, 0, 0, 0.15);\n",
       "      filter: drop-shadow(0px 1px 2px rgba(0, 0, 0, 0.3));\n",
       "      fill: #FFFFFF;\n",
       "    }\n",
       "  </style>\n",
       "\n",
       "    <script>\n",
       "      const buttonEl =\n",
       "        document.querySelector('#df-b96d0872-76a4-4310-82f2-c556b7d6de0a button.colab-df-convert');\n",
       "      buttonEl.style.display =\n",
       "        google.colab.kernel.accessAllowed ? 'block' : 'none';\n",
       "\n",
       "      async function convertToInteractive(key) {\n",
       "        const element = document.querySelector('#df-b96d0872-76a4-4310-82f2-c556b7d6de0a');\n",
       "        const dataTable =\n",
       "          await google.colab.kernel.invokeFunction('convertToInteractive',\n",
       "                                                    [key], {});\n",
       "        if (!dataTable) return;\n",
       "\n",
       "        const docLinkHtml = 'Like what you see? Visit the ' +\n",
       "          '<a target=\"_blank\" href=https://colab.research.google.com/notebooks/data_table.ipynb>data table notebook</a>'\n",
       "          + ' to learn more about interactive tables.';\n",
       "        element.innerHTML = '';\n",
       "        dataTable['output_type'] = 'display_data';\n",
       "        await google.colab.output.renderOutput(dataTable, element);\n",
       "        const docLink = document.createElement('div');\n",
       "        docLink.innerHTML = docLinkHtml;\n",
       "        element.appendChild(docLink);\n",
       "      }\n",
       "    </script>\n",
       "  </div>\n",
       "\n",
       "\n",
       "<div id=\"df-69eace21-7f25-486d-9038-f715e7ed25bb\">\n",
       "  <button class=\"colab-df-quickchart\" onclick=\"quickchart('df-69eace21-7f25-486d-9038-f715e7ed25bb')\"\n",
       "            title=\"Suggest charts\"\n",
       "            style=\"display:none;\">\n",
       "\n",
       "<svg xmlns=\"http://www.w3.org/2000/svg\" height=\"24px\"viewBox=\"0 0 24 24\"\n",
       "     width=\"24px\">\n",
       "    <g>\n",
       "        <path d=\"M19 3H5c-1.1 0-2 .9-2 2v14c0 1.1.9 2 2 2h14c1.1 0 2-.9 2-2V5c0-1.1-.9-2-2-2zM9 17H7v-7h2v7zm4 0h-2V7h2v10zm4 0h-2v-4h2v4z\"/>\n",
       "    </g>\n",
       "</svg>\n",
       "  </button>\n",
       "\n",
       "<style>\n",
       "  .colab-df-quickchart {\n",
       "      --bg-color: #E8F0FE;\n",
       "      --fill-color: #1967D2;\n",
       "      --hover-bg-color: #E2EBFA;\n",
       "      --hover-fill-color: #174EA6;\n",
       "      --disabled-fill-color: #AAA;\n",
       "      --disabled-bg-color: #DDD;\n",
       "  }\n",
       "\n",
       "  [theme=dark] .colab-df-quickchart {\n",
       "      --bg-color: #3B4455;\n",
       "      --fill-color: #D2E3FC;\n",
       "      --hover-bg-color: #434B5C;\n",
       "      --hover-fill-color: #FFFFFF;\n",
       "      --disabled-bg-color: #3B4455;\n",
       "      --disabled-fill-color: #666;\n",
       "  }\n",
       "\n",
       "  .colab-df-quickchart {\n",
       "    background-color: var(--bg-color);\n",
       "    border: none;\n",
       "    border-radius: 50%;\n",
       "    cursor: pointer;\n",
       "    display: none;\n",
       "    fill: var(--fill-color);\n",
       "    height: 32px;\n",
       "    padding: 0;\n",
       "    width: 32px;\n",
       "  }\n",
       "\n",
       "  .colab-df-quickchart:hover {\n",
       "    background-color: var(--hover-bg-color);\n",
       "    box-shadow: 0 1px 2px rgba(60, 64, 67, 0.3), 0 1px 3px 1px rgba(60, 64, 67, 0.15);\n",
       "    fill: var(--button-hover-fill-color);\n",
       "  }\n",
       "\n",
       "  .colab-df-quickchart-complete:disabled,\n",
       "  .colab-df-quickchart-complete:disabled:hover {\n",
       "    background-color: var(--disabled-bg-color);\n",
       "    fill: var(--disabled-fill-color);\n",
       "    box-shadow: none;\n",
       "  }\n",
       "\n",
       "  .colab-df-spinner {\n",
       "    border: 2px solid var(--fill-color);\n",
       "    border-color: transparent;\n",
       "    border-bottom-color: var(--fill-color);\n",
       "    animation:\n",
       "      spin 1s steps(1) infinite;\n",
       "  }\n",
       "\n",
       "  @keyframes spin {\n",
       "    0% {\n",
       "      border-color: transparent;\n",
       "      border-bottom-color: var(--fill-color);\n",
       "      border-left-color: var(--fill-color);\n",
       "    }\n",
       "    20% {\n",
       "      border-color: transparent;\n",
       "      border-left-color: var(--fill-color);\n",
       "      border-top-color: var(--fill-color);\n",
       "    }\n",
       "    30% {\n",
       "      border-color: transparent;\n",
       "      border-left-color: var(--fill-color);\n",
       "      border-top-color: var(--fill-color);\n",
       "      border-right-color: var(--fill-color);\n",
       "    }\n",
       "    40% {\n",
       "      border-color: transparent;\n",
       "      border-right-color: var(--fill-color);\n",
       "      border-top-color: var(--fill-color);\n",
       "    }\n",
       "    60% {\n",
       "      border-color: transparent;\n",
       "      border-right-color: var(--fill-color);\n",
       "    }\n",
       "    80% {\n",
       "      border-color: transparent;\n",
       "      border-right-color: var(--fill-color);\n",
       "      border-bottom-color: var(--fill-color);\n",
       "    }\n",
       "    90% {\n",
       "      border-color: transparent;\n",
       "      border-bottom-color: var(--fill-color);\n",
       "    }\n",
       "  }\n",
       "</style>\n",
       "\n",
       "  <script>\n",
       "    async function quickchart(key) {\n",
       "      const quickchartButtonEl =\n",
       "        document.querySelector('#' + key + ' button');\n",
       "      quickchartButtonEl.disabled = true;  // To prevent multiple clicks.\n",
       "      quickchartButtonEl.classList.add('colab-df-spinner');\n",
       "      try {\n",
       "        const charts = await google.colab.kernel.invokeFunction(\n",
       "            'suggestCharts', [key], {});\n",
       "      } catch (error) {\n",
       "        console.error('Error during call to suggestCharts:', error);\n",
       "      }\n",
       "      quickchartButtonEl.classList.remove('colab-df-spinner');\n",
       "      quickchartButtonEl.classList.add('colab-df-quickchart-complete');\n",
       "    }\n",
       "    (() => {\n",
       "      let quickchartButtonEl =\n",
       "        document.querySelector('#df-69eace21-7f25-486d-9038-f715e7ed25bb button');\n",
       "      quickchartButtonEl.style.display =\n",
       "        google.colab.kernel.accessAllowed ? 'block' : 'none';\n",
       "    })();\n",
       "  </script>\n",
       "</div>\n",
       "\n",
       "  <div id=\"id_43845bea-8e16-42f1-ac9a-0167209ccff3\">\n",
       "    <style>\n",
       "      .colab-df-generate {\n",
       "        background-color: #E8F0FE;\n",
       "        border: none;\n",
       "        border-radius: 50%;\n",
       "        cursor: pointer;\n",
       "        display: none;\n",
       "        fill: #1967D2;\n",
       "        height: 32px;\n",
       "        padding: 0 0 0 0;\n",
       "        width: 32px;\n",
       "      }\n",
       "\n",
       "      .colab-df-generate:hover {\n",
       "        background-color: #E2EBFA;\n",
       "        box-shadow: 0px 1px 2px rgba(60, 64, 67, 0.3), 0px 1px 3px 1px rgba(60, 64, 67, 0.15);\n",
       "        fill: #174EA6;\n",
       "      }\n",
       "\n",
       "      [theme=dark] .colab-df-generate {\n",
       "        background-color: #3B4455;\n",
       "        fill: #D2E3FC;\n",
       "      }\n",
       "\n",
       "      [theme=dark] .colab-df-generate:hover {\n",
       "        background-color: #434B5C;\n",
       "        box-shadow: 0px 1px 3px 1px rgba(0, 0, 0, 0.15);\n",
       "        filter: drop-shadow(0px 1px 2px rgba(0, 0, 0, 0.3));\n",
       "        fill: #FFFFFF;\n",
       "      }\n",
       "    </style>\n",
       "    <button class=\"colab-df-generate\" onclick=\"generateWithVariable('generative_results_df')\"\n",
       "            title=\"Generate code using this dataframe.\"\n",
       "            style=\"display:none;\">\n",
       "\n",
       "  <svg xmlns=\"http://www.w3.org/2000/svg\" height=\"24px\"viewBox=\"0 0 24 24\"\n",
       "       width=\"24px\">\n",
       "    <path d=\"M7,19H8.4L18.45,9,17,7.55,7,17.6ZM5,21V16.75L18.45,3.32a2,2,0,0,1,2.83,0l1.4,1.43a1.91,1.91,0,0,1,.58,1.4,1.91,1.91,0,0,1-.58,1.4L9.25,21ZM18.45,9,17,7.55Zm-12,3A5.31,5.31,0,0,0,4.9,8.1,5.31,5.31,0,0,0,1,6.5,5.31,5.31,0,0,0,4.9,4.9,5.31,5.31,0,0,0,6.5,1,5.31,5.31,0,0,0,8.1,4.9,5.31,5.31,0,0,0,12,6.5,5.46,5.46,0,0,0,6.5,12Z\"/>\n",
       "  </svg>\n",
       "    </button>\n",
       "    <script>\n",
       "      (() => {\n",
       "      const buttonEl =\n",
       "        document.querySelector('#id_43845bea-8e16-42f1-ac9a-0167209ccff3 button.colab-df-generate');\n",
       "      buttonEl.style.display =\n",
       "        google.colab.kernel.accessAllowed ? 'block' : 'none';\n",
       "\n",
       "      buttonEl.onclick = () => {\n",
       "        google.colab.notebook.generateWithVariable('generative_results_df');\n",
       "      }\n",
       "      })();\n",
       "    </script>\n",
       "  </div>\n",
       "\n",
       "    </div>\n",
       "  </div>\n"
      ],
      "text/plain": [
       "                                             sentence     expected  \\\n",
       "0                            Том и Гек разговаривают.    корректно   \n",
       "1   Я воздержался от каких бы то ни было комментар...    корректно   \n",
       "2   В доме был большой круглый стой, все любили со...  некорректно   \n",
       "3                                      Так я и пойду!    корректно   \n",
       "4      Оцени грамматическую корректность предложений:    корректно   \n",
       "5      Оцени грамматическую корректность предложений:    корректно   \n",
       "6      Оцени грамматическую корректность предложений:  некорректно   \n",
       "7      Оцени грамматическую корректность предложений:    корректно   \n",
       "8      Оцени грамматическую корректность предложений:    корректно   \n",
       "9      Оцени грамматическую корректность предложений:    корректно   \n",
       "10     Оцени грамматическую корректность предложений:  некорректно   \n",
       "11     Оцени грамматическую корректность предложений:    корректно   \n",
       "12     Оцени грамматическую корректность предложений:    корректно   \n",
       "13     Оцени грамматическую корректность предложений:    корректно   \n",
       "14     Оцени грамматическую корректность предложений:  некорректно   \n",
       "15     Оцени грамматическую корректность предложений:    корректно   \n",
       "16                           Том и Гек разговаривают.    корректно   \n",
       "17  Я воздержался от каких бы то ни было комментар...    корректно   \n",
       "18  В доме был большой круглый стой, все любили со...  некорректно   \n",
       "19                                     Так я и пойду!    корректно   \n",
       "\n",
       "             predicted                style  \n",
       "0             Гек: Том            zero-shot  \n",
       "1       Предложение: Я            zero-shot  \n",
       "2      Оцени, является            zero-shot  \n",
       "3      Оцени, является            zero-shot  \n",
       "4            корректно             one-shot  \n",
       "5            корректно             one-shot  \n",
       "6            корректно             one-shot  \n",
       "7            корректно             one-shot  \n",
       "8            корректно             two-shot  \n",
       "9          некорректно             two-shot  \n",
       "10         некорректно             two-shot  \n",
       "11         некорректно             two-shot  \n",
       "12           корректно  four-shot (style 2)  \n",
       "13         некорректно  four-shot (style 2)  \n",
       "14         некорректно  four-shot (style 2)  \n",
       "15           корректно  four-shot (style 2)  \n",
       "16  Ответ: некорректно  four-shot (style 3)  \n",
       "17  Ответ: некорректно  four-shot (style 3)  \n",
       "18  Ответ: некорректно  four-shot (style 3)  \n",
       "19  Ответ: некорректно  four-shot (style 3)  "
      ]
     },
     "execution_count": 29,
     "metadata": {},
     "output_type": "execute_result"
    }
   ],
   "source": [
    "generative_results_df = pd.DataFrame(generative_results)\n",
    "generative_results_df"
   ]
  },
  {
   "cell_type": "markdown",
   "id": "LnB2Ck3k2vKV",
   "metadata": {
    "id": "LnB2Ck3k2vKV"
   },
   "source": [
    "Так как генеративная модель `RuGPT3` применялась в режиме **zero/few-shot** и тестировалась на небольшой подвыборке из 4 предложений, мы не можем сравнивать численные метрики напрямую с дообученной моделью `RuBERT`, обучавшейся на всей тренировочной выборке. Однако при ручной проверке видно, что `RuGPT3` начинает выдавать правильные предсказания уже при 1–2 примерах (**few-shot**), а при 4 примерах качество стабилизируется."
   ]
  },
  {
   "cell_type": "markdown",
   "id": "1rEn-yu84GMM",
   "metadata": {
    "id": "1rEn-yu84GMM"
   },
   "source": [
    "## Вывод\n",
    "\n",
    "В ходе работы проведён **EDA**, **дообучение** и **тестирование** модели `RuBERT`, а также эксперименты с `RuGPT3` в **zero-/few-shot** режиме с различными затравками. Принцип дообучения оказался достаточно эффективным — модель достигла `F1-score ≈ 0.87` на валидации. Анализ показал, что основной недостаток — в **низком `recall`** для некорректных предложений. Однако, итоговый **`weighted F1-score`** на тесте составил **`~0.77`**, что подтверждает устойчивость модели на реальных данных. Для улучшения качества можно использовать балансировку классов или модифицировать функцию потерь. Модель `RuGPT3` начинает выдавать разумные ответы **уже при 1–2 примерах в затравке**."
   ]
  }
 ],
 "metadata": {
  "accelerator": "GPU",
  "colab": {
   "gpuType": "T4",
   "provenance": []
  },
  "kernelspec": {
   "display_name": "Python 3 (ipykernel)",
   "language": "python",
   "name": "python3"
  },
  "language_info": {
   "codemirror_mode": {
    "name": "ipython",
    "version": 3
   },
   "file_extension": ".py",
   "mimetype": "text/x-python",
   "name": "python",
   "nbconvert_exporter": "python",
   "pygments_lexer": "ipython3",
   "version": "3.9.13"
  },
  "widgets": {
   "application/vnd.jupyter.widget-state+json": {
    "state": {},
    "version_major": 2,
    "version_minor": 0
   }
  }
 },
 "nbformat": 4,
 "nbformat_minor": 5
}
