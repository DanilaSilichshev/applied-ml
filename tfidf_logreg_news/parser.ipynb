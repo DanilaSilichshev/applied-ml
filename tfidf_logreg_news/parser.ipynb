{
 "cells": [
  {
   "cell_type": "markdown",
   "id": "ffad68ef",
   "metadata": {},
   "source": [
    "# Классификация новостей по тегам на основе текстового содержимого"
   ]
  },
  {
   "cell_type": "markdown",
   "id": "211e4207",
   "metadata": {},
   "source": [
    "**Цель:** Решение задачи многозначной многоклассовой классификации новостей на основе ключевых слов из текстового описания."
   ]
  },
  {
   "cell_type": "markdown",
   "id": "5b015d46",
   "metadata": {},
   "source": [
    "## Сбор данных. Парсинг сайта"
   ]
  },
  {
   "cell_type": "markdown",
   "id": "8b05fd6e",
   "metadata": {},
   "source": [
    "### Подключение библиотек"
   ]
  },
  {
   "cell_type": "code",
   "execution_count": 1,
   "id": "c2741f4a",
   "metadata": {},
   "outputs": [],
   "source": [
    "import numpy as np\n",
    "import pandas as pd\n",
    "import random\n",
    "import time\n",
    "import requests\n",
    "from tqdm import tqdm\n",
    "from datetime import datetime\n",
    "from fake_useragent import UserAgent\n",
    "from bs4 import BeautifulSoup\n",
    "from selenium import webdriver\n",
    "from selenium.webdriver.common.by import By\n",
    "from selenium.webdriver.support.ui import WebDriverWait\n",
    "from selenium.webdriver.support import expected_conditions as EC\n",
    "from selenium.common.exceptions import TimeoutException, StaleElementReferenceException"
   ]
  },
  {
   "cell_type": "markdown",
   "id": "e91d947a",
   "metadata": {},
   "source": [
    "## Сбор данных"
   ]
  },
  {
   "cell_type": "markdown",
   "id": "75632d06",
   "metadata": {},
   "source": [
    "В качестве источника данных будет использован [`медиапортал`](https://media.ssmu.ru/news/) Сибирского государственного медицинского университета"
   ]
  },
  {
   "cell_type": "code",
   "execution_count": 2,
   "id": "da102bd5",
   "metadata": {},
   "outputs": [],
   "source": [
    "target_page = \"https://media.ssmu.ru/news/\""
   ]
  },
  {
   "cell_type": "markdown",
   "id": "08ffbc77",
   "metadata": {},
   "source": [
    "Страница использует **ленивую подгрузку контента** (`lazy loading`) через **AJAX**. Изначально загружается ограниченное количество новостей, а каждые следующие 10 подгружаются при нажатии на кнопку `Показать ещё 10`, которая отправляет **асинхронный HTTP-запрос** к серверу."
   ]
  },
  {
   "cell_type": "markdown",
   "id": "caa1f705",
   "metadata": {},
   "source": [
    "### Парсинг метаданных новостей (без текста, включая ссылки)"
   ]
  },
  {
   "cell_type": "markdown",
   "id": "de4f1d46",
   "metadata": {},
   "source": [
    "Получим **ссылки на страницы** всех новостей, параллельно извлекая **дату публикации**, **заголовок**, **просмотры** и **теги**.<br />Далее используем ссылки для парсинга **полных текстовых описаний**."
   ]
  },
  {
   "cell_type": "code",
   "execution_count": 3,
   "id": "3c6a95c0",
   "metadata": {
    "scrolled": false
   },
   "outputs": [
    {
     "name": "stdout",
     "output_type": "stream",
     "text": [
      "Кнопка `Показать ещё 10` больше не найдена. Завершаем цикл.\n",
      "\n",
      "Время выполнения: 427.77 секунд (7.13 минут).\n"
     ]
    }
   ],
   "source": [
    "driver = webdriver.Chrome()\n",
    "driver.get(target_page)\n",
    "\n",
    "start_time = time.time()\n",
    "\n",
    "# Загрузка карточек всех новостей на страницу\n",
    "while True:\n",
    "    try:\n",
    "        # Ждём появления и кликабельности кнопки\n",
    "        show_more = WebDriverWait(driver, 10).until(\n",
    "            EC.element_to_be_clickable((By.CLASS_NAME, \"js-show-more\"))\n",
    "        )\n",
    "        \n",
    "        # Прокручиваем страницу до кнопки (имитация поведения пользователя)\n",
    "        driver.execute_script(\"arguments[0].scrollIntoView(true);\", show_more)\n",
    "\n",
    "        show_more.click()  # Нажимаем на кнопку\n",
    "\n",
    "        time.sleep(random.uniform(1, 3))  # Случайная задержка\n",
    "        \n",
    "    except TimeoutException:\n",
    "        print(\"Кнопка `Показать ещё 10` больше не найдена. Завершаем цикл.\")\n",
    "        break \n",
    "\n",
    "    except StaleElementReferenceException:\n",
    "        print(\"Элемент изменился после нахождения. Повторим попытку.\")\n",
    "        continue\n",
    "        \n",
    "exec_time = time.time() - start_time  # Время выполнения в секундах\n",
    "print(f\"\\nВремя выполнения: {exec_time:.2f} секунд ({exec_time / 60:.2f} минут).\")"
   ]
  },
  {
   "cell_type": "code",
   "execution_count": 4,
   "id": "32d1b3a2",
   "metadata": {
    "scrolled": false
   },
   "outputs": [
    {
     "name": "stderr",
     "output_type": "stream",
     "text": [
      "Парсинг новостей: 100%|███████████████████████████████████████████████████████| 1902/1902 [02:07<00:00, 14.91новость/s]\n"
     ]
    },
    {
     "name": "stdout",
     "output_type": "stream",
     "text": [
      "Всего собрано: 1902\n",
      "\n",
      "Срез из 10 новостей:\n",
      "Эксперт психологического центра СибГМУ рассказала, как влиться в рабочие будни после январских праздников -> https://media.ssmu.ru/news/ekspert-psikhologicheskogo-tsentra-sibgmu-rasskazala-kak-vlitsya-v-rabochie-budni-posle-yanvarskikh-/\n",
      "\n",
      "Апельсины: в чем польза, есть ли вред, как выбирать — рассказывает эксперт СибГМУ -> https://media.ssmu.ru/news/apelsiny-v-chem-polza-est-li-vred-kak-vybirat-rasskazyvaet-ekspert-sibgmu/\n",
      "\n",
      "Юбилей празднует профессор кафедры анестезиологии, реаниматологии и интенсивной терапии СибГМУ Виталий Шипаков -> https://media.ssmu.ru/news/yubiley-prazdnuet-professor-kafedry-anesteziologii-reanimatologii-i-intensivnoy-terapii-sibgmu-vital/\n",
      "\n",
      "Юбилей празднует старший преподаватель кафедры иностранных языков Наталья Стасюк -> https://media.ssmu.ru/news/yubiley-prazdnuet-starshiy-prepodavatel-kafedry-inostrannykh-yazykov-natalya-stasyuk/\n",
      "\n",
      "Поздравление Министра здравоохранения Российской Федерации Михаила Мурашко с Новым годом -> https://media.ssmu.ru/news/pozdravlenie-ministra-zdravookhraneniya-rossiyskoy-federatsii-mikhaila-murashko-s-novym-godom2025/\n",
      "\n",
      "Поздравление ректора СибГМУ с Новым годом -> https://media.ssmu.ru/news/pozdravlenie-rektora-sibgmu-s-novym-godom2025/\n",
      "\n",
      "Студентка СибГМУ стала призером конференции «Современные проблемы здравоохранения глазами молодых ученых» -> https://media.ssmu.ru/news/studentka-sibgmu-stala-prizerom-konferentsii-sovremennye-problemy-zdravookhraneniya-glazami-molodykh/\n",
      "\n",
      "На образовательной платформе СибГМУ «МедКласс» стартовал новый курс по биофизике -> https://media.ssmu.ru/news/na-obrazovatelnoy-platforme-sibgmu-medklass-startoval-novyy-kurs-po-biofizike/\n",
      "\n",
      "В СибГМУ прошла профильная региональная интенсивная смена по биологии -> https://media.ssmu.ru/news/v-sibgmu-proshla-profilnaya-regionalnaya-intensivnaya-smena-po-biologii/\n",
      "\n",
      "День рождения отмечает заслуженный сотрудник СибГМУ Татьяна Инзель -> https://media.ssmu.ru/news/den-rozhdeniya-otmechaet-zasluzhennyy-sotrudnik-sibgmu-tatyana-inzel/\n",
      "\n"
     ]
    }
   ],
   "source": [
    "months = {\n",
    "    \"января\": \"January\", \"февраля\": \"February\", \"марта\": \"March\", \"апреля\": \"April\",\n",
    "    \"мая\": \"May\", \"июня\": \"June\", \"июля\": \"July\", \"августа\": \"August\",\n",
    "    \"сентября\": \"September\", \"октября\": \"October\", \"ноября\": \"November\", \"декабря\": \"December\"\n",
    "}\n",
    "\n",
    "news = []  # Список для хранения новостей\n",
    "all_news = driver.find_elements(By.CSS_SELECTOR, \"article.news\")  # Получение карточек новостей\n",
    "seen_links = set()  # Множество для проверки дубликатов\n",
    "\n",
    "\n",
    "# Извлечение метаинформации новостей\n",
    "for new in tqdm(all_news, desc=\"Парсинг новостей\", unit=\"новость\"):\n",
    "    title = new.find_element(By.CSS_SELECTOR, \".news__title > a\")\n",
    "    link = title.get_attribute(\"href\")\n",
    "    \n",
    "    if link in seen_links:\n",
    "        continue\n",
    "        \n",
    "    seen_links.add(link)\n",
    "    \n",
    "    tags = new.find_elements(By.CSS_SELECTOR, \".news__tag.tag\")\n",
    "    views = new.find_element(By.CSS_SELECTOR, \".news__views > span\")\n",
    "    publication_date = new.find_element(By.CSS_SELECTOR, \".news__date\")\n",
    "    \n",
    "    day, month, year = publication_date.text.strip().split()\n",
    "\n",
    "    news.append({\"Published\": datetime.strptime(f\"{day} {months[month]} {year}\", \"%d %B %Y\").date(), \n",
    "                 \"Title\": title.text, \"Link\": link, \"Views\": views.text,\n",
    "                 \"Tags\": \", \".join([tag.text.strip() for tag in tags])})\n",
    "\n",
    "    \n",
    "print(f\"Всего собрано: {len(news)}\")                 \n",
    "print(\"\\nСрез из 10 новостей:\")\n",
    "for new in news[100:110]:\n",
    "    print(f\"{new['Title']} -> {new['Link']}\\n\")\n",
    "    \n",
    "# Закрытие браузера после завершения работы    \n",
    "driver.quit()"
   ]
  },
  {
   "cell_type": "markdown",
   "id": "c2f83128",
   "metadata": {},
   "source": [
    "### Парсинг контента новостей"
   ]
  },
  {
   "cell_type": "code",
   "execution_count": 5,
   "id": "91764931",
   "metadata": {
    "scrolled": false
   },
   "outputs": [
    {
     "name": "stderr",
     "output_type": "stream",
     "text": [
      "Парсинг контента новостей: 100%|█████████████████████████████████████████████| 1902/1902 [34:23<00:00,  1.08s/страница]\n"
     ]
    }
   ],
   "source": [
    "ua = UserAgent()  # Объект для генерации случайных User-Agent\n",
    "\n",
    "for new in tqdm(news, desc=\"Парсинг контента новостей\", unit=\"страница\"):\n",
    "    time.sleep(random.uniform(0.1, 0.6))  # Задержка для избежания блокировок\n",
    "    \n",
    "    headers = {\"User-Agent\": ua.random}  # Генерация случайного User-Agent\n",
    "    response = requests.get(new[\"Link\"], headers=headers)\n",
    "    \n",
    "    if response.ok:\n",
    "        page = response.content\n",
    "        dom = BeautifulSoup(page, \"html.parser\")\n",
    "        \n",
    "        # Извлечение текстового содержимого новости\n",
    "        text_content = dom.select(\".text-content\")\n",
    "        text = \" \".join([text_block.text.strip() for text_block in text_content])\n",
    "        \n",
    "        new[\"Content\"] = text  # Добавление контента в соответствующий словарь"
   ]
  },
  {
   "cell_type": "markdown",
   "id": "fa66f062",
   "metadata": {},
   "source": [
    "Проверка ссылок показала, что в этих новостях действительно нет текстового описания, вместо него видеоролики"
   ]
  },
  {
   "cell_type": "code",
   "execution_count": 6,
   "id": "287a29da",
   "metadata": {},
   "outputs": [
    {
     "name": "stdout",
     "output_type": "stream",
     "text": [
      "Поздравление от министра здравоохранения Российской Федерации Михаила Мурашко. -> https://media.ssmu.ru/news/pozdravleniya-ot-ministra-zdravookhraneniya-rossiyskoy-federatsii-mikhaila-murashko/\n",
      "\n",
      "Поздравление Министра здравоохранения Российской Федерации Михаила Мурашко с Днем российского студенчества -> https://media.ssmu.ru/news/pozdravlenie-ministra-zdravookhraneniya-rossiyskoy-federatsii-mikhaila-murashko-s-dnem-rossiyskogo-s2025/\n",
      "\n",
      "Поздравление Министра здравоохранения Российской Федерации Михаила Мурашко с Новым годом -> https://media.ssmu.ru/news/pozdravlenie-ministra-zdravookhraneniya-rossiyskoy-federatsii-mikhaila-murashko-s-novym-godom2025/\n",
      "\n",
      "Всего потенциальных новостей для удаления из датасета: 3\n"
     ]
    }
   ],
   "source": [
    "removed_news = [(new[\"Title\"], new[\"Link\"])\n",
    "                for new in news \n",
    "                if not new.get(\"Content\")]  # Новости без текстового контента\n",
    "\n",
    "for title, link in removed_news:\n",
    "    print(f\"{title} -> {link}\\n\")\n",
    "    \n",
    "print(f\"Всего потенциальных новостей для удаления из датасета: {len(removed_news)}\")\n",
    "\n",
    "news = [new for new in news if new.get(\"Content\")]  # Оставляем только новости с контентом"
   ]
  },
  {
   "cell_type": "markdown",
   "id": "7a177be7",
   "metadata": {},
   "source": [
    "### Преобразование в DataFrame и сохранение в файл"
   ]
  },
  {
   "cell_type": "code",
   "execution_count": 7,
   "id": "637e1419",
   "metadata": {},
   "outputs": [
    {
     "data": {
      "text/html": [
       "<div>\n",
       "<style scoped>\n",
       "    .dataframe tbody tr th:only-of-type {\n",
       "        vertical-align: middle;\n",
       "    }\n",
       "\n",
       "    .dataframe tbody tr th {\n",
       "        vertical-align: top;\n",
       "    }\n",
       "\n",
       "    .dataframe thead th {\n",
       "        text-align: right;\n",
       "    }\n",
       "</style>\n",
       "<table border=\"1\" class=\"dataframe\">\n",
       "  <thead>\n",
       "    <tr style=\"text-align: right;\">\n",
       "      <th></th>\n",
       "      <th>Published</th>\n",
       "      <th>Title</th>\n",
       "      <th>Link</th>\n",
       "      <th>Views</th>\n",
       "      <th>Tags</th>\n",
       "      <th>Content</th>\n",
       "    </tr>\n",
       "  </thead>\n",
       "  <tbody>\n",
       "    <tr>\n",
       "      <th>0</th>\n",
       "      <td>2025-03-12</td>\n",
       "      <td>СибГМУ выступил соорганизатором международной ...</td>\n",
       "      <td>https://media.ssmu.ru/news/sibgmu-vystupil-soo...</td>\n",
       "      <td>69</td>\n",
       "      <td>Наука</td>\n",
       "      <td>СибГМУ уже второй раз принял участие в междуна...</td>\n",
       "    </tr>\n",
       "    <tr>\n",
       "      <th>1</th>\n",
       "      <td>2025-03-11</td>\n",
       "      <td>В СибГМУ подведены итоги отбора участников про...</td>\n",
       "      <td>https://media.ssmu.ru/news/v-sibgmu-zavershils...</td>\n",
       "      <td>146</td>\n",
       "      <td>Образование</td>\n",
       "      <td>Проект был запущен в 2022 году в рамках програ...</td>\n",
       "    </tr>\n",
       "    <tr>\n",
       "      <th>2</th>\n",
       "      <td>2025-03-10</td>\n",
       "      <td>Сотрудник СибГМУ рассказала, как сохранить здо...</td>\n",
       "      <td>https://media.ssmu.ru/news/sotrudnik-sibgmu-ra...</td>\n",
       "      <td>223</td>\n",
       "      <td>Наука</td>\n",
       "      <td>Ассистент кафедры анатомии человека с курсом т...</td>\n",
       "    </tr>\n",
       "    <tr>\n",
       "      <th>3</th>\n",
       "      <td>2025-03-08</td>\n",
       "      <td>Поздравление ректора СибГМУ с Международным же...</td>\n",
       "      <td>https://media.ssmu.ru/news/pozdravlenie-rektor...</td>\n",
       "      <td>343</td>\n",
       "      <td>Университет</td>\n",
       "      <td>Дорогие женщины, искренне поздравляю вас с Меж...</td>\n",
       "    </tr>\n",
       "    <tr>\n",
       "      <th>4</th>\n",
       "      <td>2025-03-07</td>\n",
       "      <td>Юбилей празднует специалист по учебно-методиче...</td>\n",
       "      <td>https://media.ssmu.ru/news/yubiley-prazdnuet-s...</td>\n",
       "      <td>377</td>\n",
       "      <td>Университет</td>\n",
       "      <td>Сегодня, 7 марта, день рождения отмечает специ...</td>\n",
       "    </tr>\n",
       "    <tr>\n",
       "      <th>...</th>\n",
       "      <td>...</td>\n",
       "      <td>...</td>\n",
       "      <td>...</td>\n",
       "      <td>...</td>\n",
       "      <td>...</td>\n",
       "      <td>...</td>\n",
       "    </tr>\n",
       "    <tr>\n",
       "      <th>1894</th>\n",
       "      <td>2021-05-28</td>\n",
       "      <td>«Человек года в СибГМУ»: студент Владислав Бел...</td>\n",
       "      <td>https://media.ssmu.ru/news/chelovek-goda-v-sib...</td>\n",
       "      <td>72</td>\n",
       "      <td>Университет, Мир СибГМУ</td>\n",
       "      <td>Одним из победителей конкурса «Человек года-20...</td>\n",
       "    </tr>\n",
       "    <tr>\n",
       "      <th>1895</th>\n",
       "      <td>2021-04-27</td>\n",
       "      <td>«Человек года в СибГМУ»: студентка Анастасия Р...</td>\n",
       "      <td>https://media.ssmu.ru/news/chelovek-goda-v-sib...</td>\n",
       "      <td>74</td>\n",
       "      <td>Университет, Студенчество</td>\n",
       "      <td>Одним из победителей конкурса «Человек года-20...</td>\n",
       "    </tr>\n",
       "    <tr>\n",
       "      <th>1896</th>\n",
       "      <td>2021-04-13</td>\n",
       "      <td>«Человек года в СибГМУ»: Алена Шадрина о возмо...</td>\n",
       "      <td>https://media.ssmu.ru/news/chelovek-goda-v-sib...</td>\n",
       "      <td>130</td>\n",
       "      <td>Университет, Студенчество</td>\n",
       "      <td>Одним из победителей конкурса «Человек года-20...</td>\n",
       "    </tr>\n",
       "    <tr>\n",
       "      <th>1897</th>\n",
       "      <td>2021-03-26</td>\n",
       "      <td>«Человек года в СибГМУ»: Екатерина Трифонова о...</td>\n",
       "      <td>https://media.ssmu.ru/news/chelovek-goda-v-sib...</td>\n",
       "      <td>86</td>\n",
       "      <td>Университет, Студенчество</td>\n",
       "      <td>Одним из победителей конкурса «Человек года-20...</td>\n",
       "    </tr>\n",
       "    <tr>\n",
       "      <th>1898</th>\n",
       "      <td>2021-02-25</td>\n",
       "      <td>«Человек года в СибГМУ»: анестезиолог-реанимат...</td>\n",
       "      <td>https://media.ssmu.ru/news/chelovek-goda-v-sib...</td>\n",
       "      <td>65</td>\n",
       "      <td>Университет</td>\n",
       "      <td>Одним из победителей конкурса «Человек года-20...</td>\n",
       "    </tr>\n",
       "  </tbody>\n",
       "</table>\n",
       "<p>1899 rows × 6 columns</p>\n",
       "</div>"
      ],
      "text/plain": [
       "       Published                                              Title  \\\n",
       "0     2025-03-12  СибГМУ выступил соорганизатором международной ...   \n",
       "1     2025-03-11  В СибГМУ подведены итоги отбора участников про...   \n",
       "2     2025-03-10  Сотрудник СибГМУ рассказала, как сохранить здо...   \n",
       "3     2025-03-08  Поздравление ректора СибГМУ с Международным же...   \n",
       "4     2025-03-07  Юбилей празднует специалист по учебно-методиче...   \n",
       "...          ...                                                ...   \n",
       "1894  2021-05-28  «Человек года в СибГМУ»: студент Владислав Бел...   \n",
       "1895  2021-04-27  «Человек года в СибГМУ»: студентка Анастасия Р...   \n",
       "1896  2021-04-13  «Человек года в СибГМУ»: Алена Шадрина о возмо...   \n",
       "1897  2021-03-26  «Человек года в СибГМУ»: Екатерина Трифонова о...   \n",
       "1898  2021-02-25  «Человек года в СибГМУ»: анестезиолог-реанимат...   \n",
       "\n",
       "                                                   Link Views  \\\n",
       "0     https://media.ssmu.ru/news/sibgmu-vystupil-soo...    69   \n",
       "1     https://media.ssmu.ru/news/v-sibgmu-zavershils...   146   \n",
       "2     https://media.ssmu.ru/news/sotrudnik-sibgmu-ra...   223   \n",
       "3     https://media.ssmu.ru/news/pozdravlenie-rektor...   343   \n",
       "4     https://media.ssmu.ru/news/yubiley-prazdnuet-s...   377   \n",
       "...                                                 ...   ...   \n",
       "1894  https://media.ssmu.ru/news/chelovek-goda-v-sib...    72   \n",
       "1895  https://media.ssmu.ru/news/chelovek-goda-v-sib...    74   \n",
       "1896  https://media.ssmu.ru/news/chelovek-goda-v-sib...   130   \n",
       "1897  https://media.ssmu.ru/news/chelovek-goda-v-sib...    86   \n",
       "1898  https://media.ssmu.ru/news/chelovek-goda-v-sib...    65   \n",
       "\n",
       "                           Tags  \\\n",
       "0                         Наука   \n",
       "1                   Образование   \n",
       "2                         Наука   \n",
       "3                   Университет   \n",
       "4                   Университет   \n",
       "...                         ...   \n",
       "1894    Университет, Мир СибГМУ   \n",
       "1895  Университет, Студенчество   \n",
       "1896  Университет, Студенчество   \n",
       "1897  Университет, Студенчество   \n",
       "1898                Университет   \n",
       "\n",
       "                                                Content  \n",
       "0     СибГМУ уже второй раз принял участие в междуна...  \n",
       "1     Проект был запущен в 2022 году в рамках програ...  \n",
       "2     Ассистент кафедры анатомии человека с курсом т...  \n",
       "3     Дорогие женщины, искренне поздравляю вас с Меж...  \n",
       "4     Сегодня, 7 марта, день рождения отмечает специ...  \n",
       "...                                                 ...  \n",
       "1894  Одним из победителей конкурса «Человек года-20...  \n",
       "1895  Одним из победителей конкурса «Человек года-20...  \n",
       "1896  Одним из победителей конкурса «Человек года-20...  \n",
       "1897  Одним из победителей конкурса «Человек года-20...  \n",
       "1898  Одним из победителей конкурса «Человек года-20...  \n",
       "\n",
       "[1899 rows x 6 columns]"
      ]
     },
     "execution_count": 7,
     "metadata": {},
     "output_type": "execute_result"
    }
   ],
   "source": [
    "data = pd.DataFrame(news)\n",
    "data.to_csv(\"news_data.csv\", index=False, encoding=\"utf-8\")  # Сохранение в CSV\n",
    "data"
   ]
  }
 ],
 "metadata": {
  "kernelspec": {
   "display_name": "Python 3 (ipykernel)",
   "language": "python",
   "name": "python3"
  },
  "language_info": {
   "codemirror_mode": {
    "name": "ipython",
    "version": 3
   },
   "file_extension": ".py",
   "mimetype": "text/x-python",
   "name": "python",
   "nbconvert_exporter": "python",
   "pygments_lexer": "ipython3",
   "version": "3.9.13"
  }
 },
 "nbformat": 4,
 "nbformat_minor": 5
}
