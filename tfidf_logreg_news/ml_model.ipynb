{
 "cells": [
  {
   "cell_type": "markdown",
   "id": "ffad68ef",
   "metadata": {},
   "source": [
    "# Классификация новостей по тегам на основе текстового содержимого"
   ]
  },
  {
   "cell_type": "markdown",
   "id": "211e4207",
   "metadata": {},
   "source": [
    "**Цель:** Решение задачи многозначной многоклассовой классификации новостей на основе ключевых слов из текстового описания."
   ]
  },
  {
   "cell_type": "markdown",
   "id": "88def316",
   "metadata": {},
   "source": [
    "## Применение NLP для решения задачи классификации"
   ]
  },
  {
   "cell_type": "markdown",
   "id": "8b05fd6e",
   "metadata": {},
   "source": [
    "### Подключение библиотек и загрузка данных"
   ]
  },
  {
   "cell_type": "code",
   "execution_count": 1,
   "id": "c2741f4a",
   "metadata": {},
   "outputs": [],
   "source": [
    "import numpy as np\n",
    "import pandas as pd\n",
    "import matplotlib.pyplot as plt\n",
    "import seaborn as sns\n",
    "from tqdm import tqdm\n",
    "import re\n",
    "import spacy\n",
    "from spacy.lang.ru.stop_words import STOP_WORDS\n",
    "from sklearn.feature_extraction.text import TfidfVectorizer\n",
    "from sklearn.preprocessing import MultiLabelBinarizer\n",
    "from sklearn.multiclass import OneVsRestClassifier\n",
    "from sklearn.linear_model import LogisticRegression\n",
    "from sklearn.model_selection import train_test_split\n",
    "from sklearn.metrics import classification_report, hamming_loss"
   ]
  },
  {
   "cell_type": "code",
   "execution_count": 2,
   "id": "fbac6990",
   "metadata": {},
   "outputs": [],
   "source": [
    "tokenizer = spacy.load(\"ru_core_news_lg\")\n",
    "\n",
    "data = pd.read_csv(\"news_data.csv\", encoding=\"utf-8\")"
   ]
  },
  {
   "cell_type": "code",
   "execution_count": 3,
   "id": "2c6253a0",
   "metadata": {},
   "outputs": [
    {
     "name": "stdout",
     "output_type": "stream",
     "text": [
      "Опубликовано: 2024-04-01\n",
      "Заголовок: 240 человек приняли участие в Дне открытых дверей в СибГМУ\n",
      "Теги: Образование\n",
      "Просмотры: 519\n",
      "Контент: 30 марта в СибГМУ прошел День открытых дверей для школьников, желающих познакомиться с медицинским образованием и будущими специальностями университета. Мероприятие сопровождалось финалом конкурса предпрофессиональных умений «Медскиллс», по результатам которого победители и призеры получили 10 дополнительных баллов при поступлении в СибГМУ. Мероприятия реализованы в рамках программы «МедКласс».   \n",
      "\r\n",
      "\t В течение трех дней участники проходили обучение по пяти направлениям: «Врач», «Лекарства», «Ла...\n",
      "\n",
      "\n",
      "\n",
      "--------\n",
      "\n",
      "\n",
      "\n",
      "Опубликовано: 2024-05-31\n",
      "Заголовок: В СибГМУ подвели итоги школы педагога высшего медицинского образования\n",
      "Теги: Образование\n",
      "Просмотры: 523\n",
      "Контент: В СибГМУ завершился весенний сезон школы молодых педагогов. Участие в образовательной программе приняли более 20 сотрудников университета. На протяжение месяца под руководством экспертов участники разбирали актуальные вопросы педагогической практики, чтобы повысить свой профессиональный уровень.\n",
      "\r\n",
      "\t Для защиты итогового проекта участникам необходимо было представить образовательную технологию, которая применима для потенциального курса обучающегося, смоделировать обучение через цикл Колба и разр...\n",
      "\n",
      "\n",
      "\n",
      "--------\n",
      "\n",
      "\n",
      "\n",
      "Опубликовано: 2024-04-17\n",
      "Заголовок: Команда сотрудников СибГМУ выиграла серебро в соревнованиях по волейболу\n",
      "Теги: Мир СибГМУ\n",
      "Просмотры: 291\n",
      "Контент: В Томске прошли соревнования по волейболу в рамках спартакиады сотрудников вузов Томска. По итогам игры мужская сборная заняла второе место.\n",
      "\r\n",
      "\t В состав команды вошли:\r\n",
      "\n",
      "\n",
      "\n",
      "\n",
      "\n",
      "\r\n",
      "\t\tпомощник ректора Максим Мельниченко;  \r\n",
      "\t\n",
      "\n",
      "\n",
      "\r\n",
      "\t\tдоктор медицинских наук, доцент, профессор кафедры детских хирургических болезней СибГМУ Иван Кужеливский;\r\n",
      "\t\n",
      "\n",
      "\n",
      "\r\n",
      "\t\tординатор кафедры неврологии Сергей Перевалов;\r\n",
      "\t\n",
      "\n",
      "\n",
      "\r\n",
      "\t\tначальник инженерно-технический отдел Андрей Вихров;\r\n",
      "\t\n",
      "\n",
      "\n",
      "\r\n",
      "\t\tврач-патологоанатом патологоанатомическ...\n",
      "\n",
      "\n",
      "\n"
     ]
    }
   ],
   "source": [
    "sample = data.sample(n=3)\n",
    "\n",
    "for index, new in enumerate(sample.itertuples()):\n",
    "    print(f\"Опубликовано: {new.Published}\")\n",
    "    print(f\"Заголовок: {new.Title}\")\n",
    "    print(f\"Теги: {new.Tags}\")\n",
    "    print(f\"Просмотры: {new.Views}\")\n",
    "    print(f\"Контент: {new.Content[:500]}...\")\n",
    "    \n",
    "    print(\"\\n\\n\")\n",
    "    if len(sample) > index + 1:\n",
    "        print(\"--------\")\n",
    "        print(\"\\n\\n\")"
   ]
  },
  {
   "cell_type": "markdown",
   "id": "ebeda430",
   "metadata": {},
   "source": [
    "## EDA"
   ]
  },
  {
   "cell_type": "code",
   "execution_count": 4,
   "id": "b852df21",
   "metadata": {},
   "outputs": [
    {
     "name": "stdout",
     "output_type": "stream",
     "text": [
      "<class 'pandas.core.frame.DataFrame'>\n",
      "RangeIndex: 1899 entries, 0 to 1898\n",
      "Data columns (total 6 columns):\n",
      " #   Column     Non-Null Count  Dtype \n",
      "---  ------     --------------  ----- \n",
      " 0   Published  1899 non-null   object\n",
      " 1   Title      1899 non-null   object\n",
      " 2   Link       1899 non-null   object\n",
      " 3   Views      1899 non-null   int64 \n",
      " 4   Tags       1883 non-null   object\n",
      " 5   Content    1899 non-null   object\n",
      "dtypes: int64(1), object(5)\n",
      "memory usage: 89.1+ KB\n"
     ]
    }
   ],
   "source": [
    "data.info()"
   ]
  },
  {
   "cell_type": "code",
   "execution_count": 5,
   "id": "111eb7a9",
   "metadata": {},
   "outputs": [
    {
     "name": "stdout",
     "output_type": "stream",
     "text": [
      "Дублей: 0\n",
      "Доля пропущенных целевых значений: 0.85%\n"
     ]
    }
   ],
   "source": [
    "print(f\"Дублей: {data.duplicated(subset=['Link']).sum()}\")\n",
    "print(f\"Доля пропущенных целевых значений: {100 * data.loc[data['Tags'].isna(), :].shape[0] / 1888:.2f}%\")"
   ]
  },
  {
   "cell_type": "markdown",
   "id": "5c695fbd",
   "metadata": {},
   "source": [
    "*Удалим пропуски*"
   ]
  },
  {
   "cell_type": "code",
   "execution_count": 6,
   "id": "6debfb9b",
   "metadata": {},
   "outputs": [
    {
     "name": "stdout",
     "output_type": "stream",
     "text": [
      "Осталось объектов: 1883\n"
     ]
    }
   ],
   "source": [
    "data = data.loc[data[\"Tags\"].notna(), :]\n",
    "print(f\"Осталось объектов: {data.shape[0]}\")"
   ]
  },
  {
   "cell_type": "code",
   "execution_count": 7,
   "id": "460bce56",
   "metadata": {},
   "outputs": [
    {
     "data": {
      "text/html": [
       "<div>\n",
       "<style scoped>\n",
       "    .dataframe tbody tr th:only-of-type {\n",
       "        vertical-align: middle;\n",
       "    }\n",
       "\n",
       "    .dataframe tbody tr th {\n",
       "        vertical-align: top;\n",
       "    }\n",
       "\n",
       "    .dataframe thead th {\n",
       "        text-align: right;\n",
       "    }\n",
       "</style>\n",
       "<table border=\"1\" class=\"dataframe\">\n",
       "  <thead>\n",
       "    <tr style=\"text-align: right;\">\n",
       "      <th></th>\n",
       "      <th>Published</th>\n",
       "      <th>Title</th>\n",
       "      <th>Link</th>\n",
       "      <th>Views</th>\n",
       "      <th>Tags</th>\n",
       "      <th>Content</th>\n",
       "    </tr>\n",
       "  </thead>\n",
       "  <tbody>\n",
       "    <tr>\n",
       "      <th>0</th>\n",
       "      <td>2025-03-12</td>\n",
       "      <td>СибГМУ выступил соорганизатором международной ...</td>\n",
       "      <td>https://media.ssmu.ru/news/sibgmu-vystupil-soo...</td>\n",
       "      <td>69</td>\n",
       "      <td>Наука</td>\n",
       "      <td>СибГМУ уже второй раз принял участие в междуна...</td>\n",
       "    </tr>\n",
       "    <tr>\n",
       "      <th>1</th>\n",
       "      <td>2025-03-11</td>\n",
       "      <td>В СибГМУ подведены итоги отбора участников про...</td>\n",
       "      <td>https://media.ssmu.ru/news/v-sibgmu-zavershils...</td>\n",
       "      <td>146</td>\n",
       "      <td>Образование</td>\n",
       "      <td>Проект был запущен в 2022 году в рамках програ...</td>\n",
       "    </tr>\n",
       "    <tr>\n",
       "      <th>2</th>\n",
       "      <td>2025-03-10</td>\n",
       "      <td>Сотрудник СибГМУ рассказала, как сохранить здо...</td>\n",
       "      <td>https://media.ssmu.ru/news/sotrudnik-sibgmu-ra...</td>\n",
       "      <td>223</td>\n",
       "      <td>Наука</td>\n",
       "      <td>Ассистент кафедры анатомии человека с курсом т...</td>\n",
       "    </tr>\n",
       "    <tr>\n",
       "      <th>3</th>\n",
       "      <td>2025-03-08</td>\n",
       "      <td>Поздравление ректора СибГМУ с Международным же...</td>\n",
       "      <td>https://media.ssmu.ru/news/pozdravlenie-rektor...</td>\n",
       "      <td>343</td>\n",
       "      <td>Университет</td>\n",
       "      <td>Дорогие женщины, искренне поздравляю вас с Меж...</td>\n",
       "    </tr>\n",
       "    <tr>\n",
       "      <th>4</th>\n",
       "      <td>2025-03-07</td>\n",
       "      <td>Юбилей празднует специалист по учебно-методиче...</td>\n",
       "      <td>https://media.ssmu.ru/news/yubiley-prazdnuet-s...</td>\n",
       "      <td>377</td>\n",
       "      <td>Университет</td>\n",
       "      <td>Сегодня, 7 марта, день рождения отмечает специ...</td>\n",
       "    </tr>\n",
       "    <tr>\n",
       "      <th>...</th>\n",
       "      <td>...</td>\n",
       "      <td>...</td>\n",
       "      <td>...</td>\n",
       "      <td>...</td>\n",
       "      <td>...</td>\n",
       "      <td>...</td>\n",
       "    </tr>\n",
       "    <tr>\n",
       "      <th>1894</th>\n",
       "      <td>2021-05-28</td>\n",
       "      <td>«Человек года в СибГМУ»: студент Владислав Бел...</td>\n",
       "      <td>https://media.ssmu.ru/news/chelovek-goda-v-sib...</td>\n",
       "      <td>72</td>\n",
       "      <td>Университет, Мир СибГМУ</td>\n",
       "      <td>Одним из победителей конкурса «Человек года-20...</td>\n",
       "    </tr>\n",
       "    <tr>\n",
       "      <th>1895</th>\n",
       "      <td>2021-04-27</td>\n",
       "      <td>«Человек года в СибГМУ»: студентка Анастасия Р...</td>\n",
       "      <td>https://media.ssmu.ru/news/chelovek-goda-v-sib...</td>\n",
       "      <td>74</td>\n",
       "      <td>Университет, Студенчество</td>\n",
       "      <td>Одним из победителей конкурса «Человек года-20...</td>\n",
       "    </tr>\n",
       "    <tr>\n",
       "      <th>1896</th>\n",
       "      <td>2021-04-13</td>\n",
       "      <td>«Человек года в СибГМУ»: Алена Шадрина о возмо...</td>\n",
       "      <td>https://media.ssmu.ru/news/chelovek-goda-v-sib...</td>\n",
       "      <td>130</td>\n",
       "      <td>Университет, Студенчество</td>\n",
       "      <td>Одним из победителей конкурса «Человек года-20...</td>\n",
       "    </tr>\n",
       "    <tr>\n",
       "      <th>1897</th>\n",
       "      <td>2021-03-26</td>\n",
       "      <td>«Человек года в СибГМУ»: Екатерина Трифонова о...</td>\n",
       "      <td>https://media.ssmu.ru/news/chelovek-goda-v-sib...</td>\n",
       "      <td>86</td>\n",
       "      <td>Университет, Студенчество</td>\n",
       "      <td>Одним из победителей конкурса «Человек года-20...</td>\n",
       "    </tr>\n",
       "    <tr>\n",
       "      <th>1898</th>\n",
       "      <td>2021-02-25</td>\n",
       "      <td>«Человек года в СибГМУ»: анестезиолог-реанимат...</td>\n",
       "      <td>https://media.ssmu.ru/news/chelovek-goda-v-sib...</td>\n",
       "      <td>65</td>\n",
       "      <td>Университет</td>\n",
       "      <td>Одним из победителей конкурса «Человек года-20...</td>\n",
       "    </tr>\n",
       "  </tbody>\n",
       "</table>\n",
       "<p>1883 rows × 6 columns</p>\n",
       "</div>"
      ],
      "text/plain": [
       "       Published                                              Title  \\\n",
       "0     2025-03-12  СибГМУ выступил соорганизатором международной ...   \n",
       "1     2025-03-11  В СибГМУ подведены итоги отбора участников про...   \n",
       "2     2025-03-10  Сотрудник СибГМУ рассказала, как сохранить здо...   \n",
       "3     2025-03-08  Поздравление ректора СибГМУ с Международным же...   \n",
       "4     2025-03-07  Юбилей празднует специалист по учебно-методиче...   \n",
       "...          ...                                                ...   \n",
       "1894  2021-05-28  «Человек года в СибГМУ»: студент Владислав Бел...   \n",
       "1895  2021-04-27  «Человек года в СибГМУ»: студентка Анастасия Р...   \n",
       "1896  2021-04-13  «Человек года в СибГМУ»: Алена Шадрина о возмо...   \n",
       "1897  2021-03-26  «Человек года в СибГМУ»: Екатерина Трифонова о...   \n",
       "1898  2021-02-25  «Человек года в СибГМУ»: анестезиолог-реанимат...   \n",
       "\n",
       "                                                   Link  Views  \\\n",
       "0     https://media.ssmu.ru/news/sibgmu-vystupil-soo...     69   \n",
       "1     https://media.ssmu.ru/news/v-sibgmu-zavershils...    146   \n",
       "2     https://media.ssmu.ru/news/sotrudnik-sibgmu-ra...    223   \n",
       "3     https://media.ssmu.ru/news/pozdravlenie-rektor...    343   \n",
       "4     https://media.ssmu.ru/news/yubiley-prazdnuet-s...    377   \n",
       "...                                                 ...    ...   \n",
       "1894  https://media.ssmu.ru/news/chelovek-goda-v-sib...     72   \n",
       "1895  https://media.ssmu.ru/news/chelovek-goda-v-sib...     74   \n",
       "1896  https://media.ssmu.ru/news/chelovek-goda-v-sib...    130   \n",
       "1897  https://media.ssmu.ru/news/chelovek-goda-v-sib...     86   \n",
       "1898  https://media.ssmu.ru/news/chelovek-goda-v-sib...     65   \n",
       "\n",
       "                           Tags  \\\n",
       "0                         Наука   \n",
       "1                   Образование   \n",
       "2                         Наука   \n",
       "3                   Университет   \n",
       "4                   Университет   \n",
       "...                         ...   \n",
       "1894    Университет, Мир СибГМУ   \n",
       "1895  Университет, Студенчество   \n",
       "1896  Университет, Студенчество   \n",
       "1897  Университет, Студенчество   \n",
       "1898                Университет   \n",
       "\n",
       "                                                Content  \n",
       "0     СибГМУ уже второй раз принял участие в междуна...  \n",
       "1     Проект был запущен в 2022 году в рамках програ...  \n",
       "2     Ассистент кафедры анатомии человека с курсом т...  \n",
       "3     Дорогие женщины, искренне поздравляю вас с Меж...  \n",
       "4     Сегодня, 7 марта, день рождения отмечает специ...  \n",
       "...                                                 ...  \n",
       "1894  Одним из победителей конкурса «Человек года-20...  \n",
       "1895  Одним из победителей конкурса «Человек года-20...  \n",
       "1896  Одним из победителей конкурса «Человек года-20...  \n",
       "1897  Одним из победителей конкурса «Человек года-20...  \n",
       "1898  Одним из победителей конкурса «Человек года-20...  \n",
       "\n",
       "[1883 rows x 6 columns]"
      ]
     },
     "execution_count": 7,
     "metadata": {},
     "output_type": "execute_result"
    }
   ],
   "source": [
    "data"
   ]
  },
  {
   "cell_type": "markdown",
   "id": "dda32d14",
   "metadata": {},
   "source": [
    "###  Анализ целевой переменной"
   ]
  },
  {
   "cell_type": "code",
   "execution_count": 8,
   "id": "a59477d6",
   "metadata": {},
   "outputs": [
    {
     "name": "stdout",
     "output_type": "stream",
     "text": [
      "Распределение количества тегов в новости\n",
      "1    1689\n",
      "2     177\n",
      "3      15\n",
      "4       2\n",
      "Name: Tags Quantity, dtype: int64\n"
     ]
    }
   ],
   "source": [
    "data[\"Tags Quantity\"] = data[\"Tags\"].apply(lambda x: x.count(\",\")+1)\n",
    "print(\"Распределение количества тегов в новости\")\n",
    "print(data[\"Tags Quantity\"].value_counts())"
   ]
  },
  {
   "cell_type": "code",
   "execution_count": 9,
   "id": "42a4e26a",
   "metadata": {},
   "outputs": [
    {
     "data": {
      "image/png": "[encoded data removed]",
      "text/plain": [
       "<Figure size 1000x500 with 1 Axes>"
      ]
     },
     "metadata": {},
     "output_type": "display_data"
    }
   ],
   "source": [
    "all_tags = [tag.strip() for tags in data[\"Tags\"] for tag in tags.split(\",\")]  # Развернем теги в плоский список\n",
    "tag_counts = pd.Series(all_tags).value_counts()  # Расчет частоты встречаемости каждого тега\n",
    "\n",
    "# Гистограмма распределения тегов\n",
    "plt.figure(figsize=(10, 5))\n",
    "ax = sns.barplot(x=tag_counts.index, y=tag_counts.values / sum(tag_counts.values), palette=\"viridis\")\n",
    "\n",
    "for i, v in enumerate(tag_counts.values / sum(tag_counts.values)):\n",
    "    ax.text(i, v / 2, f\"{tag_counts.values[i]}\", ha='center', va='center', \n",
    "            color=\"white\", fontsize=10, fontweight=\"bold\")\n",
    "    \n",
    "plt.xlabel(\"Теги\")\n",
    "plt.ylabel(\"Частота\")\n",
    "plt.title(\"Распределение тегов\")\n",
    "plt.show()"
   ]
  },
  {
   "cell_type": "markdown",
   "id": "f3666e87",
   "metadata": {},
   "source": [
    "Для оценки **дисбаланса классов** помимо визуализации используем **коэффициент вариации** - степень разброса данных относительно среднего"
   ]
  },
  {
   "cell_type": "code",
   "execution_count": 10,
   "id": "1a3a3169",
   "metadata": {},
   "outputs": [
    {
     "name": "stdout",
     "output_type": "stream",
     "text": [
      "Основные статистики распределения тегов:\n",
      "\n",
      "Минимальное количество вхождений: 63\n",
      "Максимальное количество вхождений: 625\n",
      "Среднее количество вхождений: 299\n",
      "Стандартное отклонение: 217\n",
      "Коэффициент вариации (CV): 0.73 (чем выше, тем больше разброс)\n",
      "\n",
      "Сильный дисбаланс! Одни теги преобладают над другими.\n"
     ]
    }
   ],
   "source": [
    "# Основные статистики\n",
    "min_count = tag_counts.min()\n",
    "max_count = tag_counts.max()\n",
    "mean_count = tag_counts.mean()\n",
    "std_dev = tag_counts.std()\n",
    "cv = std_dev / mean_count  # Коэффициент вариации\n",
    "\n",
    "print(f\"Основные статистики распределения тегов:\\n\")\n",
    "print(f\"Минимальное количество вхождений: {min_count}\")\n",
    "print(f\"Максимальное количество вхождений: {max_count}\")\n",
    "print(f\"Среднее количество вхождений: {mean_count:.0f}\")\n",
    "print(f\"Стандартное отклонение: {std_dev:.0f}\")\n",
    "print(f\"Коэффициент вариации (CV): {cv:.2f} (чем выше, тем больше разброс)\\n\")\n",
    "\n",
    "if cv < 0.25:\n",
    "    print(\"Дисбаланс незначительный. Распределение тегов относительно ровное.\")\n",
    "elif 0.25 <= cv < 0.5:\n",
    "    print(\"Умеренный дисбаланс. Некоторые теги встречаются заметно чаще.\")\n",
    "elif 0.5 <= cv < 0.75:\n",
    "    print(\"Сильный дисбаланс! Одни теги преобладают над другими.\")\n",
    "else:\n",
    "    print(\"Крайний дисбаланс! Модель может игнорировать редкие теги.\")"
   ]
  },
  {
   "cell_type": "markdown",
   "id": "69110993",
   "metadata": {},
   "source": [
    "## Обработка данных"
   ]
  },
  {
   "cell_type": "markdown",
   "id": "99022ff6",
   "metadata": {},
   "source": [
    "*Отбросим ненужные столбцы*"
   ]
  },
  {
   "cell_type": "code",
   "execution_count": 11,
   "id": "5186a9cc",
   "metadata": {},
   "outputs": [],
   "source": [
    "data = data.drop(columns=[\"Published\", \"Title\", \"Link\", \"Views\", \"Tags Quantity\"])"
   ]
  },
  {
   "cell_type": "markdown",
   "id": "ff7d738f",
   "metadata": {},
   "source": [
    "### Приведение текста к форме, пригодной для анализа"
   ]
  },
  {
   "cell_type": "markdown",
   "id": "82f47c0b",
   "metadata": {},
   "source": [
    "Добавление стоп-слов в контексте медицинского университета РФ"
   ]
  },
  {
   "cell_type": "code",
   "execution_count": 12,
   "id": "b867f6ab",
   "metadata": {
    "scrolled": false
   },
   "outputs": [
    {
     "name": "stdout",
     "output_type": "stream",
     "text": [
      "Слов для исключения: 816\n"
     ]
    }
   ],
   "source": [
    "additional_stop_words = set([\n",
    "    \"сибирский\", \"государственный\", \"медицинский\", \"университет\",\n",
    "    \"томск\", \"томский\", \"сибгму\", \"сибгма\", \n",
    "    \"рф\", \"всероссийский\", \"российский\",\n",
    "    \"куликов\", \"евгений\", \"сергеевич\", \n",
    "    \"образование\", \"спикер\", \"конференция\", \"мероприятие\", \"декан\", \"заведующий\",  \n",
    "    \"кафедра\", \"факультет\", \"студент\", \"студентка\", \"преподаватель\",  \n",
    "    \"ректор\", \"обучение\", \"профессор\", \"медицина\",\n",
    "    \"лекция\", \"семинар\", \"практика\", \"доклад\", \"грант\",\n",
    "    \"рассказать\", \"узнать\", \"сайт\", \"главное\",\n",
    "    \"тыс\", \"кв\", \"млрд\", \"соответствие\", \"являться\",\n",
    "    \"человек\", \"год\", \"сегодня\", \"впервые\", \"смочь\"\n",
    "])\n",
    "\n",
    "stop_words = STOP_WORDS.union(additional_stop_words)\n",
    "print(\"Слов для исключения:\", len(stop_words))"
   ]
  },
  {
   "cell_type": "markdown",
   "id": "9c2ab584",
   "metadata": {},
   "source": [
    "**Функция предобработки сырого текста**"
   ]
  },
  {
   "cell_type": "code",
   "execution_count": 13,
   "id": "054c54ae",
   "metadata": {},
   "outputs": [],
   "source": [
    "def preprocess_text(text):\n",
    "    \"\"\"\n",
    "    Возвращает:\n",
    "        str: текст, приведённый к нормальной форме\n",
    "    \"\"\"\n",
    "    \n",
    "    text = re.sub(r\"[-—]\", \" \", text)  # Заменяем тире и дефисы на пробел\n",
    "    text = re.sub(r\"[^А-Яа-яЁё ]\", \" \", text)  # Оставляем только буквы и пробелы\n",
    "    text = re.sub(r\"\\s+\", \" \", text).strip().lower()  # Убираем лишние пробелы и приводим к нижнему регистру\n",
    "    \n",
    "    doc = tokenizer(text)\n",
    "    \n",
    "    tokens = [\n",
    "        token.lemma_ for token in doc\n",
    "        if token.lemma_ not in stop_words\n",
    "        and not token.is_punct and not token.is_space and not token.like_num\n",
    "        and token.ent_type_ not in {\"PER\", \"LOC\", \"ORG\", \"DATE\", \"MONEY\"}  # Исключаем именованные сущности\n",
    "    ]\n",
    "    \n",
    "    return \" \".join(tokens)"
   ]
  },
  {
   "cell_type": "code",
   "execution_count": 14,
   "id": "3dc6acd3",
   "metadata": {},
   "outputs": [
    {
     "name": "stderr",
     "output_type": "stream",
     "text": [
      "100%|██████████████████████████████████████████████████████████████████████████████| 1883/1883 [04:37<00:00,  6.78it/s]\n"
     ]
    },
    {
     "data": {
      "text/html": [
       "<div>\n",
       "<style scoped>\n",
       "    .dataframe tbody tr th:only-of-type {\n",
       "        vertical-align: middle;\n",
       "    }\n",
       "\n",
       "    .dataframe tbody tr th {\n",
       "        vertical-align: top;\n",
       "    }\n",
       "\n",
       "    .dataframe thead th {\n",
       "        text-align: right;\n",
       "    }\n",
       "</style>\n",
       "<table border=\"1\" class=\"dataframe\">\n",
       "  <thead>\n",
       "    <tr style=\"text-align: right;\">\n",
       "      <th></th>\n",
       "      <th>Tags</th>\n",
       "      <th>Content</th>\n",
       "      <th>Clean Content</th>\n",
       "    </tr>\n",
       "  </thead>\n",
       "  <tbody>\n",
       "    <tr>\n",
       "      <th>0</th>\n",
       "      <td>Наука</td>\n",
       "      <td>СибГМУ уже второй раз принял участие в междуна...</td>\n",
       "      <td>раз принять участие международный олимпиада по...</td>\n",
       "    </tr>\n",
       "    <tr>\n",
       "      <th>1</th>\n",
       "      <td>Образование</td>\n",
       "      <td>Проект был запущен в 2022 году в рамках програ...</td>\n",
       "      <td>проект запустить рамка программа приоритет цел...</td>\n",
       "    </tr>\n",
       "    <tr>\n",
       "      <th>2</th>\n",
       "      <td>Наука</td>\n",
       "      <td>Ассистент кафедры анатомии человека с курсом т...</td>\n",
       "      <td>ассистент анатомия курс топографический анатом...</td>\n",
       "    </tr>\n",
       "    <tr>\n",
       "      <th>3</th>\n",
       "      <td>Университет</td>\n",
       "      <td>Дорогие женщины, искренне поздравляю вас с Меж...</td>\n",
       "      <td>дорогой женщина искренне поздравлять междунаро...</td>\n",
       "    </tr>\n",
       "    <tr>\n",
       "      <th>4</th>\n",
       "      <td>Университет</td>\n",
       "      <td>Сегодня, 7 марта, день рождения отмечает специ...</td>\n",
       "      <td>март день рождение отмечать специалист учебно ...</td>\n",
       "    </tr>\n",
       "    <tr>\n",
       "      <th>...</th>\n",
       "      <td>...</td>\n",
       "      <td>...</td>\n",
       "      <td>...</td>\n",
       "    </tr>\n",
       "    <tr>\n",
       "      <th>1894</th>\n",
       "      <td>Университет, Мир СибГМУ</td>\n",
       "      <td>Одним из победителей конкурса «Человек года-20...</td>\n",
       "      <td>победитель конкурс номинация волонтёрский деят...</td>\n",
       "    </tr>\n",
       "    <tr>\n",
       "      <th>1895</th>\n",
       "      <td>Университет, Студенчество</td>\n",
       "      <td>Одним из победителей конкурса «Человек года-20...</td>\n",
       "      <td>победитель конкурс номинация студенчество курс...</td>\n",
       "    </tr>\n",
       "    <tr>\n",
       "      <th>1896</th>\n",
       "      <td>Университет, Студенчество</td>\n",
       "      <td>Одним из победителей конкурса «Человек года-20...</td>\n",
       "      <td>победитель конкурс номинация студенчество курс...</td>\n",
       "    </tr>\n",
       "    <tr>\n",
       "      <th>1897</th>\n",
       "      <td>Университет, Студенчество</td>\n",
       "      <td>Одним из победителей конкурса «Человек года-20...</td>\n",
       "      <td>победитель конкурс номинация студенчество курс...</td>\n",
       "    </tr>\n",
       "    <tr>\n",
       "      <th>1898</th>\n",
       "      <td>Университет</td>\n",
       "      <td>Одним из победителей конкурса «Человек года-20...</td>\n",
       "      <td>победитель конкурс номинация врач анестезиолог...</td>\n",
       "    </tr>\n",
       "  </tbody>\n",
       "</table>\n",
       "<p>1883 rows × 3 columns</p>\n",
       "</div>"
      ],
      "text/plain": [
       "                           Tags  \\\n",
       "0                         Наука   \n",
       "1                   Образование   \n",
       "2                         Наука   \n",
       "3                   Университет   \n",
       "4                   Университет   \n",
       "...                         ...   \n",
       "1894    Университет, Мир СибГМУ   \n",
       "1895  Университет, Студенчество   \n",
       "1896  Университет, Студенчество   \n",
       "1897  Университет, Студенчество   \n",
       "1898                Университет   \n",
       "\n",
       "                                                Content  \\\n",
       "0     СибГМУ уже второй раз принял участие в междуна...   \n",
       "1     Проект был запущен в 2022 году в рамках програ...   \n",
       "2     Ассистент кафедры анатомии человека с курсом т...   \n",
       "3     Дорогие женщины, искренне поздравляю вас с Меж...   \n",
       "4     Сегодня, 7 марта, день рождения отмечает специ...   \n",
       "...                                                 ...   \n",
       "1894  Одним из победителей конкурса «Человек года-20...   \n",
       "1895  Одним из победителей конкурса «Человек года-20...   \n",
       "1896  Одним из победителей конкурса «Человек года-20...   \n",
       "1897  Одним из победителей конкурса «Человек года-20...   \n",
       "1898  Одним из победителей конкурса «Человек года-20...   \n",
       "\n",
       "                                          Clean Content  \n",
       "0     раз принять участие международный олимпиада по...  \n",
       "1     проект запустить рамка программа приоритет цел...  \n",
       "2     ассистент анатомия курс топографический анатом...  \n",
       "3     дорогой женщина искренне поздравлять междунаро...  \n",
       "4     март день рождение отмечать специалист учебно ...  \n",
       "...                                                 ...  \n",
       "1894  победитель конкурс номинация волонтёрский деят...  \n",
       "1895  победитель конкурс номинация студенчество курс...  \n",
       "1896  победитель конкурс номинация студенчество курс...  \n",
       "1897  победитель конкурс номинация студенчество курс...  \n",
       "1898  победитель конкурс номинация врач анестезиолог...  \n",
       "\n",
       "[1883 rows x 3 columns]"
      ]
     },
     "execution_count": 14,
     "metadata": {},
     "output_type": "execute_result"
    }
   ],
   "source": [
    "tqdm.pandas()\n",
    "data[\"Clean Content\"] = data[\"Content\"].progress_apply(preprocess_text)\n",
    "data"
   ]
  },
  {
   "cell_type": "code",
   "execution_count": 15,
   "id": "30d541b9",
   "metadata": {},
   "outputs": [],
   "source": [
    "data = data[[\"Clean Content\", \"Tags\"]]"
   ]
  },
  {
   "cell_type": "markdown",
   "id": "089b5ac7",
   "metadata": {},
   "source": [
    "## Классификация новостей по тегам"
   ]
  },
  {
   "cell_type": "code",
   "execution_count": 16,
   "id": "ac1b4b92",
   "metadata": {},
   "outputs": [
    {
     "data": {
      "text/html": [
       "<div>\n",
       "<style scoped>\n",
       "    .dataframe tbody tr th:only-of-type {\n",
       "        vertical-align: middle;\n",
       "    }\n",
       "\n",
       "    .dataframe tbody tr th {\n",
       "        vertical-align: top;\n",
       "    }\n",
       "\n",
       "    .dataframe thead th {\n",
       "        text-align: right;\n",
       "    }\n",
       "</style>\n",
       "<table border=\"1\" class=\"dataframe\">\n",
       "  <thead>\n",
       "    <tr style=\"text-align: right;\">\n",
       "      <th></th>\n",
       "      <th>Clean Content</th>\n",
       "      <th>Tags</th>\n",
       "    </tr>\n",
       "  </thead>\n",
       "  <tbody>\n",
       "    <tr>\n",
       "      <th>0</th>\n",
       "      <td>раз принять участие международный олимпиада по...</td>\n",
       "      <td>[Наука]</td>\n",
       "    </tr>\n",
       "    <tr>\n",
       "      <th>1</th>\n",
       "      <td>проект запустить рамка программа приоритет цел...</td>\n",
       "      <td>[Образование]</td>\n",
       "    </tr>\n",
       "    <tr>\n",
       "      <th>2</th>\n",
       "      <td>ассистент анатомия курс топографический анатом...</td>\n",
       "      <td>[Наука]</td>\n",
       "    </tr>\n",
       "    <tr>\n",
       "      <th>3</th>\n",
       "      <td>дорогой женщина искренне поздравлять междунаро...</td>\n",
       "      <td>[Университет]</td>\n",
       "    </tr>\n",
       "    <tr>\n",
       "      <th>4</th>\n",
       "      <td>март день рождение отмечать специалист учебно ...</td>\n",
       "      <td>[Университет]</td>\n",
       "    </tr>\n",
       "    <tr>\n",
       "      <th>...</th>\n",
       "      <td>...</td>\n",
       "      <td>...</td>\n",
       "    </tr>\n",
       "    <tr>\n",
       "      <th>1894</th>\n",
       "      <td>победитель конкурс номинация волонтёрский деят...</td>\n",
       "      <td>[Университет, Мир СибГМУ]</td>\n",
       "    </tr>\n",
       "    <tr>\n",
       "      <th>1895</th>\n",
       "      <td>победитель конкурс номинация студенчество курс...</td>\n",
       "      <td>[Университет, Студенчество]</td>\n",
       "    </tr>\n",
       "    <tr>\n",
       "      <th>1896</th>\n",
       "      <td>победитель конкурс номинация студенчество курс...</td>\n",
       "      <td>[Университет, Студенчество]</td>\n",
       "    </tr>\n",
       "    <tr>\n",
       "      <th>1897</th>\n",
       "      <td>победитель конкурс номинация студенчество курс...</td>\n",
       "      <td>[Университет, Студенчество]</td>\n",
       "    </tr>\n",
       "    <tr>\n",
       "      <th>1898</th>\n",
       "      <td>победитель конкурс номинация врач анестезиолог...</td>\n",
       "      <td>[Университет]</td>\n",
       "    </tr>\n",
       "  </tbody>\n",
       "</table>\n",
       "<p>1883 rows × 2 columns</p>\n",
       "</div>"
      ],
      "text/plain": [
       "                                          Clean Content  \\\n",
       "0     раз принять участие международный олимпиада по...   \n",
       "1     проект запустить рамка программа приоритет цел...   \n",
       "2     ассистент анатомия курс топографический анатом...   \n",
       "3     дорогой женщина искренне поздравлять междунаро...   \n",
       "4     март день рождение отмечать специалист учебно ...   \n",
       "...                                                 ...   \n",
       "1894  победитель конкурс номинация волонтёрский деят...   \n",
       "1895  победитель конкурс номинация студенчество курс...   \n",
       "1896  победитель конкурс номинация студенчество курс...   \n",
       "1897  победитель конкурс номинация студенчество курс...   \n",
       "1898  победитель конкурс номинация врач анестезиолог...   \n",
       "\n",
       "                             Tags  \n",
       "0                         [Наука]  \n",
       "1                   [Образование]  \n",
       "2                         [Наука]  \n",
       "3                   [Университет]  \n",
       "4                   [Университет]  \n",
       "...                           ...  \n",
       "1894    [Университет, Мир СибГМУ]  \n",
       "1895  [Университет, Студенчество]  \n",
       "1896  [Университет, Студенчество]  \n",
       "1897  [Университет, Студенчество]  \n",
       "1898                [Университет]  \n",
       "\n",
       "[1883 rows x 2 columns]"
      ]
     },
     "execution_count": 16,
     "metadata": {},
     "output_type": "execute_result"
    }
   ],
   "source": [
    "data = data.copy()\n",
    "data[\"Tags\"] = data[\"Tags\"].apply(lambda x: x.split(\", \"))\n",
    "data"
   ]
  },
  {
   "cell_type": "markdown",
   "id": "79d40dfa",
   "metadata": {},
   "source": [
    "`MultiLabelBinarizer()` преобразует списки тегов (multi-label) в бинарную матрицу, где:  \n",
    "- `1` означает, что тег присутствует в новости.  \n",
    "- `0` означает, что тег отсутствует.  "
   ]
  },
  {
   "cell_type": "code",
   "execution_count": 17,
   "id": "3a236b7d",
   "metadata": {},
   "outputs": [
    {
     "name": "stdout",
     "output_type": "stream",
     "text": [
      "Закодированные теги: Клиники, Мир СибГМУ, Наука, Образование, Партнеры, Студенчество, Университет\n",
      "Примеры кодирования тегов:\n",
      "[[0 0 1 0 0 0 0]\n",
      " [0 0 0 1 0 0 0]\n",
      " [0 0 1 0 0 0 0]\n",
      " [0 0 0 0 0 0 1]\n",
      " [0 0 0 0 0 0 1]]\n",
      "------------------\n",
      "[[0 1 0 0 0 0 1]\n",
      " [0 0 0 0 0 1 1]\n",
      " [0 0 0 0 0 1 1]\n",
      " [0 0 0 0 0 1 1]\n",
      " [0 0 0 0 0 0 1]]\n"
     ]
    }
   ],
   "source": [
    "mlb = MultiLabelBinarizer()\n",
    "y = mlb.fit_transform(data[\"Tags\"])\n",
    "\n",
    "print(f\"Закодированные теги: {', '.join(mlb.classes_)}\")\n",
    "print(\"Примеры кодирования тегов:\", y[:5], \"-\" * (len(mlb.classes_)*2 + 4), y[-5:], sep=\"\\n\")"
   ]
  },
  {
   "cell_type": "markdown",
   "id": "e3fa1f1c",
   "metadata": {},
   "source": [
    "### Разбиение набора данных на train и test"
   ]
  },
  {
   "cell_type": "code",
   "execution_count": 18,
   "id": "13684230",
   "metadata": {},
   "outputs": [],
   "source": [
    "X_train, X_test, y_train, y_test = train_test_split(data[\"Clean Content\"], y, test_size=0.25, random_state=42)"
   ]
  },
  {
   "cell_type": "markdown",
   "id": "bb078f03",
   "metadata": {},
   "source": [
    "### Кодирование слов &mdash; TF&ndash;IDF преобразование"
   ]
  },
  {
   "cell_type": "markdown",
   "id": "8960301b",
   "metadata": {},
   "source": [
    "**TF-IDF** (Term Frequency - Inverse Document Frequency) преобразование — преобразование документов в числовые признаки, отражающие **значимость** слов в **контексте документа**. Полученная разреженная матрица (`csr_matrix`) экономит память, так как хранит только ненулевые значения, поскольку большинство слов не встречаются в каждом тексте. Формула вычисления **TF-IDF** для слова `t` в документе `d` выглядит так:\n",
    "\n",
    "$$\\text{TF-IDF}(t, d) = \\text{TF}(t, d) \\times \\log \\frac{N}{\\text{DF}(t)}$$\n",
    "\n",
    "где:  \n",
    "- **TF** — частота слова в документе.  \n",
    "- **DF** — количество документов, содержащих это слово.  \n",
    "- **N** — общее число документов в корпусе.  "
   ]
  },
  {
   "cell_type": "code",
   "execution_count": 19,
   "id": "840d5273",
   "metadata": {},
   "outputs": [
    {
     "name": "stdout",
     "output_type": "stream",
     "text": [
      "Размер обучающего набора: (1412, 513)\n",
      "Размер тестового набора: (471, 513)\n",
      "Оставлено слов и пар слов в TF-IDF: 513\n"
     ]
    }
   ],
   "source": [
    "vectorizer = TfidfVectorizer(\n",
    "    ngram_range=(1, 2),  # Используем униграммы (отдельные слова) и биграммы (пары слов)\n",
    "    min_df=0.05,  # Слова, встречающиеся в менее чем 5% документов, удаляются\n",
    "    max_df=0.95,  # Слова, встречающиеся в более чем 95% документов, удаляются\n",
    "    norm=None  # Отключаем L2-регуляризацию\n",
    ")\n",
    "\n",
    "# Обучаем векторизатор на обучающем наборе и трансформируем оба набора\n",
    "X_train = vectorizer.fit_transform(X_train)\n",
    "X_test = vectorizer.transform(X_test)\n",
    "\n",
    "# Целевая переменная (если Tags — строка с метками, возможно, нужно бинаризовать или кодировать)\n",
    "y_train = y_train\n",
    "y_test = y_test\n",
    "\n",
    "# Выводим размеры полученных наборов\n",
    "print(f\"Размер обучающего набора: {X_train.shape}\")\n",
    "print(f\"Размер тестового набора: {X_test.shape}\")\n",
    "print(f\"Оставлено слов и пар слов в TF-IDF: {X_train.shape[1]}\")"
   ]
  },
  {
   "cell_type": "markdown",
   "id": "07049a86",
   "metadata": {},
   "source": [
    "### Обучение модели логистической регрессии"
   ]
  },
  {
   "cell_type": "markdown",
   "id": "d23b4925",
   "metadata": {},
   "source": [
    "`OneVsRestClassifier()` разбивает многоклассовую задачу на несколько бинарных, создавая отдельный классификатор для каждого класса"
   ]
  },
  {
   "cell_type": "code",
   "execution_count": 20,
   "id": "d182ea5f",
   "metadata": {
    "scrolled": false
   },
   "outputs": [
    {
     "name": "stdout",
     "output_type": "stream",
     "text": [
      "Обучение модели...\n",
      "Обучение завершено.\n"
     ]
    }
   ],
   "source": [
    "clf = OneVsRestClassifier(LogisticRegression(C=0.001,  # Усиливаем L2 регуляризацию\n",
    "                                             class_weight=\"balanced\", \n",
    "                                             max_iter=1000,  \n",
    "                                             random_state=42))\n",
    "\n",
    "print(\"Обучение модели...\")\n",
    "clf.fit(X_train, y_train)\n",
    "print(\"Обучение завершено.\")"
   ]
  },
  {
   "cell_type": "markdown",
   "id": "3da489fc",
   "metadata": {},
   "source": [
    "### Оценка качества "
   ]
  },
  {
   "cell_type": "markdown",
   "id": "44612d9c",
   "metadata": {},
   "source": [
    "Помимо классических метрик классификации, таких как **precision**, **recall** и **F1-score**, мы также используем **`Hamming Loss`**. Эта метрика показывает **долю неверно предсказанных  меток** по всем объектам и позволяет оценить, насколько точно модель классифицирует многоклассовые данные."
   ]
  },
  {
   "cell_type": "code",
   "execution_count": 21,
   "id": "8d23fbf3",
   "metadata": {},
   "outputs": [],
   "source": [
    "def evaluate_model(y_true, y_pred):\n",
    "    print(classification_report(y_true, y_pred, target_names=mlb.classes_, zero_division=0))\n",
    "    \n",
    "    hl = hamming_loss(y_true, y_pred)\n",
    "    print(f\"Hamming Loss: {hl:.3f}\")\n",
    "    \n",
    "    non_empty_preds = sum(1 for x in y_pred if sum(x) == 0)\n",
    "    preds_len = len(y_pred)\n",
    "    fraction = 100 * non_empty_preds / preds_len\n",
    "    print(f\"Объектов без предсказанных тегов: {non_empty_preds} из {preds_len}, что составляет {fraction:.2f}%\")"
   ]
  },
  {
   "cell_type": "code",
   "execution_count": 22,
   "id": "4f1120f3",
   "metadata": {},
   "outputs": [
    {
     "name": "stdout",
     "output_type": "stream",
     "text": [
      "----------------Оценка на обучающей выборке-----------------\n",
      "              precision    recall  f1-score   support\n",
      "\n",
      "     Клиники       0.61      0.98      0.75        60\n",
      "  Мир СибГМУ       0.59      0.90      0.72       308\n",
      "       Наука       0.71      0.90      0.79       261\n",
      " Образование       0.76      0.87      0.81       458\n",
      "    Партнеры       0.56      0.98      0.71        46\n",
      "Студенчество       0.48      0.99      0.65        82\n",
      " Университет       0.60      0.85      0.70       342\n",
      "\n",
      "   micro avg       0.64      0.89      0.75      1557\n",
      "   macro avg       0.62      0.92      0.73      1557\n",
      "weighted avg       0.66      0.89      0.75      1557\n",
      " samples avg       0.70      0.89      0.76      1557\n",
      "\n",
      "Hamming Loss: 0.095\n",
      "Объектов без предсказанных тегов: 23 из 1412, что составляет 1.63%\n",
      "\n",
      " ####################################################### \n",
      "\n",
      "-----------------Оценка на тестовой выборке-----------------\n",
      "              precision    recall  f1-score   support\n",
      "\n",
      "     Клиники       0.33      0.69      0.45        16\n",
      "  Мир СибГМУ       0.51      0.69      0.59        94\n",
      "       Наука       0.66      0.82      0.73        97\n",
      " Образование       0.72      0.75      0.74       167\n",
      "    Партнеры       0.32      0.47      0.38        17\n",
      "Студенчество       0.27      0.46      0.34        35\n",
      " Университет       0.42      0.57      0.48       113\n",
      "\n",
      "   micro avg       0.53      0.69      0.60       539\n",
      "   macro avg       0.46      0.64      0.53       539\n",
      "weighted avg       0.56      0.69      0.61       539\n",
      " samples avg       0.56      0.71      0.60       539\n",
      "\n",
      "Hamming Loss: 0.150\n",
      "Объектов без предсказанных тегов: 29 из 471, что составляет 6.16%\n"
     ]
    }
   ],
   "source": [
    "y_pred_train = clf.predict(X_train)\n",
    "y_pred_test = clf.predict(X_test)\n",
    "\n",
    "print(\"Оценка на обучающей выборке\".center(60, \"-\"))\n",
    "evaluate_model(y_train, y_pred_train)\n",
    "\n",
    "print(\"\\n\", \"#\"*55, \"\\n\")\n",
    "\n",
    "print(\"Оценка на тестовой выборке\".center(60, \"-\"))\n",
    "evaluate_model(y_test, y_pred_test)"
   ]
  },
  {
   "cell_type": "markdown",
   "id": "2998714d",
   "metadata": {},
   "source": [
    "### Оптимизация предсказаний"
   ]
  },
  {
   "cell_type": "markdown",
   "id": "fba95e47",
   "metadata": {},
   "source": [
    "#### Оценка влияния порога вероятности (threshold) на качество модели:\n",
    "\n",
    "1. Анализ того, как изменение `threshold` влияет на **Hamming Loss** и **количество пустых предсказаний**.\n",
    "2. Определение **оптимального порога**, при котором балансируются ошибки модели.\n",
    "3. Визуализация зависимостей, чтобы наглядно увидеть, как выбор `threshold` изменяет качество предсказаний модели."
   ]
  },
  {
   "cell_type": "code",
   "execution_count": 23,
   "id": "32c9556d",
   "metadata": {},
   "outputs": [
    {
     "data": {
      "image/png": "[encoded data removed]",
      "text/plain": [
       "<Figure size 1000x500 with 1 Axes>"
      ]
     },
     "metadata": {},
     "output_type": "display_data"
    }
   ],
   "source": [
    "# Диапазон значений threshold\n",
    "thresholds = np.arange(0.01, 1.01, 0.01)\n",
    "\n",
    "# Хранение результатов\n",
    "hamming_losses = []\n",
    "empty_fraction = []\n",
    "\n",
    "for threshold in thresholds:\n",
    "    y_pred2 = clf.predict_proba(X_test)\n",
    "    y_pred2 = [[int(probability >= threshold) for probability in probabilities] for probabilities in y_pred2]\n",
    "\n",
    "    hl = hamming_loss(y_test, y_pred2)\n",
    "    hamming_losses.append(hl)\n",
    "    \n",
    "    non_empty_preds = sum(1 for x in y_pred2 if sum(x) == 0)\n",
    "    preds_len = len(y_pred2)\n",
    "    fraction = non_empty_preds / preds_len\n",
    "    empty_fraction.append(fraction)\n",
    "\n",
    "# Построение графиков\n",
    "plt.figure(figsize=(10, 5))\n",
    "plt.plot(thresholds, hamming_losses, label=\"Hamming Loss\")\n",
    "plt.plot(thresholds, empty_fraction, label=\"Доля пустых предсказаний\")\n",
    "plt.xlabel(\"Threshold\")\n",
    "plt.ylabel(\"Метрика\")\n",
    "plt.title(\"Зависимость Hamming Loss и процента пустых предсказаний от threshold\")\n",
    "plt.legend()\n",
    "plt.grid(True)\n",
    "\n",
    "plt.show()"
   ]
  },
  {
   "cell_type": "markdown",
   "id": "f2204e55",
   "metadata": {},
   "source": [
    "- **Если нужны только релевантные теги** → Увеличьте `threshold` (оптимизируем **Precision** и **Hamming Loss**).\n",
    "- **Если важно найти все возможные теги** → Уменьшите `threshold` (оптимизируем **Recall** и **Долю пустых предсказаний**)."
   ]
  },
  {
   "cell_type": "code",
   "execution_count": 24,
   "id": "deb72e13",
   "metadata": {},
   "outputs": [
    {
     "name": "stdout",
     "output_type": "stream",
     "text": [
      "              precision    recall  f1-score   support\n",
      "\n",
      "     Клиники       0.38      0.69      0.49        16\n",
      "  Мир СибГМУ       0.63      0.63      0.63        94\n",
      "       Наука       0.69      0.71      0.70        97\n",
      " Образование       0.74      0.63      0.68       167\n",
      "    Партнеры       0.35      0.41      0.38        17\n",
      "Студенчество       0.31      0.43      0.36        35\n",
      " Университет       0.49      0.44      0.46       113\n",
      "\n",
      "   micro avg       0.59      0.59      0.59       539\n",
      "   macro avg       0.51      0.56      0.53       539\n",
      "weighted avg       0.61      0.59      0.59       539\n",
      " samples avg       0.54      0.60      0.55       539\n",
      "\n",
      "Hamming Loss: 0.134\n",
      "Объектов без предсказанных тегов: 71 из 471, что составляет 15.07%\n"
     ]
    }
   ],
   "source": [
    "threshold = 0.58  # Отобразим полный отчёт по метрикам для порога, на котором пересеклись зависимости\n",
    "y_pred2 = clf.predict_proba(X_test)\n",
    "y_pred2 = [[int(probability >= threshold) for probability in probabilities] for probabilities in y_pred2]\n",
    "evaluate_model(y_test, y_pred2)"
   ]
  },
  {
   "cell_type": "markdown",
   "id": "6352c7ea",
   "metadata": {},
   "source": [
    "### Интерпретация результатов"
   ]
  },
  {
   "cell_type": "markdown",
   "id": "cfb3bc59",
   "metadata": {},
   "source": [
    "Выделим **Топ-50 ключевых слов/пар слов** для каждого тега в порядке их убывания по **степени важности**"
   ]
  },
  {
   "cell_type": "code",
   "execution_count": 25,
   "id": "5161ffc1",
   "metadata": {
    "scrolled": false
   },
   "outputs": [
    {
     "data": {
      "text/html": [
       "<div>\n",
       "<style scoped>\n",
       "    .dataframe tbody tr th:only-of-type {\n",
       "        vertical-align: middle;\n",
       "    }\n",
       "\n",
       "    .dataframe tbody tr th {\n",
       "        vertical-align: top;\n",
       "    }\n",
       "\n",
       "    .dataframe thead th {\n",
       "        text-align: right;\n",
       "    }\n",
       "</style>\n",
       "<table border=\"1\" class=\"dataframe\">\n",
       "  <thead>\n",
       "    <tr style=\"text-align: right;\">\n",
       "      <th></th>\n",
       "      <th>Топ-50 значимых cлов/пар слов для тега</th>\n",
       "    </tr>\n",
       "  </thead>\n",
       "  <tbody>\n",
       "    <tr>\n",
       "      <th>Клиники</th>\n",
       "      <td>клиника, врач, операция, эксперт, случай, отделение, уровень, заболевание, время, образ, пациент, важный, диагностика, помощь, совет, обеспечивать, номинация, лечение, влияние, апрель, состояние, компания, образовательный лаборатория, выполнение, патология, повышение, ребёнок, рекомендация, помогать, победитель, отмечать, выявление, ранний, ход, дополнительный, взаимодействие, существовать, число, хороший, орган, кандидат наука, уникальный, должность, доступный, партнёр, оборудование, здоровый, использовать, связь, современный</td>\n",
       "    </tr>\n",
       "    <tr>\n",
       "      <th>Мир СибГМУ</th>\n",
       "      <td>спортивный, поздравление, время, команда, совет, пройти, сотрудник, заниматься, анатомия, день, защитить, момент, отечественный, спорт, информационный, творческий, окончить, председатель, участник, слушатель, семья, победитель, конкурс, медик, начало, событие, страна, категория, детский, друг, второй, институт, возможный, академический, будущий, экскурсия, заместитель, раз, отделение, проводить, посвятить, площадка, рабочий, член, путь, молодёжный политика, следующий, посетить, проект, степень</td>\n",
       "    </tr>\n",
       "    <tr>\n",
       "      <th>Наука</th>\n",
       "      <td>учёный, научный, выступить, молодой учёный, научно, молодой, проект, наука, организатор, представить, практический, заболевание, аспирант, аспирантура, участие, исследование, оборудование, метод, ознакомиться, педиатрия курс, технологический, физический, открытие, фармация, современный, разработка, анализ, перспектива, молекулярный, руководитель, позволять, формат, реализоваться, исследователь, посетить, возраст, наука доцент, ассистент, применение, случай, выявление, лабораторный, связать, средство, клетка, отбор, основа, активность, использование, технология</td>\n",
       "    </tr>\n",
       "    <tr>\n",
       "      <th>Образование</th>\n",
       "      <td>образовательный, курс, онлайн, абитуриент, диплом, документ, школьник, олимпиада, знание, учебный, навык, подготовка, выпускник, подать, современный, педагогический, хирургия, профессиональный, дисциплина, специальность, успешный, программа приоритет, задача, почта, образовательный программа, открытый, март, окончание, зарегистрироваться, технология, включать, изучать, успешно, профессия, ординатор, программа, лечебный дело, здоровье, будущий, проходить, этап, исследователь, модель, занять, производство, квалификация, вопрос, дополнительный, повышение квалификация, пациент</td>\n",
       "    </tr>\n",
       "    <tr>\n",
       "      <th>Партнеры</th>\n",
       "      <td>сотрудничество, особый, совместный, ребёнок, цифровой, компания, поддержка, подготовка, готовый, ординатор, научно исследовательский, посетить, центр, внедрение, условие, реализоваться, учреждение, врач, кадр, организация, здравоохранение, отметить, рамка, встреча, рабочий, оборудование, взаимодействие, применение, отрасль, технологический, мастер, профилактика, модель, совместно, ход, современный, врачебный, опыт, специалист, желать, ежегодно, комплекс, важный, исследовательский, сообщество, помощь, регион, клиника, обсудить, занятие</td>\n",
       "    </tr>\n",
       "    <tr>\n",
       "      <th>Студенчество</th>\n",
       "      <td>студенческий, молодёжный, медик, форум, проект, педиатрия, направить, навык, проведение, участник, лицо, выявление, принять участие, спортивный, команда, творческий, интересный, принять, занять, событие, развиваться, председатель, рекомендация, большой, время, руководитель, первый, компания, сложный, учиться, выбор, достижение, деятельность, отмечать, информация, март, период, регистрация, жизнь, сессия, второй, вопрос, итог, готовый, победитель конкурс, общество, выбрать, идея, директор, помощь</td>\n",
       "    </tr>\n",
       "    <tr>\n",
       "      <th>Университет</th>\n",
       "      <td>администрация, деятельность, выступление, вклад, должность, сфера, разработка, окончить, автор, вуз, обеспечение, поздравление, сформировать, работать, диссертация, руководитель, коммуникация, мировой, активно, комиссия, позиция, наградить, кабинет, наука, история, возможность, проектный, преподавательский, отношение, старший, полный, очный, отмечать, номинация, интерес, уникальный, идея, диагностика, войти, ситуация, инициатива, стратегический, развиваться, сессия, хороший, город, фото, проректор, группа, доступный</td>\n",
       "    </tr>\n",
       "  </tbody>\n",
       "</table>\n",
       "</div>"
      ],
      "text/plain": [
       "                                                                                                                                                                                                                                                                                                                                                                                                                                                                                                                                                                           Топ-50 значимых cлов/пар слов для тега\n",
       "Клиники                                                      клиника, врач, операция, эксперт, случай, отделение, уровень, заболевание, время, образ, пациент, важный, диагностика, помощь, совет, обеспечивать, номинация, лечение, влияние, апрель, состояние, компания, образовательный лаборатория, выполнение, патология, повышение, ребёнок, рекомендация, помогать, победитель, отмечать, выявление, ранний, ход, дополнительный, взаимодействие, существовать, число, хороший, орган, кандидат наука, уникальный, должность, доступный, партнёр, оборудование, здоровый, использовать, связь, современный\n",
       "Мир СибГМУ                                                                                     спортивный, поздравление, время, команда, совет, пройти, сотрудник, заниматься, анатомия, день, защитить, момент, отечественный, спорт, информационный, творческий, окончить, председатель, участник, слушатель, семья, победитель, конкурс, медик, начало, событие, страна, категория, детский, друг, второй, институт, возможный, академический, будущий, экскурсия, заместитель, раз, отделение, проводить, посвятить, площадка, рабочий, член, путь, молодёжный политика, следующий, посетить, проект, степень\n",
       "Наука                      учёный, научный, выступить, молодой учёный, научно, молодой, проект, наука, организатор, представить, практический, заболевание, аспирант, аспирантура, участие, исследование, оборудование, метод, ознакомиться, педиатрия курс, технологический, физический, открытие, фармация, современный, разработка, анализ, перспектива, молекулярный, руководитель, позволять, формат, реализоваться, исследователь, посетить, возраст, наука доцент, ассистент, применение, случай, выявление, лабораторный, связать, средство, клетка, отбор, основа, активность, использование, технология\n",
       "Образование   образовательный, курс, онлайн, абитуриент, диплом, документ, школьник, олимпиада, знание, учебный, навык, подготовка, выпускник, подать, современный, педагогический, хирургия, профессиональный, дисциплина, специальность, успешный, программа приоритет, задача, почта, образовательный программа, открытый, март, окончание, зарегистрироваться, технология, включать, изучать, успешно, профессия, ординатор, программа, лечебный дело, здоровье, будущий, проходить, этап, исследователь, модель, занять, производство, квалификация, вопрос, дополнительный, повышение квалификация, пациент\n",
       "Партнеры                                             сотрудничество, особый, совместный, ребёнок, цифровой, компания, поддержка, подготовка, готовый, ординатор, научно исследовательский, посетить, центр, внедрение, условие, реализоваться, учреждение, врач, кадр, организация, здравоохранение, отметить, рамка, встреча, рабочий, оборудование, взаимодействие, применение, отрасль, технологический, мастер, профилактика, модель, совместно, ход, современный, врачебный, опыт, специалист, желать, ежегодно, комплекс, важный, исследовательский, сообщество, помощь, регион, клиника, обсудить, занятие\n",
       "Студенчество                                                                                 студенческий, молодёжный, медик, форум, проект, педиатрия, направить, навык, проведение, участник, лицо, выявление, принять участие, спортивный, команда, творческий, интересный, принять, занять, событие, развиваться, председатель, рекомендация, большой, время, руководитель, первый, компания, сложный, учиться, выбор, достижение, деятельность, отмечать, информация, март, период, регистрация, жизнь, сессия, второй, вопрос, итог, готовый, победитель конкурс, общество, выбрать, идея, директор, помощь\n",
       "Университет                                                             администрация, деятельность, выступление, вклад, должность, сфера, разработка, окончить, автор, вуз, обеспечение, поздравление, сформировать, работать, диссертация, руководитель, коммуникация, мировой, активно, комиссия, позиция, наградить, кабинет, наука, история, возможность, проектный, преподавательский, отношение, старший, полный, очный, отмечать, номинация, интерес, уникальный, идея, диагностика, войти, ситуация, инициатива, стратегический, развиваться, сессия, хороший, город, фото, проректор, группа, доступный"
      ]
     },
     "execution_count": 25,
     "metadata": {},
     "output_type": "execute_result"
    }
   ],
   "source": [
    "coef_df = pd.DataFrame(\n",
    "    np.vstack([est.coef_ for est in clf.estimators_]),  # Собираем коэффициенты всех логистических регрессий\n",
    "    index=mlb.classes_,  # Метки классов\n",
    "    columns=vectorizer.get_feature_names_out()  # Названия признаков (слов)\n",
    ")\n",
    "\n",
    "top_features_df = pd.DataFrame({\n",
    "    \"Топ-50 значимых cлов/пар слов для тега\": coef_df.apply(lambda x: \", \".join(x.nlargest(50).index), axis=1)\n",
    "})\n",
    "\n",
    "\n",
    "# Установим максимальную высоту ячеек для отображения полного списка признаков\n",
    "pd.options.display.max_colwidth = None\n",
    "\n",
    "top_features_df"
   ]
  },
  {
   "cell_type": "markdown",
   "id": "bf4ec9c2",
   "metadata": {},
   "source": [
    "#### Отобразим:\n",
    "\n",
    "- Слова/Пары слов, встречающиеся в нескольких тегах\n",
    "- Слова/Пары слов, встречающиеся только в одном теге"
   ]
  },
  {
   "cell_type": "code",
   "execution_count": 26,
   "id": "3f013065",
   "metadata": {},
   "outputs": [],
   "source": [
    "word_to_tags = {}  # Словарь {слово: [список тегов]}\n",
    "\n",
    "for tag, words in top_features_df[\"Топ-50 значимых cлов/пар слов для тега\"].items():\n",
    "    for word in words.split(\", \"):\n",
    "        if word not in word_to_tags:\n",
    "            word_to_tags[word] = []\n",
    "        word_to_tags[word].append(tag)  # Добавляем тег, в котором встретилось слово\n",
    "\n",
    "repeated_words = {word: \", \".join(tags) for word, tags in word_to_tags.items() if len(tags) > 1}\n",
    "\n",
    "\n",
    "unique_words_by_tag = {}\n",
    "\n",
    "for word, tags in word_to_tags.items():\n",
    "    if len(tags) == 1:\n",
    "        tag = tags[0]\n",
    "        if tag not in unique_words_by_tag:\n",
    "            unique_words_by_tag[tag] = []\n",
    "        unique_words_by_tag[tag].append(word)"
   ]
  },
  {
   "cell_type": "code",
   "execution_count": 27,
   "id": "6ad2c0f3",
   "metadata": {},
   "outputs": [
    {
     "data": {
      "text/html": [
       "<div>\n",
       "<style scoped>\n",
       "    .dataframe tbody tr th:only-of-type {\n",
       "        vertical-align: middle;\n",
       "    }\n",
       "\n",
       "    .dataframe tbody tr th {\n",
       "        vertical-align: top;\n",
       "    }\n",
       "\n",
       "    .dataframe thead th {\n",
       "        text-align: right;\n",
       "    }\n",
       "</style>\n",
       "<table border=\"1\" class=\"dataframe\">\n",
       "  <thead>\n",
       "    <tr style=\"text-align: right;\">\n",
       "      <th></th>\n",
       "      <th>Слово</th>\n",
       "      <th>Теги</th>\n",
       "    </tr>\n",
       "  </thead>\n",
       "  <tbody>\n",
       "    <tr>\n",
       "      <th>26</th>\n",
       "      <td>современный</td>\n",
       "      <td>Клиники, Наука, Образование, Партнеры</td>\n",
       "    </tr>\n",
       "    <tr>\n",
       "      <th>17</th>\n",
       "      <td>выявление</td>\n",
       "      <td>Клиники, Наука, Студенчество</td>\n",
       "    </tr>\n",
       "    <tr>\n",
       "      <th>40</th>\n",
       "      <td>проект</td>\n",
       "      <td>Мир СибГМУ, Наука, Студенчество</td>\n",
       "    </tr>\n",
       "    <tr>\n",
       "      <th>16</th>\n",
       "      <td>отмечать</td>\n",
       "      <td>Клиники, Студенчество, Университет</td>\n",
       "    </tr>\n",
       "    <tr>\n",
       "      <th>44</th>\n",
       "      <td>руководитель</td>\n",
       "      <td>Наука, Студенчество, Университет</td>\n",
       "    </tr>\n",
       "    <tr>\n",
       "      <th>...</th>\n",
       "      <td>...</td>\n",
       "      <td>...</td>\n",
       "    </tr>\n",
       "    <tr>\n",
       "      <th>28</th>\n",
       "      <td>поздравление</td>\n",
       "      <td>Мир СибГМУ, Университет</td>\n",
       "    </tr>\n",
       "    <tr>\n",
       "      <th>29</th>\n",
       "      <td>команда</td>\n",
       "      <td>Мир СибГМУ, Студенчество</td>\n",
       "    </tr>\n",
       "    <tr>\n",
       "      <th>1</th>\n",
       "      <td>врач</td>\n",
       "      <td>Клиники, Партнеры</td>\n",
       "    </tr>\n",
       "    <tr>\n",
       "      <th>31</th>\n",
       "      <td>окончить</td>\n",
       "      <td>Мир СибГМУ, Университет</td>\n",
       "    </tr>\n",
       "    <tr>\n",
       "      <th>60</th>\n",
       "      <td>идея</td>\n",
       "      <td>Студенчество, Университет</td>\n",
       "    </tr>\n",
       "  </tbody>\n",
       "</table>\n",
       "<p>61 rows × 2 columns</p>\n",
       "</div>"
      ],
      "text/plain": [
       "           Слово                                   Теги\n",
       "26   современный  Клиники, Наука, Образование, Партнеры\n",
       "17     выявление           Клиники, Наука, Студенчество\n",
       "40        проект        Мир СибГМУ, Наука, Студенчество\n",
       "16      отмечать     Клиники, Студенчество, Университет\n",
       "44  руководитель       Наука, Студенчество, Университет\n",
       "..           ...                                    ...\n",
       "28  поздравление                Мир СибГМУ, Университет\n",
       "29       команда               Мир СибГМУ, Студенчество\n",
       "1           врач                      Клиники, Партнеры\n",
       "31      окончить                Мир СибГМУ, Университет\n",
       "60          идея              Студенчество, Университет\n",
       "\n",
       "[61 rows x 2 columns]"
      ]
     },
     "execution_count": 27,
     "metadata": {},
     "output_type": "execute_result"
    }
   ],
   "source": [
    "repeated_words_df = pd.DataFrame(list(repeated_words.items()), columns=[\"Слово\", \"Теги\"])\n",
    "repeated_words_df[\"Количество тегов\"] = repeated_words_df[\"Теги\"].apply(lambda x: x.count(\",\") + 1)\n",
    "repeated_words_df = repeated_words_df.sort_values(by=\"Количество тегов\", ascending=False).\\\n",
    "drop(columns=[\"Количество тегов\"])\n",
    "\n",
    "repeated_words_df"
   ]
  },
  {
   "cell_type": "code",
   "execution_count": 28,
   "id": "629f9ca2",
   "metadata": {},
   "outputs": [
    {
     "data": {
      "text/html": [
       "<div>\n",
       "<style scoped>\n",
       "    .dataframe tbody tr th:only-of-type {\n",
       "        vertical-align: middle;\n",
       "    }\n",
       "\n",
       "    .dataframe tbody tr th {\n",
       "        vertical-align: top;\n",
       "    }\n",
       "\n",
       "    .dataframe thead th {\n",
       "        text-align: right;\n",
       "    }\n",
       "</style>\n",
       "<table border=\"1\" class=\"dataframe\">\n",
       "  <thead>\n",
       "    <tr style=\"text-align: right;\">\n",
       "      <th></th>\n",
       "      <th>Тег</th>\n",
       "      <th>Слова</th>\n",
       "    </tr>\n",
       "  </thead>\n",
       "  <tbody>\n",
       "    <tr>\n",
       "      <th>0</th>\n",
       "      <td>Клиники</td>\n",
       "      <td>операция, эксперт, уровень, образ, обеспечивать, лечение, влияние, апрель, состояние, образовательный лаборатория, выполнение, патология, повышение, помогать, ранний, существовать, число, орган, кандидат наука, партнёр, здоровый, использовать, связь</td>\n",
       "    </tr>\n",
       "    <tr>\n",
       "      <th>1</th>\n",
       "      <td>Мир СибГМУ</td>\n",
       "      <td>пройти, сотрудник, заниматься, анатомия, день, защитить, момент, отечественный, спорт, информационный, слушатель, семья, конкурс, начало, страна, категория, детский, друг, институт, возможный, академический, экскурсия, заместитель, раз, проводить, посвятить, площадка, член, путь, молодёжный политика, следующий, степень</td>\n",
       "    </tr>\n",
       "    <tr>\n",
       "      <th>2</th>\n",
       "      <td>Наука</td>\n",
       "      <td>учёный, научный, выступить, молодой учёный, научно, молодой, организатор, представить, практический, аспирант, аспирантура, участие, исследование, метод, ознакомиться, педиатрия курс, физический, открытие, фармация, анализ, перспектива, молекулярный, позволять, формат, возраст, наука доцент, ассистент, лабораторный, связать, средство, клетка, отбор, основа, активность, использование</td>\n",
       "    </tr>\n",
       "    <tr>\n",
       "      <th>3</th>\n",
       "      <td>Образование</td>\n",
       "      <td>образовательный, курс, онлайн, абитуриент, диплом, документ, школьник, олимпиада, знание, учебный, выпускник, подать, педагогический, хирургия, профессиональный, дисциплина, специальность, успешный, программа приоритет, задача, почта, образовательный программа, открытый, окончание, зарегистрироваться, включать, изучать, успешно, профессия, программа, лечебный дело, здоровье, проходить, этап, производство, квалификация, повышение квалификация</td>\n",
       "    </tr>\n",
       "    <tr>\n",
       "      <th>4</th>\n",
       "      <td>Партнеры</td>\n",
       "      <td>сотрудничество, особый, совместный, цифровой, поддержка, научно исследовательский, центр, внедрение, условие, учреждение, кадр, организация, здравоохранение, отметить, рамка, встреча, отрасль, мастер, профилактика, совместно, врачебный, опыт, специалист, желать, ежегодно, комплекс, исследовательский, сообщество, регион, обсудить, занятие</td>\n",
       "    </tr>\n",
       "    <tr>\n",
       "      <th>5</th>\n",
       "      <td>Студенчество</td>\n",
       "      <td>студенческий, молодёжный, форум, педиатрия, направить, проведение, лицо, принять участие, интересный, принять, большой, первый, сложный, учиться, выбор, достижение, информация, период, регистрация, жизнь, итог, победитель конкурс, общество, выбрать, директор</td>\n",
       "    </tr>\n",
       "    <tr>\n",
       "      <th>6</th>\n",
       "      <td>Университет</td>\n",
       "      <td>администрация, выступление, вклад, сфера, автор, вуз, обеспечение, сформировать, работать, диссертация, коммуникация, мировой, активно, комиссия, позиция, наградить, кабинет, история, возможность, проектный, преподавательский, отношение, старший, полный, очный, интерес, войти, ситуация, инициатива, стратегический, город, фото, проректор, группа</td>\n",
       "    </tr>\n",
       "  </tbody>\n",
       "</table>\n",
       "</div>"
      ],
      "text/plain": [
       "            Тег  \\\n",
       "0       Клиники   \n",
       "1    Мир СибГМУ   \n",
       "2         Наука   \n",
       "3   Образование   \n",
       "4      Партнеры   \n",
       "5  Студенчество   \n",
       "6   Университет   \n",
       "\n",
       "                                                                                                                                                                                                                                                                                                                                                                                                                                                           Слова  \n",
       "0                                                                                                                                                                                                      операция, эксперт, уровень, образ, обеспечивать, лечение, влияние, апрель, состояние, образовательный лаборатория, выполнение, патология, повышение, помогать, ранний, существовать, число, орган, кандидат наука, партнёр, здоровый, использовать, связь  \n",
       "1                                                                                                                               пройти, сотрудник, заниматься, анатомия, день, защитить, момент, отечественный, спорт, информационный, слушатель, семья, конкурс, начало, страна, категория, детский, друг, институт, возможный, академический, экскурсия, заместитель, раз, проводить, посвятить, площадка, член, путь, молодёжный политика, следующий, степень  \n",
       "2                                                              учёный, научный, выступить, молодой учёный, научно, молодой, организатор, представить, практический, аспирант, аспирантура, участие, исследование, метод, ознакомиться, педиатрия курс, физический, открытие, фармация, анализ, перспектива, молекулярный, позволять, формат, возраст, наука доцент, ассистент, лабораторный, связать, средство, клетка, отбор, основа, активность, использование  \n",
       "3  образовательный, курс, онлайн, абитуриент, диплом, документ, школьник, олимпиада, знание, учебный, выпускник, подать, педагогический, хирургия, профессиональный, дисциплина, специальность, успешный, программа приоритет, задача, почта, образовательный программа, открытый, окончание, зарегистрироваться, включать, изучать, успешно, профессия, программа, лечебный дело, здоровье, проходить, этап, производство, квалификация, повышение квалификация  \n",
       "4                                                                                                            сотрудничество, особый, совместный, цифровой, поддержка, научно исследовательский, центр, внедрение, условие, учреждение, кадр, организация, здравоохранение, отметить, рамка, встреча, отрасль, мастер, профилактика, совместно, врачебный, опыт, специалист, желать, ежегодно, комплекс, исследовательский, сообщество, регион, обсудить, занятие  \n",
       "5                                                                                                                                                                                             студенческий, молодёжный, форум, педиатрия, направить, проведение, лицо, принять участие, интересный, принять, большой, первый, сложный, учиться, выбор, достижение, информация, период, регистрация, жизнь, итог, победитель конкурс, общество, выбрать, директор  \n",
       "6                                                                                                     администрация, выступление, вклад, сфера, автор, вуз, обеспечение, сформировать, работать, диссертация, коммуникация, мировой, активно, комиссия, позиция, наградить, кабинет, история, возможность, проектный, преподавательский, отношение, старший, полный, очный, интерес, войти, ситуация, инициатива, стратегический, город, фото, проректор, группа  "
      ]
     },
     "execution_count": 28,
     "metadata": {},
     "output_type": "execute_result"
    }
   ],
   "source": [
    "unique_words_df = pd.DataFrame(\n",
    "    [(tag, \", \".join(words)) for tag, words in unique_words_by_tag.items()],\n",
    "    columns=[\"Тег\", \"Слова\"]\n",
    ")\n",
    "unique_words_df"
   ]
  },
  {
   "cell_type": "markdown",
   "id": "5a335d20",
   "metadata": {},
   "source": [
    "### 📰 Вывод\n",
    "\n",
    "#### Ход работы\n",
    "Собрали и обработали текстовые данные, построили TF-IDF представление, после чего обучили логистическую регрессию для многозначной классификации.\n",
    "\n",
    "#### Результаты\n",
    "Модель показывает уверенное качество классификации: хорошо выделяет значимые признаки для тегов и предсказывает их с достаточной точностью. Средние метрики сбалансированы, но точность предсказаний варьируется для разных тегов. В целом модель уверенно справляется с задачей, хотя в некоторых случаях может либо пропускать теги, либо ошибочно их назначать.\n",
    "\n",
    "#### Топ-50 значимых слов\n",
    "Выведены ключевые слова и пары слов, наиболее влияющие на предсказание тегов.\n"
   ]
  }
 ],
 "metadata": {
  "kernelspec": {
   "display_name": "Python 3 (ipykernel)",
   "language": "python",
   "name": "python3"
  },
  "language_info": {
   "codemirror_mode": {
    "name": "ipython",
    "version": 3
   },
   "file_extension": ".py",
   "mimetype": "text/x-python",
   "name": "python",
   "nbconvert_exporter": "python",
   "pygments_lexer": "ipython3",
   "version": "3.9.13"
  }
 },
 "nbformat": 4,
 "nbformat_minor": 5
}
