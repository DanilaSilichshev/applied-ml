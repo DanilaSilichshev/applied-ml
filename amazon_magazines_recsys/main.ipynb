{
 "cells": [
  {
   "cell_type": "markdown",
   "id": "871144f5",
   "metadata": {
    "id": "871144f5"
   },
   "source": [
    "# Построение рекомендательной системы для подписок на журналы (Amazon Magazine Subscriptions)"
   ]
  },
  {
   "cell_type": "markdown",
   "id": "96694b8c",
   "metadata": {
    "id": "96694b8c"
   },
   "source": [
    "**Подключение библиотек и загрузка данных**"
   ]
  },
  {
   "cell_type": "code",
   "execution_count": 2,
   "id": "de69ad80",
   "metadata": {
    "executionInfo": {
     "elapsed": 1627,
     "status": "ok",
     "timestamp": 1744225935236,
     "user": {
      "displayName": "Danila Silichshev",
      "userId": "13799801190473562794"
     },
     "user_tz": -300
    },
    "id": "de69ad80"
   },
   "outputs": [],
   "source": [
    "import numpy as np\n",
    "import pandas as pd\n",
    "import matplotlib.pyplot as plt\n",
    "from lightfm import LightFM\n",
    "from lightfm.data import Dataset as LFMDataset\n",
    "from collections import defaultdict\n",
    "from tqdm import tqdm\n",
    "import gc"
   ]
  },
  {
   "cell_type": "code",
   "execution_count": 4,
   "id": "48821ad7",
   "metadata": {
    "colab": {
     "base_uri": "https://localhost:8080/",
     "height": 423
    },
    "executionInfo": {
     "elapsed": 971,
     "status": "ok",
     "timestamp": 1744225938459,
     "user": {
      "displayName": "Danila Silichshev",
      "userId": "13799801190473562794"
     },
     "user_tz": -300
    },
    "id": "48821ad7",
    "outputId": "77b8da5e-68b1-4e6e-801a-b99fd3f5199d"
   },
   "outputs": [
    {
     "data": {
      "application/vnd.google.colaboratory.intrinsic+json": {
       "summary": "{\n  \"name\": \"data\",\n  \"rows\": 89689,\n  \"fields\": [\n    {\n      \"column\": 0,\n      \"properties\": {\n        \"dtype\": \"category\",\n        \"num_unique_values\": 2428,\n        \"samples\": [\n          \"B01DT6PL46\",\n          \"B00006KZ3W\",\n          \"B000PIT0RG\"\n        ],\n        \"semantic_type\": \"\",\n        \"description\": \"\"\n      }\n    },\n    {\n      \"column\": 1,\n      \"properties\": {\n        \"dtype\": \"string\",\n        \"num_unique_values\": 72098,\n        \"samples\": [\n          \"A3D9IJJPEOG8AE\",\n          \"A1Q87WYFEB1UZR\",\n          \"A55W1BT5YLMMF\"\n        ],\n        \"semantic_type\": \"\",\n        \"description\": \"\"\n      }\n    },\n    {\n      \"column\": 2,\n      \"properties\": {\n        \"dtype\": \"number\",\n        \"std\": 1.4197908294343549,\n        \"min\": 1.0,\n        \"max\": 5.0,\n        \"num_unique_values\": 5,\n        \"samples\": [\n          3.0,\n          1.0,\n          4.0\n        ],\n        \"semantic_type\": \"\",\n        \"description\": \"\"\n      }\n    },\n    {\n      \"column\": 3,\n      \"properties\": {\n        \"dtype\": \"number\",\n        \"std\": 103943021,\n        \"min\": 1004054400,\n        \"max\": 1537315200,\n        \"num_unique_values\": 5804,\n        \"samples\": [\n          1505001600,\n          1184025600,\n          1422748800\n        ],\n        \"semantic_type\": \"\",\n        \"description\": \"\"\n      }\n    }\n  ]\n}",
       "type": "dataframe",
       "variable_name": "data"
      },
      "text/html": [
       "\n",
       "  <div id=\"df-8dae2b71-8342-488d-b82b-39992f1ec4ba\" class=\"colab-df-container\">\n",
       "    <div>\n",
       "<style scoped>\n",
       "    .dataframe tbody tr th:only-of-type {\n",
       "        vertical-align: middle;\n",
       "    }\n",
       "\n",
       "    .dataframe tbody tr th {\n",
       "        vertical-align: top;\n",
       "    }\n",
       "\n",
       "    .dataframe thead th {\n",
       "        text-align: right;\n",
       "    }\n",
       "</style>\n",
       "<table border=\"1\" class=\"dataframe\">\n",
       "  <thead>\n",
       "    <tr style=\"text-align: right;\">\n",
       "      <th></th>\n",
       "      <th>0</th>\n",
       "      <th>1</th>\n",
       "      <th>2</th>\n",
       "      <th>3</th>\n",
       "    </tr>\n",
       "  </thead>\n",
       "  <tbody>\n",
       "    <tr>\n",
       "      <th>0</th>\n",
       "      <td>B00005N7P0</td>\n",
       "      <td>AH2IFH762VY5U</td>\n",
       "      <td>5.0</td>\n",
       "      <td>1005177600</td>\n",
       "    </tr>\n",
       "    <tr>\n",
       "      <th>1</th>\n",
       "      <td>B00005N7P0</td>\n",
       "      <td>AOSFI0JEYU4XM</td>\n",
       "      <td>5.0</td>\n",
       "      <td>1004486400</td>\n",
       "    </tr>\n",
       "    <tr>\n",
       "      <th>2</th>\n",
       "      <td>B00005N7OJ</td>\n",
       "      <td>A3JPFWKS83R49V</td>\n",
       "      <td>3.0</td>\n",
       "      <td>1174694400</td>\n",
       "    </tr>\n",
       "    <tr>\n",
       "      <th>3</th>\n",
       "      <td>B00005N7OJ</td>\n",
       "      <td>A19FKU6JZQ2ECJ</td>\n",
       "      <td>5.0</td>\n",
       "      <td>1163116800</td>\n",
       "    </tr>\n",
       "    <tr>\n",
       "      <th>4</th>\n",
       "      <td>B00005N7P0</td>\n",
       "      <td>A25MDGOMZ2GALN</td>\n",
       "      <td>5.0</td>\n",
       "      <td>1405296000</td>\n",
       "    </tr>\n",
       "    <tr>\n",
       "      <th>...</th>\n",
       "      <td>...</td>\n",
       "      <td>...</td>\n",
       "      <td>...</td>\n",
       "      <td>...</td>\n",
       "    </tr>\n",
       "    <tr>\n",
       "      <th>89684</th>\n",
       "      <td>B01HI8V1C2</td>\n",
       "      <td>AB5HCI50SF1TK</td>\n",
       "      <td>5.0</td>\n",
       "      <td>1471305600</td>\n",
       "    </tr>\n",
       "    <tr>\n",
       "      <th>89685</th>\n",
       "      <td>B01HI8V1C2</td>\n",
       "      <td>A2X11NZMPI7M0T</td>\n",
       "      <td>1.0</td>\n",
       "      <td>1470787200</td>\n",
       "    </tr>\n",
       "    <tr>\n",
       "      <th>89686</th>\n",
       "      <td>B01HI8V1C2</td>\n",
       "      <td>A3EGFFBRQVO7L7</td>\n",
       "      <td>5.0</td>\n",
       "      <td>1469923200</td>\n",
       "    </tr>\n",
       "    <tr>\n",
       "      <th>89687</th>\n",
       "      <td>B01HIZSSQM</td>\n",
       "      <td>A3H23AVKFN62ZT</td>\n",
       "      <td>5.0</td>\n",
       "      <td>1507161600</td>\n",
       "    </tr>\n",
       "    <tr>\n",
       "      <th>89688</th>\n",
       "      <td>B01HIZSSQM</td>\n",
       "      <td>A1N6M7HRWMDE3D</td>\n",
       "      <td>5.0</td>\n",
       "      <td>1493337600</td>\n",
       "    </tr>\n",
       "  </tbody>\n",
       "</table>\n",
       "<p>89689 rows × 4 columns</p>\n",
       "</div>\n",
       "    <div class=\"colab-df-buttons\">\n",
       "\n",
       "  <div class=\"colab-df-container\">\n",
       "    <button class=\"colab-df-convert\" onclick=\"convertToInteractive('df-8dae2b71-8342-488d-b82b-39992f1ec4ba')\"\n",
       "            title=\"Convert this dataframe to an interactive table.\"\n",
       "            style=\"display:none;\">\n",
       "\n",
       "  <svg xmlns=\"http://www.w3.org/2000/svg\" height=\"24px\" viewBox=\"0 -960 960 960\">\n",
       "    <path d=\"M120-120v-720h720v720H120Zm60-500h600v-160H180v160Zm220 220h160v-160H400v160Zm0 220h160v-160H400v160ZM180-400h160v-160H180v160Zm440 0h160v-160H620v160ZM180-180h160v-160H180v160Zm440 0h160v-160H620v160Z\"/>\n",
       "  </svg>\n",
       "    </button>\n",
       "\n",
       "  <style>\n",
       "    .colab-df-container {\n",
       "      display:flex;\n",
       "      gap: 12px;\n",
       "    }\n",
       "\n",
       "    .colab-df-convert {\n",
       "      background-color: #E8F0FE;\n",
       "      border: none;\n",
       "      border-radius: 50%;\n",
       "      cursor: pointer;\n",
       "      display: none;\n",
       "      fill: #1967D2;\n",
       "      height: 32px;\n",
       "      padding: 0 0 0 0;\n",
       "      width: 32px;\n",
       "    }\n",
       "\n",
       "    .colab-df-convert:hover {\n",
       "      background-color: #E2EBFA;\n",
       "      box-shadow: 0px 1px 2px rgba(60, 64, 67, 0.3), 0px 1px 3px 1px rgba(60, 64, 67, 0.15);\n",
       "      fill: #174EA6;\n",
       "    }\n",
       "\n",
       "    .colab-df-buttons div {\n",
       "      margin-bottom: 4px;\n",
       "    }\n",
       "\n",
       "    [theme=dark] .colab-df-convert {\n",
       "      background-color: #3B4455;\n",
       "      fill: #D2E3FC;\n",
       "    }\n",
       "\n",
       "    [theme=dark] .colab-df-convert:hover {\n",
       "      background-color: #434B5C;\n",
       "      box-shadow: 0px 1px 3px 1px rgba(0, 0, 0, 0.15);\n",
       "      filter: drop-shadow(0px 1px 2px rgba(0, 0, 0, 0.3));\n",
       "      fill: #FFFFFF;\n",
       "    }\n",
       "  </style>\n",
       "\n",
       "    <script>\n",
       "      const buttonEl =\n",
       "        document.querySelector('#df-8dae2b71-8342-488d-b82b-39992f1ec4ba button.colab-df-convert');\n",
       "      buttonEl.style.display =\n",
       "        google.colab.kernel.accessAllowed ? 'block' : 'none';\n",
       "\n",
       "      async function convertToInteractive(key) {\n",
       "        const element = document.querySelector('#df-8dae2b71-8342-488d-b82b-39992f1ec4ba');\n",
       "        const dataTable =\n",
       "          await google.colab.kernel.invokeFunction('convertToInteractive',\n",
       "                                                    [key], {});\n",
       "        if (!dataTable) return;\n",
       "\n",
       "        const docLinkHtml = 'Like what you see? Visit the ' +\n",
       "          '<a target=\"_blank\" href=https://colab.research.google.com/notebooks/data_table.ipynb>data table notebook</a>'\n",
       "          + ' to learn more about interactive tables.';\n",
       "        element.innerHTML = '';\n",
       "        dataTable['output_type'] = 'display_data';\n",
       "        await google.colab.output.renderOutput(dataTable, element);\n",
       "        const docLink = document.createElement('div');\n",
       "        docLink.innerHTML = docLinkHtml;\n",
       "        element.appendChild(docLink);\n",
       "      }\n",
       "    </script>\n",
       "  </div>\n",
       "\n",
       "\n",
       "<div id=\"df-8d84a2bf-8c6a-4a88-ad0e-cde05ba1a7fb\">\n",
       "  <button class=\"colab-df-quickchart\" onclick=\"quickchart('df-8d84a2bf-8c6a-4a88-ad0e-cde05ba1a7fb')\"\n",
       "            title=\"Suggest charts\"\n",
       "            style=\"display:none;\">\n",
       "\n",
       "<svg xmlns=\"http://www.w3.org/2000/svg\" height=\"24px\"viewBox=\"0 0 24 24\"\n",
       "     width=\"24px\">\n",
       "    <g>\n",
       "        <path d=\"M19 3H5c-1.1 0-2 .9-2 2v14c0 1.1.9 2 2 2h14c1.1 0 2-.9 2-2V5c0-1.1-.9-2-2-2zM9 17H7v-7h2v7zm4 0h-2V7h2v10zm4 0h-2v-4h2v4z\"/>\n",
       "    </g>\n",
       "</svg>\n",
       "  </button>\n",
       "\n",
       "<style>\n",
       "  .colab-df-quickchart {\n",
       "      --bg-color: #E8F0FE;\n",
       "      --fill-color: #1967D2;\n",
       "      --hover-bg-color: #E2EBFA;\n",
       "      --hover-fill-color: #174EA6;\n",
       "      --disabled-fill-color: #AAA;\n",
       "      --disabled-bg-color: #DDD;\n",
       "  }\n",
       "\n",
       "  [theme=dark] .colab-df-quickchart {\n",
       "      --bg-color: #3B4455;\n",
       "      --fill-color: #D2E3FC;\n",
       "      --hover-bg-color: #434B5C;\n",
       "      --hover-fill-color: #FFFFFF;\n",
       "      --disabled-bg-color: #3B4455;\n",
       "      --disabled-fill-color: #666;\n",
       "  }\n",
       "\n",
       "  .colab-df-quickchart {\n",
       "    background-color: var(--bg-color);\n",
       "    border: none;\n",
       "    border-radius: 50%;\n",
       "    cursor: pointer;\n",
       "    display: none;\n",
       "    fill: var(--fill-color);\n",
       "    height: 32px;\n",
       "    padding: 0;\n",
       "    width: 32px;\n",
       "  }\n",
       "\n",
       "  .colab-df-quickchart:hover {\n",
       "    background-color: var(--hover-bg-color);\n",
       "    box-shadow: 0 1px 2px rgba(60, 64, 67, 0.3), 0 1px 3px 1px rgba(60, 64, 67, 0.15);\n",
       "    fill: var(--button-hover-fill-color);\n",
       "  }\n",
       "\n",
       "  .colab-df-quickchart-complete:disabled,\n",
       "  .colab-df-quickchart-complete:disabled:hover {\n",
       "    background-color: var(--disabled-bg-color);\n",
       "    fill: var(--disabled-fill-color);\n",
       "    box-shadow: none;\n",
       "  }\n",
       "\n",
       "  .colab-df-spinner {\n",
       "    border: 2px solid var(--fill-color);\n",
       "    border-color: transparent;\n",
       "    border-bottom-color: var(--fill-color);\n",
       "    animation:\n",
       "      spin 1s steps(1) infinite;\n",
       "  }\n",
       "\n",
       "  @keyframes spin {\n",
       "    0% {\n",
       "      border-color: transparent;\n",
       "      border-bottom-color: var(--fill-color);\n",
       "      border-left-color: var(--fill-color);\n",
       "    }\n",
       "    20% {\n",
       "      border-color: transparent;\n",
       "      border-left-color: var(--fill-color);\n",
       "      border-top-color: var(--fill-color);\n",
       "    }\n",
       "    30% {\n",
       "      border-color: transparent;\n",
       "      border-left-color: var(--fill-color);\n",
       "      border-top-color: var(--fill-color);\n",
       "      border-right-color: var(--fill-color);\n",
       "    }\n",
       "    40% {\n",
       "      border-color: transparent;\n",
       "      border-right-color: var(--fill-color);\n",
       "      border-top-color: var(--fill-color);\n",
       "    }\n",
       "    60% {\n",
       "      border-color: transparent;\n",
       "      border-right-color: var(--fill-color);\n",
       "    }\n",
       "    80% {\n",
       "      border-color: transparent;\n",
       "      border-right-color: var(--fill-color);\n",
       "      border-bottom-color: var(--fill-color);\n",
       "    }\n",
       "    90% {\n",
       "      border-color: transparent;\n",
       "      border-bottom-color: var(--fill-color);\n",
       "    }\n",
       "  }\n",
       "</style>\n",
       "\n",
       "  <script>\n",
       "    async function quickchart(key) {\n",
       "      const quickchartButtonEl =\n",
       "        document.querySelector('#' + key + ' button');\n",
       "      quickchartButtonEl.disabled = true;  // To prevent multiple clicks.\n",
       "      quickchartButtonEl.classList.add('colab-df-spinner');\n",
       "      try {\n",
       "        const charts = await google.colab.kernel.invokeFunction(\n",
       "            'suggestCharts', [key], {});\n",
       "      } catch (error) {\n",
       "        console.error('Error during call to suggestCharts:', error);\n",
       "      }\n",
       "      quickchartButtonEl.classList.remove('colab-df-spinner');\n",
       "      quickchartButtonEl.classList.add('colab-df-quickchart-complete');\n",
       "    }\n",
       "    (() => {\n",
       "      let quickchartButtonEl =\n",
       "        document.querySelector('#df-8d84a2bf-8c6a-4a88-ad0e-cde05ba1a7fb button');\n",
       "      quickchartButtonEl.style.display =\n",
       "        google.colab.kernel.accessAllowed ? 'block' : 'none';\n",
       "    })();\n",
       "  </script>\n",
       "</div>\n",
       "\n",
       "  <div id=\"id_003c5434-bcc0-401b-8108-025bccc933bd\">\n",
       "    <style>\n",
       "      .colab-df-generate {\n",
       "        background-color: #E8F0FE;\n",
       "        border: none;\n",
       "        border-radius: 50%;\n",
       "        cursor: pointer;\n",
       "        display: none;\n",
       "        fill: #1967D2;\n",
       "        height: 32px;\n",
       "        padding: 0 0 0 0;\n",
       "        width: 32px;\n",
       "      }\n",
       "\n",
       "      .colab-df-generate:hover {\n",
       "        background-color: #E2EBFA;\n",
       "        box-shadow: 0px 1px 2px rgba(60, 64, 67, 0.3), 0px 1px 3px 1px rgba(60, 64, 67, 0.15);\n",
       "        fill: #174EA6;\n",
       "      }\n",
       "\n",
       "      [theme=dark] .colab-df-generate {\n",
       "        background-color: #3B4455;\n",
       "        fill: #D2E3FC;\n",
       "      }\n",
       "\n",
       "      [theme=dark] .colab-df-generate:hover {\n",
       "        background-color: #434B5C;\n",
       "        box-shadow: 0px 1px 3px 1px rgba(0, 0, 0, 0.15);\n",
       "        filter: drop-shadow(0px 1px 2px rgba(0, 0, 0, 0.3));\n",
       "        fill: #FFFFFF;\n",
       "      }\n",
       "    </style>\n",
       "    <button class=\"colab-df-generate\" onclick=\"generateWithVariable('data')\"\n",
       "            title=\"Generate code using this dataframe.\"\n",
       "            style=\"display:none;\">\n",
       "\n",
       "  <svg xmlns=\"http://www.w3.org/2000/svg\" height=\"24px\"viewBox=\"0 0 24 24\"\n",
       "       width=\"24px\">\n",
       "    <path d=\"M7,19H8.4L18.45,9,17,7.55,7,17.6ZM5,21V16.75L18.45,3.32a2,2,0,0,1,2.83,0l1.4,1.43a1.91,1.91,0,0,1,.58,1.4,1.91,1.91,0,0,1-.58,1.4L9.25,21ZM18.45,9,17,7.55Zm-12,3A5.31,5.31,0,0,0,4.9,8.1,5.31,5.31,0,0,0,1,6.5,5.31,5.31,0,0,0,4.9,4.9,5.31,5.31,0,0,0,6.5,1,5.31,5.31,0,0,0,8.1,4.9,5.31,5.31,0,0,0,12,6.5,5.46,5.46,0,0,0,6.5,12Z\"/>\n",
       "  </svg>\n",
       "    </button>\n",
       "    <script>\n",
       "      (() => {\n",
       "      const buttonEl =\n",
       "        document.querySelector('#id_003c5434-bcc0-401b-8108-025bccc933bd button.colab-df-generate');\n",
       "      buttonEl.style.display =\n",
       "        google.colab.kernel.accessAllowed ? 'block' : 'none';\n",
       "\n",
       "      buttonEl.onclick = () => {\n",
       "        google.colab.notebook.generateWithVariable('data');\n",
       "      }\n",
       "      })();\n",
       "    </script>\n",
       "  </div>\n",
       "\n",
       "    </div>\n",
       "  </div>\n"
      ],
      "text/plain": [
       "                0               1    2           3\n",
       "0      B00005N7P0   AH2IFH762VY5U  5.0  1005177600\n",
       "1      B00005N7P0   AOSFI0JEYU4XM  5.0  1004486400\n",
       "2      B00005N7OJ  A3JPFWKS83R49V  3.0  1174694400\n",
       "3      B00005N7OJ  A19FKU6JZQ2ECJ  5.0  1163116800\n",
       "4      B00005N7P0  A25MDGOMZ2GALN  5.0  1405296000\n",
       "...           ...             ...  ...         ...\n",
       "89684  B01HI8V1C2   AB5HCI50SF1TK  5.0  1471305600\n",
       "89685  B01HI8V1C2  A2X11NZMPI7M0T  1.0  1470787200\n",
       "89686  B01HI8V1C2  A3EGFFBRQVO7L7  5.0  1469923200\n",
       "89687  B01HIZSSQM  A3H23AVKFN62ZT  5.0  1507161600\n",
       "89688  B01HIZSSQM  A1N6M7HRWMDE3D  5.0  1493337600\n",
       "\n",
       "[89689 rows x 4 columns]"
      ]
     },
     "execution_count": 4,
     "metadata": {},
     "output_type": "execute_result"
    }
   ],
   "source": [
    "data = pd.read_csv(\"data/Magazine_Subscriptions.csv\", header=None)\n",
    "data"
   ]
  },
  {
   "cell_type": "markdown",
   "id": "0516ea53",
   "metadata": {
    "id": "0516ea53"
   },
   "source": [
    "Данные без заголовков, но на сайте https://cseweb.ucsd.edu/~jmcauley/datasets/amazon_v2/ приведена структура полей, используем её"
   ]
  },
  {
   "cell_type": "code",
   "execution_count": 5,
   "id": "fccb8cbc",
   "metadata": {
    "colab": {
     "base_uri": "https://localhost:8080/",
     "height": 206
    },
    "executionInfo": {
     "elapsed": 356,
     "status": "ok",
     "timestamp": 1744225938817,
     "user": {
      "displayName": "Danila Silichshev",
      "userId": "13799801190473562794"
     },
     "user_tz": -300
    },
    "id": "fccb8cbc",
    "outputId": "79365356-d0b6-489b-8463-871700355efe"
   },
   "outputs": [
    {
     "data": {
      "application/vnd.google.colaboratory.intrinsic+json": {
       "summary": "{\n  \"name\": \"data\",\n  \"rows\": 89689,\n  \"fields\": [\n    {\n      \"column\": \"item\",\n      \"properties\": {\n        \"dtype\": \"category\",\n        \"num_unique_values\": 2428,\n        \"samples\": [\n          \"B01DT6PL46\",\n          \"B00006KZ3W\",\n          \"B000PIT0RG\"\n        ],\n        \"semantic_type\": \"\",\n        \"description\": \"\"\n      }\n    },\n    {\n      \"column\": \"user\",\n      \"properties\": {\n        \"dtype\": \"string\",\n        \"num_unique_values\": 72098,\n        \"samples\": [\n          \"A3D9IJJPEOG8AE\",\n          \"A1Q87WYFEB1UZR\",\n          \"A55W1BT5YLMMF\"\n        ],\n        \"semantic_type\": \"\",\n        \"description\": \"\"\n      }\n    },\n    {\n      \"column\": \"rating\",\n      \"properties\": {\n        \"dtype\": \"number\",\n        \"std\": 1.4197908294343549,\n        \"min\": 1.0,\n        \"max\": 5.0,\n        \"num_unique_values\": 5,\n        \"samples\": [\n          3.0,\n          1.0,\n          4.0\n        ],\n        \"semantic_type\": \"\",\n        \"description\": \"\"\n      }\n    },\n    {\n      \"column\": \"timestamp\",\n      \"properties\": {\n        \"dtype\": \"number\",\n        \"std\": 103943021,\n        \"min\": 1004054400,\n        \"max\": 1537315200,\n        \"num_unique_values\": 5804,\n        \"samples\": [\n          1505001600,\n          1184025600,\n          1422748800\n        ],\n        \"semantic_type\": \"\",\n        \"description\": \"\"\n      }\n    }\n  ]\n}",
       "type": "dataframe",
       "variable_name": "data"
      },
      "text/html": [
       "\n",
       "  <div id=\"df-5696b23f-5575-45d6-a253-b96be36e1db2\" class=\"colab-df-container\">\n",
       "    <div>\n",
       "<style scoped>\n",
       "    .dataframe tbody tr th:only-of-type {\n",
       "        vertical-align: middle;\n",
       "    }\n",
       "\n",
       "    .dataframe tbody tr th {\n",
       "        vertical-align: top;\n",
       "    }\n",
       "\n",
       "    .dataframe thead th {\n",
       "        text-align: right;\n",
       "    }\n",
       "</style>\n",
       "<table border=\"1\" class=\"dataframe\">\n",
       "  <thead>\n",
       "    <tr style=\"text-align: right;\">\n",
       "      <th></th>\n",
       "      <th>item</th>\n",
       "      <th>user</th>\n",
       "      <th>rating</th>\n",
       "      <th>timestamp</th>\n",
       "    </tr>\n",
       "  </thead>\n",
       "  <tbody>\n",
       "    <tr>\n",
       "      <th>0</th>\n",
       "      <td>B00005N7P0</td>\n",
       "      <td>AH2IFH762VY5U</td>\n",
       "      <td>5.0</td>\n",
       "      <td>1005177600</td>\n",
       "    </tr>\n",
       "    <tr>\n",
       "      <th>1</th>\n",
       "      <td>B00005N7P0</td>\n",
       "      <td>AOSFI0JEYU4XM</td>\n",
       "      <td>5.0</td>\n",
       "      <td>1004486400</td>\n",
       "    </tr>\n",
       "    <tr>\n",
       "      <th>2</th>\n",
       "      <td>B00005N7OJ</td>\n",
       "      <td>A3JPFWKS83R49V</td>\n",
       "      <td>3.0</td>\n",
       "      <td>1174694400</td>\n",
       "    </tr>\n",
       "    <tr>\n",
       "      <th>3</th>\n",
       "      <td>B00005N7OJ</td>\n",
       "      <td>A19FKU6JZQ2ECJ</td>\n",
       "      <td>5.0</td>\n",
       "      <td>1163116800</td>\n",
       "    </tr>\n",
       "    <tr>\n",
       "      <th>4</th>\n",
       "      <td>B00005N7P0</td>\n",
       "      <td>A25MDGOMZ2GALN</td>\n",
       "      <td>5.0</td>\n",
       "      <td>1405296000</td>\n",
       "    </tr>\n",
       "  </tbody>\n",
       "</table>\n",
       "</div>\n",
       "    <div class=\"colab-df-buttons\">\n",
       "\n",
       "  <div class=\"colab-df-container\">\n",
       "    <button class=\"colab-df-convert\" onclick=\"convertToInteractive('df-5696b23f-5575-45d6-a253-b96be36e1db2')\"\n",
       "            title=\"Convert this dataframe to an interactive table.\"\n",
       "            style=\"display:none;\">\n",
       "\n",
       "  <svg xmlns=\"http://www.w3.org/2000/svg\" height=\"24px\" viewBox=\"0 -960 960 960\">\n",
       "    <path d=\"M120-120v-720h720v720H120Zm60-500h600v-160H180v160Zm220 220h160v-160H400v160Zm0 220h160v-160H400v160ZM180-400h160v-160H180v160Zm440 0h160v-160H620v160ZM180-180h160v-160H180v160Zm440 0h160v-160H620v160Z\"/>\n",
       "  </svg>\n",
       "    </button>\n",
       "\n",
       "  <style>\n",
       "    .colab-df-container {\n",
       "      display:flex;\n",
       "      gap: 12px;\n",
       "    }\n",
       "\n",
       "    .colab-df-convert {\n",
       "      background-color: #E8F0FE;\n",
       "      border: none;\n",
       "      border-radius: 50%;\n",
       "      cursor: pointer;\n",
       "      display: none;\n",
       "      fill: #1967D2;\n",
       "      height: 32px;\n",
       "      padding: 0 0 0 0;\n",
       "      width: 32px;\n",
       "    }\n",
       "\n",
       "    .colab-df-convert:hover {\n",
       "      background-color: #E2EBFA;\n",
       "      box-shadow: 0px 1px 2px rgba(60, 64, 67, 0.3), 0px 1px 3px 1px rgba(60, 64, 67, 0.15);\n",
       "      fill: #174EA6;\n",
       "    }\n",
       "\n",
       "    .colab-df-buttons div {\n",
       "      margin-bottom: 4px;\n",
       "    }\n",
       "\n",
       "    [theme=dark] .colab-df-convert {\n",
       "      background-color: #3B4455;\n",
       "      fill: #D2E3FC;\n",
       "    }\n",
       "\n",
       "    [theme=dark] .colab-df-convert:hover {\n",
       "      background-color: #434B5C;\n",
       "      box-shadow: 0px 1px 3px 1px rgba(0, 0, 0, 0.15);\n",
       "      filter: drop-shadow(0px 1px 2px rgba(0, 0, 0, 0.3));\n",
       "      fill: #FFFFFF;\n",
       "    }\n",
       "  </style>\n",
       "\n",
       "    <script>\n",
       "      const buttonEl =\n",
       "        document.querySelector('#df-5696b23f-5575-45d6-a253-b96be36e1db2 button.colab-df-convert');\n",
       "      buttonEl.style.display =\n",
       "        google.colab.kernel.accessAllowed ? 'block' : 'none';\n",
       "\n",
       "      async function convertToInteractive(key) {\n",
       "        const element = document.querySelector('#df-5696b23f-5575-45d6-a253-b96be36e1db2');\n",
       "        const dataTable =\n",
       "          await google.colab.kernel.invokeFunction('convertToInteractive',\n",
       "                                                    [key], {});\n",
       "        if (!dataTable) return;\n",
       "\n",
       "        const docLinkHtml = 'Like what you see? Visit the ' +\n",
       "          '<a target=\"_blank\" href=https://colab.research.google.com/notebooks/data_table.ipynb>data table notebook</a>'\n",
       "          + ' to learn more about interactive tables.';\n",
       "        element.innerHTML = '';\n",
       "        dataTable['output_type'] = 'display_data';\n",
       "        await google.colab.output.renderOutput(dataTable, element);\n",
       "        const docLink = document.createElement('div');\n",
       "        docLink.innerHTML = docLinkHtml;\n",
       "        element.appendChild(docLink);\n",
       "      }\n",
       "    </script>\n",
       "  </div>\n",
       "\n",
       "\n",
       "<div id=\"df-5df866ae-3610-4143-be90-1200ceaf78ca\">\n",
       "  <button class=\"colab-df-quickchart\" onclick=\"quickchart('df-5df866ae-3610-4143-be90-1200ceaf78ca')\"\n",
       "            title=\"Suggest charts\"\n",
       "            style=\"display:none;\">\n",
       "\n",
       "<svg xmlns=\"http://www.w3.org/2000/svg\" height=\"24px\"viewBox=\"0 0 24 24\"\n",
       "     width=\"24px\">\n",
       "    <g>\n",
       "        <path d=\"M19 3H5c-1.1 0-2 .9-2 2v14c0 1.1.9 2 2 2h14c1.1 0 2-.9 2-2V5c0-1.1-.9-2-2-2zM9 17H7v-7h2v7zm4 0h-2V7h2v10zm4 0h-2v-4h2v4z\"/>\n",
       "    </g>\n",
       "</svg>\n",
       "  </button>\n",
       "\n",
       "<style>\n",
       "  .colab-df-quickchart {\n",
       "      --bg-color: #E8F0FE;\n",
       "      --fill-color: #1967D2;\n",
       "      --hover-bg-color: #E2EBFA;\n",
       "      --hover-fill-color: #174EA6;\n",
       "      --disabled-fill-color: #AAA;\n",
       "      --disabled-bg-color: #DDD;\n",
       "  }\n",
       "\n",
       "  [theme=dark] .colab-df-quickchart {\n",
       "      --bg-color: #3B4455;\n",
       "      --fill-color: #D2E3FC;\n",
       "      --hover-bg-color: #434B5C;\n",
       "      --hover-fill-color: #FFFFFF;\n",
       "      --disabled-bg-color: #3B4455;\n",
       "      --disabled-fill-color: #666;\n",
       "  }\n",
       "\n",
       "  .colab-df-quickchart {\n",
       "    background-color: var(--bg-color);\n",
       "    border: none;\n",
       "    border-radius: 50%;\n",
       "    cursor: pointer;\n",
       "    display: none;\n",
       "    fill: var(--fill-color);\n",
       "    height: 32px;\n",
       "    padding: 0;\n",
       "    width: 32px;\n",
       "  }\n",
       "\n",
       "  .colab-df-quickchart:hover {\n",
       "    background-color: var(--hover-bg-color);\n",
       "    box-shadow: 0 1px 2px rgba(60, 64, 67, 0.3), 0 1px 3px 1px rgba(60, 64, 67, 0.15);\n",
       "    fill: var(--button-hover-fill-color);\n",
       "  }\n",
       "\n",
       "  .colab-df-quickchart-complete:disabled,\n",
       "  .colab-df-quickchart-complete:disabled:hover {\n",
       "    background-color: var(--disabled-bg-color);\n",
       "    fill: var(--disabled-fill-color);\n",
       "    box-shadow: none;\n",
       "  }\n",
       "\n",
       "  .colab-df-spinner {\n",
       "    border: 2px solid var(--fill-color);\n",
       "    border-color: transparent;\n",
       "    border-bottom-color: var(--fill-color);\n",
       "    animation:\n",
       "      spin 1s steps(1) infinite;\n",
       "  }\n",
       "\n",
       "  @keyframes spin {\n",
       "    0% {\n",
       "      border-color: transparent;\n",
       "      border-bottom-color: var(--fill-color);\n",
       "      border-left-color: var(--fill-color);\n",
       "    }\n",
       "    20% {\n",
       "      border-color: transparent;\n",
       "      border-left-color: var(--fill-color);\n",
       "      border-top-color: var(--fill-color);\n",
       "    }\n",
       "    30% {\n",
       "      border-color: transparent;\n",
       "      border-left-color: var(--fill-color);\n",
       "      border-top-color: var(--fill-color);\n",
       "      border-right-color: var(--fill-color);\n",
       "    }\n",
       "    40% {\n",
       "      border-color: transparent;\n",
       "      border-right-color: var(--fill-color);\n",
       "      border-top-color: var(--fill-color);\n",
       "    }\n",
       "    60% {\n",
       "      border-color: transparent;\n",
       "      border-right-color: var(--fill-color);\n",
       "    }\n",
       "    80% {\n",
       "      border-color: transparent;\n",
       "      border-right-color: var(--fill-color);\n",
       "      border-bottom-color: var(--fill-color);\n",
       "    }\n",
       "    90% {\n",
       "      border-color: transparent;\n",
       "      border-bottom-color: var(--fill-color);\n",
       "    }\n",
       "  }\n",
       "</style>\n",
       "\n",
       "  <script>\n",
       "    async function quickchart(key) {\n",
       "      const quickchartButtonEl =\n",
       "        document.querySelector('#' + key + ' button');\n",
       "      quickchartButtonEl.disabled = true;  // To prevent multiple clicks.\n",
       "      quickchartButtonEl.classList.add('colab-df-spinner');\n",
       "      try {\n",
       "        const charts = await google.colab.kernel.invokeFunction(\n",
       "            'suggestCharts', [key], {});\n",
       "      } catch (error) {\n",
       "        console.error('Error during call to suggestCharts:', error);\n",
       "      }\n",
       "      quickchartButtonEl.classList.remove('colab-df-spinner');\n",
       "      quickchartButtonEl.classList.add('colab-df-quickchart-complete');\n",
       "    }\n",
       "    (() => {\n",
       "      let quickchartButtonEl =\n",
       "        document.querySelector('#df-5df866ae-3610-4143-be90-1200ceaf78ca button');\n",
       "      quickchartButtonEl.style.display =\n",
       "        google.colab.kernel.accessAllowed ? 'block' : 'none';\n",
       "    })();\n",
       "  </script>\n",
       "</div>\n",
       "\n",
       "    </div>\n",
       "  </div>\n"
      ],
      "text/plain": [
       "         item            user  rating   timestamp\n",
       "0  B00005N7P0   AH2IFH762VY5U     5.0  1005177600\n",
       "1  B00005N7P0   AOSFI0JEYU4XM     5.0  1004486400\n",
       "2  B00005N7OJ  A3JPFWKS83R49V     3.0  1174694400\n",
       "3  B00005N7OJ  A19FKU6JZQ2ECJ     5.0  1163116800\n",
       "4  B00005N7P0  A25MDGOMZ2GALN     5.0  1405296000"
      ]
     },
     "execution_count": 5,
     "metadata": {},
     "output_type": "execute_result"
    }
   ],
   "source": [
    "columns = [\"item\", \"user\", \"rating\", \"timestamp\"]\n",
    "data.columns = columns\n",
    "data.head()"
   ]
  },
  {
   "cell_type": "markdown",
   "id": "b8a5dae8",
   "metadata": {
    "id": "b8a5dae8"
   },
   "source": [
    "## EDA"
   ]
  },
  {
   "cell_type": "code",
   "execution_count": 6,
   "id": "1cfd5e67",
   "metadata": {
    "colab": {
     "base_uri": "https://localhost:8080/"
    },
    "executionInfo": {
     "elapsed": 148,
     "status": "ok",
     "timestamp": 1744225938968,
     "user": {
      "displayName": "Danila Silichshev",
      "userId": "13799801190473562794"
     },
     "user_tz": -300
    },
    "id": "1cfd5e67",
    "outputId": "bc1e9ee8-4a76-49f7-b80c-af520042f186"
   },
   "outputs": [
    {
     "name": "stdout",
     "output_type": "stream",
     "text": [
      "<class 'pandas.core.frame.DataFrame'>\n",
      "RangeIndex: 89689 entries, 0 to 89688\n",
      "Data columns (total 4 columns):\n",
      " #   Column     Non-Null Count  Dtype  \n",
      "---  ------     --------------  -----  \n",
      " 0   item       89689 non-null  object \n",
      " 1   user       89689 non-null  object \n",
      " 2   rating     89689 non-null  float64\n",
      " 3   timestamp  89689 non-null  int64  \n",
      "dtypes: float64(1), int64(1), object(2)\n",
      "memory usage: 2.7+ MB\n"
     ]
    }
   ],
   "source": [
    "data.info()"
   ]
  },
  {
   "cell_type": "markdown",
   "id": "a94791c4",
   "metadata": {
    "id": "a94791c4"
   },
   "source": [
    "### Поиск грязных данных"
   ]
  },
  {
   "cell_type": "code",
   "execution_count": 7,
   "id": "63421737",
   "metadata": {
    "colab": {
     "base_uri": "https://localhost:8080/"
    },
    "executionInfo": {
     "elapsed": 254,
     "status": "ok",
     "timestamp": 1744225939225,
     "user": {
      "displayName": "Danila Silichshev",
      "userId": "13799801190473562794"
     },
     "user_tz": -300
    },
    "id": "63421737",
    "outputId": "e992c64c-c800-4efc-eeaf-eddfc1301d20"
   },
   "outputs": [
    {
     "name": "stdout",
     "output_type": "stream",
     "text": [
      "Полных дубликатов: 1221\n"
     ]
    }
   ],
   "source": [
    "duplicate_rows = data.duplicated().sum()\n",
    "print(f\"Полных дубликатов: {duplicate_rows}\")"
   ]
  },
  {
   "cell_type": "markdown",
   "id": "97e8658c",
   "metadata": {
    "id": "97e8658c"
   },
   "source": [
    "Пользователи не могли **в один момент времени** оценить несколько раз **один и тот же объект**, поэтому:\n",
    "- удалим дубли;\n",
    "- выявим дубликаты по паре (item, user)"
   ]
  },
  {
   "cell_type": "code",
   "execution_count": 8,
   "id": "eef08157",
   "metadata": {
    "colab": {
     "base_uri": "https://localhost:8080/"
    },
    "executionInfo": {
     "elapsed": 363,
     "status": "ok",
     "timestamp": 1744225939590,
     "user": {
      "displayName": "Danila Silichshev",
      "userId": "13799801190473562794"
     },
     "user_tz": -300
    },
    "id": "eef08157",
    "outputId": "26001e77-7834-4853-fafe-92e31e725652"
   },
   "outputs": [
    {
     "name": "stdout",
     "output_type": "stream",
     "text": [
      "Дубликатов по (item, user): 150 из 88468\n"
     ]
    }
   ],
   "source": [
    "data_sorted = data.sort_values(\"timestamp\")\n",
    "data = data_sorted.drop_duplicates(keep=\"last\")\n",
    "\n",
    "user_item_duplicates = data.duplicated(subset=[\"item\", \"user\"])\n",
    "print(f\"Дубликатов по (item, user): {user_item_duplicates.sum()} из {data.shape[0]}\")"
   ]
  },
  {
   "cell_type": "markdown",
   "id": "58515965",
   "metadata": {
    "id": "58515965"
   },
   "source": [
    "Скорее всего в информационной системе разрешено переоценивать товар,<br/> но при построении рекомендательной системы **важнее учитывать актуальное мнение пользователя**"
   ]
  },
  {
   "cell_type": "code",
   "execution_count": 9,
   "id": "67402d91",
   "metadata": {
    "colab": {
     "base_uri": "https://localhost:8080/"
    },
    "executionInfo": {
     "elapsed": 82,
     "status": "ok",
     "timestamp": 1744225939670,
     "user": {
      "displayName": "Danila Silichshev",
      "userId": "13799801190473562794"
     },
     "user_tz": -300
    },
    "id": "67402d91",
    "outputId": "f4fc53e9-d756-4f5a-81c9-284506874a53"
   },
   "outputs": [
    {
     "name": "stdout",
     "output_type": "stream",
     "text": [
      "Осталось рейтингов: 88318\n"
     ]
    }
   ],
   "source": [
    "data_sorted = data.sort_values(\"timestamp\")\n",
    "data = data_sorted.drop_duplicates(subset=[\"item\", \"user\"], keep=\"last\")\n",
    "\n",
    "real_ratings_count = data.shape[0]\n",
    "print(f\"Осталось рейтингов: {real_ratings_count}\")"
   ]
  },
  {
   "cell_type": "markdown",
   "id": "83a13426",
   "metadata": {
    "id": "83a13426"
   },
   "source": [
    "### Спарсность\n",
    "\n",
    "Спарсность - мера разреженности структуры из-за пропущенных значений.<br/> В контексте данного исследования спарсность показывает **насколько разрежена матрица пользователь–товар**,<br/> т.е.\n",
    "она отображает, насколько мало пользователи оставляют рейтинги по сравнению с всеми возможными комбинациями **`user × item`**."
   ]
  },
  {
   "cell_type": "code",
   "execution_count": 10,
   "id": "6e260289",
   "metadata": {
    "colab": {
     "base_uri": "https://localhost:8080/"
    },
    "executionInfo": {
     "elapsed": 198,
     "status": "ok",
     "timestamp": 1744225939882,
     "user": {
      "displayName": "Danila Silichshev",
      "userId": "13799801190473562794"
     },
     "user_tz": -300
    },
    "id": "6e260289",
    "outputId": "75bd1e50-cce9-4f64-cc36-1ea81ba9df2b"
   },
   "outputs": [
    {
     "name": "stdout",
     "output_type": "stream",
     "text": [
      "Количество уникальных значений по признакам\n",
      "item: 2428\n",
      "user: 72098\n",
      "rating: 5\n",
      "timestamp: 5803\n"
     ]
    }
   ],
   "source": [
    "unique_counter = dict()\n",
    "\n",
    "print(\"Количество уникальных значений по признакам\")\n",
    "\n",
    "for column in columns:\n",
    "    unique_counter[column] = data[column].nunique()\n",
    "    print(f\"{column}: {data[column].nunique()}\")"
   ]
  },
  {
   "cell_type": "code",
   "execution_count": 11,
   "id": "e5f6deef",
   "metadata": {
    "colab": {
     "base_uri": "https://localhost:8080/"
    },
    "executionInfo": {
     "elapsed": 5,
     "status": "ok",
     "timestamp": 1744225939934,
     "user": {
      "displayName": "Danila Silichshev",
      "userId": "13799801190473562794"
     },
     "user_tz": -300
    },
    "id": "e5f6deef",
    "outputId": "f46d8ee4-63fe-4642-eee7-ed2c44f2403a"
   },
   "outputs": [
    {
     "name": "stdout",
     "output_type": "stream",
     "text": [
      "Заполненность матрицы пользователь–товар: 0.0005045188 (0.0505%)\n",
      "Спарсность (разреженность): 0.9994954812 (99.9495%)\n"
     ]
    }
   ],
   "source": [
    "# Расчёт заполненности\n",
    "density = data.shape[0] / (unique_counter[\"user\"] * unique_counter[\"item\"])\n",
    "\n",
    "print(f\"Заполненность матрицы пользователь–товар: {density:.10f} ({density  * 100:.4f}%)\")\n",
    "print(f\"Спарсность (разреженность): {1 - density:.10f} ({(1 - density ) * 100:.4f}%)\")"
   ]
  },
  {
   "cell_type": "markdown",
   "id": "e3c58e4d",
   "metadata": {
    "id": "e3c58e4d"
   },
   "source": [
    "### Анализ признаков"
   ]
  },
  {
   "cell_type": "markdown",
   "id": "53814043",
   "metadata": {
    "id": "53814043"
   },
   "source": [
    "#### Рейтинги"
   ]
  },
  {
   "cell_type": "code",
   "execution_count": 12,
   "id": "9c703f30",
   "metadata": {
    "colab": {
     "base_uri": "https://localhost:8080/",
     "height": 487
    },
    "executionInfo": {
     "elapsed": 383,
     "status": "ok",
     "timestamp": 1744225940318,
     "user": {
      "displayName": "Danila Silichshev",
      "userId": "13799801190473562794"
     },
     "user_tz": -300
    },
    "id": "9c703f30",
    "outputId": "001f7cb0-1340-4e7f-b70b-cae389d3f43f",
    "scrolled": false
   },
   "outputs": [
    {
     "data": {
      "image/png": "[encoded data removed]",
      "text/plain": [
       "<Figure size 640x480 with 1 Axes>"
      ]
     },
     "metadata": {},
     "output_type": "display_data"
    }
   ],
   "source": [
    "data[\"rating\"].hist(bins=5, density=True, edgecolor=\"black\")\n",
    "\n",
    "plt.title(\"Распределение рейтингов (частота)\")\n",
    "plt.xlabel(\"Оценка пользователя\")\n",
    "plt.ylabel(\"Относительная частота\")\n",
    "plt.xticks([1, 2, 3, 4, 5])\n",
    "plt.grid(True)\n",
    "plt.tight_layout()\n",
    "plt.show()"
   ]
  },
  {
   "cell_type": "markdown",
   "id": "3035fce7",
   "metadata": {
    "id": "3035fce7"
   },
   "source": [
    "Типичная ситуация для рейтингов: распределение скошено в правую сторону $ \\Rightarrow $ <br/>преобладают положительные оценки  (>80% от всех - наивысшая оценка)"
   ]
  },
  {
   "cell_type": "markdown",
   "id": "a03a0c82",
   "metadata": {
    "id": "a03a0c82"
   },
   "source": [
    "#### Пользователи & рейтинги, журналы & рейтинги"
   ]
  },
  {
   "cell_type": "code",
   "execution_count": 13,
   "id": "ae0ab50d",
   "metadata": {
    "colab": {
     "base_uri": "https://localhost:8080/"
    },
    "executionInfo": {
     "elapsed": 480,
     "status": "ok",
     "timestamp": 1744225940800,
     "user": {
      "displayName": "Danila Silichshev",
      "userId": "13799801190473562794"
     },
     "user_tz": -300
    },
    "id": "ae0ab50d",
    "outputId": "9e5797d6-2845-4437-9b3c-b1af045547b0",
    "scrolled": false
   },
   "outputs": [
    {
     "name": "stdout",
     "output_type": "stream",
     "text": [
      "Минимальное количество оценок на пользователя: 1\n",
      "Максимальное количество оценок на пользователя: 55\n",
      "Среднее количество оценок на пользователя: 1.22\n",
      "Минимальное количество оценок на журнал: 1\n",
      "Максимальное количество оценок на журнал: 1716\n",
      "Среднее количество оценок на журнал: 36.37\n",
      "\n",
      "Топ-10 активных пользователей:\n",
      "user\n",
      "A3JPFWKS83R49V    55\n",
      "AEMZRE6QYVQBS     25\n",
      "A2OTUWUSH49XIN    23\n",
      "A30H2335OM7RD6    22\n",
      "A3GA09FYFKL4EY    21\n",
      "AKMEY1BSHSDG7     20\n",
      "A1RPTVW5VEOSI     20\n",
      "A3R7MXVQRGGIQ9    20\n",
      "A2H3JURQZOHVMB    20\n",
      "A3FVAWZNKW9GX     19\n",
      "Name: rating, dtype: int64\n",
      "\n",
      "Топ-10 журналов с наибольшим количеством оценок:\n",
      "item\n",
      "B00005NIOH    1716\n",
      "B00005N7Q1    1536\n",
      "B00005N7SC    1477\n",
      "B00007B10Y    1402\n",
      "B001LF4EVO    1330\n",
      "B00005R8BR    1244\n",
      "B000IOEJ8W    1052\n",
      "B00005N7SA     974\n",
      "B000ICB4T6     966\n",
      "B00079RO7G     946\n",
      "Name: rating, dtype: int64\n"
     ]
    }
   ],
   "source": [
    "user_counts = data.groupby(\"user\").count()[\"rating\"]\n",
    "item_counts = data.groupby(\"item\").count()[\"rating\"]\n",
    "\n",
    "print(f\"Минимальное количество оценок на пользователя: {user_counts.min()}\")\n",
    "print(f\"Максимальное количество оценок на пользователя: {user_counts.max()}\")\n",
    "print(f\"Среднее количество оценок на пользователя: {user_counts.mean():.2f}\")\n",
    "print(f\"Минимальное количество оценок на журнал: {item_counts.min()}\")\n",
    "print(f\"Максимальное количество оценок на журнал: {item_counts.max()}\")\n",
    "print(f\"Среднее количество оценок на журнал: {item_counts.mean():.2f}\", end=\"\\n\\n\")\n",
    "\n",
    "print(f\"Топ-10 активных пользователей:\\n{user_counts.sort_values(ascending=False).head(10)}\", end=\"\\n\\n\")\n",
    "print(f\"Топ-10 журналов с наибольшим количеством оценок:\\n{item_counts.sort_values(ascending=False).head(10)}\")"
   ]
  },
  {
   "cell_type": "markdown",
   "id": "9c786d08",
   "metadata": {
    "id": "9c786d08"
   },
   "source": [
    "## Построение рекомендательных систем"
   ]
  },
  {
   "cell_type": "markdown",
   "id": "1e1db04b",
   "metadata": {
    "id": "1e1db04b"
   },
   "source": [
    "##### Вспомогательные функции"
   ]
  },
  {
   "cell_type": "code",
   "execution_count": 14,
   "id": "62b92615",
   "metadata": {
    "executionInfo": {
     "elapsed": 14,
     "status": "ok",
     "timestamp": 1744225940816,
     "user": {
      "displayName": "Danila Silichshev",
      "userId": "13799801190473562794"
     },
     "user_tz": -300
    },
    "id": "62b92615"
   },
   "outputs": [],
   "source": [
    "def prepare_recommendations(predictions, test_data, k=10):\n",
    "    \"\"\"\n",
    "    Подготавливает списки рекомендованных и релевантных объектов для каждого пользователя.\n",
    "    \"\"\"\n",
    "\n",
    "    df = pd.DataFrame(predictions, columns=[\"user\", \"item\", \"rating\"])\n",
    "\n",
    "    # Сортируем по user и по убыванию рейтинга\n",
    "    df_sorted = df.sort_values([\"user\", \"rating\"], ascending=[True, False])\n",
    "\n",
    "    # Берём top-k для каждого пользователя (векторно)\n",
    "    top_k = df_sorted.groupby(\"user\").head(k)\n",
    "\n",
    "    # Группируем в списки: рекомендации\n",
    "    recommended = top_k.groupby(\"user\")[\"item\"].apply(list)\n",
    "\n",
    "    # Истинные релевантные объекты\n",
    "    relevant = test_data.groupby(\"user\")[\"item\"].apply(list)\n",
    "\n",
    "    # Выравниваем по одинаковому списку пользователей (intersect)\n",
    "    common_users = recommended.index.intersection(relevant.index)\n",
    "\n",
    "\n",
    "    return recommended.loc[common_users].tolist(), relevant.loc[common_users].tolist()"
   ]
  },
  {
   "cell_type": "markdown",
   "id": "e2c82fdd",
   "metadata": {
    "id": "e2c82fdd"
   },
   "source": [
    "#### Метрики качества рекомендаций\n",
    "\n",
    "Для оценки качества моделей будут использоваться следующие метрики на топ-10 рекомендаций:\n",
    "\n",
    "- **HR@10 (Hit Rate @ 10):**  \n",
    "  Показывает долю пользователей, для которых хотя бы один релевантный объект оказался в списке из 10 лучших рекомендаций.\n",
    "\n",
    "\n",
    "- **MRR@10 (Mean Reciprocal Rank @ 10):**  \n",
    "  Среднее значение обратной позиции первого релевантного объекта в списке рекомендаций. Чем выше, тем лучше модель ранжирует полезные объекты.\n",
    "\n",
    "\n",
    "- **MAP@10 (Mean Average Precision @ 10):**  \n",
    "  Учитывает не только наличие релевантных объектов, но и их позиции. Наказывает за релевантные объекты, расположенные внизу списка.\n",
    "\n",
    "\n",
    "- **NDCG@10 (Normalized Discounted Cumulative Gain @ 10):**  \n",
    "  Учитывает, насколько релевантные объекты расположены ближе к началу списка рекомендаций. Считается \"золотым стандартом\" ранжирования.\n",
    "\n",
    "\n",
    "- **Coverage@10:**  \n",
    "  Покрытие каталога — доля уникальных объектов из всего каталога, которые попали в топ-10 хотя бы к одному пользователю. Отражает разнообразие рекомендаций.\n",
    "\n",
    "\n",
    "- **Novelty@10:**  \n",
    "  Оценивает, насколько рекомендуемые объекты являются непопулярными. Высокая новизна означает, что пользователям предлагаются менее очевидные и более уникальные объекты.\n",
    "\n",
    "---\n",
    "\n",
    "Эти метрики позволяют оценить не только точность предсказаний, но и полезность, охват и новизну рекомендаций."
   ]
  },
  {
   "cell_type": "code",
   "execution_count": 15,
   "id": "a1b075f2",
   "metadata": {
    "executionInfo": {
     "elapsed": 26,
     "status": "ok",
     "timestamp": 1744225940845,
     "user": {
      "displayName": "Danila Silichshev",
      "userId": "13799801190473562794"
     },
     "user_tz": -300
    },
    "id": "a1b075f2"
   },
   "outputs": [],
   "source": [
    "def hit_rate(recommended, relevant, k=10):\n",
    "    hits = [len(set(r[:k]) & set(rel)) > 0 for r, rel in zip(recommended, relevant)]\n",
    "    return np.mean(hits)\n",
    "\n",
    "def mrr(recommended, relevant, k=10):\n",
    "    rr = []\n",
    "    for recs, rels in zip(recommended, relevant):\n",
    "        for idx, item in enumerate(recs[:k]):\n",
    "            if item in rels:\n",
    "                rr.append(1 / (idx + 1))\n",
    "                break\n",
    "        else:\n",
    "            rr.append(0)\n",
    "    return np.mean(rr)\n",
    "\n",
    "def ndcg(recommended, relevant, k=10):\n",
    "    def dcg(rel_list):\n",
    "        return sum([1 / np.log2(i + 2) for i, rel in enumerate(rel_list) if rel])\n",
    "\n",
    "    ndcg_scores = []\n",
    "    for recs, rels in zip(recommended, relevant):\n",
    "        rel_vector = [1 if item in rels else 0 for item in recs[:k]]\n",
    "        ideal_vector = sorted(rel_vector, reverse=True)\n",
    "        ndcg_scores.append(dcg(rel_vector) / dcg(ideal_vector) if dcg(ideal_vector) > 0 else 0)\n",
    "    return np.mean(ndcg_scores)\n",
    "\n",
    "def mapk(recommended, relevant, k=10):\n",
    "    ap_scores = []\n",
    "    for recs, rels in zip(recommended, relevant):\n",
    "        score = 0.0\n",
    "        hits = 0\n",
    "        for i, item in enumerate(recs[:k]):\n",
    "            if item in rels:\n",
    "                hits += 1\n",
    "                score += hits / (i + 1)\n",
    "        if len(rels) > 0:\n",
    "            ap_scores.append(score / min(len(rels), k))\n",
    "        else:\n",
    "            ap_scores.append(0)\n",
    "    return np.mean(ap_scores)\n",
    "\n",
    "def novelty(recommended, item_counts, num_users, k=10):\n",
    "    popularity = {\n",
    "        item: count / sum(item_counts.values())\n",
    "        for item, count in item_counts.items()\n",
    "    }\n",
    "\n",
    "    per_user_novelty = []\n",
    "\n",
    "    for recs in recommended:\n",
    "        recs = recs[:k]\n",
    "        score = 0\n",
    "        for item in recs:\n",
    "            if item in popularity and popularity[item] > 0:\n",
    "                score += -np.log2(popularity[item])\n",
    "        per_user_novelty.append(score / k if k else 0)\n",
    "\n",
    "    novelty_score = np.mean(per_user_novelty)\n",
    "    return novelty_score, per_user_novelty\n",
    "\n",
    "def catalog_coverage(recommended, catalog, k=10):\n",
    "    recommended_items = set()\n",
    "    for recs in recommended:\n",
    "        recommended_items.update(recs[:k])\n",
    "\n",
    "    return len(recommended_items) / len(catalog) if len(catalog) else 0"
   ]
  },
  {
   "cell_type": "code",
   "execution_count": 16,
   "id": "b6e45ceb",
   "metadata": {
    "executionInfo": {
     "elapsed": 22,
     "status": "ok",
     "timestamp": 1744225940869,
     "user": {
      "displayName": "Danila Silichshev",
      "userId": "13799801190473562794"
     },
     "user_tz": -300
    },
    "id": "b6e45ceb"
   },
   "outputs": [],
   "source": [
    "def evaluate_recommendations(model_name, recommended, relevant, catalog, item_counts, num_users, k=10):\n",
    "    # Отфильтруем неизвестные объекты из рекомендаций\n",
    "    filtered_recommended = [\n",
    "        [item for item in recs if item in item_counts]\n",
    "        for recs in recommended\n",
    "    ]\n",
    "\n",
    "    general_novelty, _ = novelty(filtered_recommended, item_counts, num_users, k)\n",
    "\n",
    "\n",
    "    return {\n",
    "        'model': model_name,\n",
    "        f'HR@{k}': hit_rate(recommended, relevant, k=k),\n",
    "        f'MRR@{k}': mrr(recommended, relevant, k=k),\n",
    "        f'NDCG@{k}': ndcg(recommended, relevant, k=k),\n",
    "        f'MAP@{k}': mapk(recommended, relevant, k=k),\n",
    "        f'Coverage@{k}': catalog_coverage(recommended, k=k, catalog=catalog),\n",
    "        f'Novelty@{k}': general_novelty\n",
    "    }\n",
    "\n",
    "total_metrics = []  # Список для хранения рассчитанных метрик для каждой модели"
   ]
  },
  {
   "cell_type": "markdown",
   "id": "a9a99ab3",
   "metadata": {
    "id": "a9a99ab3"
   },
   "source": [
    "### Разбиение на train и test"
   ]
  },
  {
   "cell_type": "code",
   "execution_count": 17,
   "id": "d4ba293e",
   "metadata": {
    "executionInfo": {
     "elapsed": 24,
     "status": "ok",
     "timestamp": 1744225940895,
     "user": {
      "displayName": "Danila Silichshev",
      "userId": "13799801190473562794"
     },
     "user_tz": -300
    },
    "id": "d4ba293e"
   },
   "outputs": [],
   "source": [
    "def train_test_split(X, user_col, time_col):\n",
    "    # Оставляем только активных пользователей с более чем 1 рейтингом\n",
    "    user_counts = X[user_col].value_counts()\n",
    "    active_users = user_counts[user_counts > 1].index\n",
    "    X_filtered = X[X[user_col].isin(active_users)]\n",
    "\n",
    "    # Сортируем и разбиваем по последней оценке\n",
    "    full_history = X_filtered.sort_values([user_col, time_col]).groupby(user_col)\n",
    "    test = full_history.tail(1)\n",
    "    train = full_history.head(-1)\n",
    "\n",
    "    # Исключаем колонку time_col из результата\n",
    "    relevant_cols = [col for col in X.columns if col != time_col]\n",
    "\n",
    "    return train[relevant_cols], test[relevant_cols]"
   ]
  },
  {
   "cell_type": "code",
   "execution_count": 18,
   "id": "c665ec9d",
   "metadata": {
    "colab": {
     "base_uri": "https://localhost:8080/"
    },
    "executionInfo": {
     "elapsed": 361,
     "status": "ok",
     "timestamp": 1744225941259,
     "user": {
      "displayName": "Danila Silichshev",
      "userId": "13799801190473562794"
     },
     "user_tz": -300
    },
    "id": "c665ec9d",
    "outputId": "d5b0cced-8438-4df9-e6c9-8394a362bf6f",
    "scrolled": false
   },
   "outputs": [
    {
     "name": "stdout",
     "output_type": "stream",
     "text": [
      "Объектов в train: 16220, в test: 10185\n"
     ]
    }
   ],
   "source": [
    "train_data, test_data = train_test_split(data, user_col=\"user\", time_col=\"timestamp\")\n",
    "\n",
    "catalog = train_data[\"item\"].unique()  # Каталог всех объектов\n",
    "\n",
    "# Считаем частоту появления объектов в train\n",
    "item_counts = train_data['item'].value_counts().to_dict()\n",
    "\n",
    "# Считаем число пользователей в train\n",
    "num_users = train_data['user'].nunique()\n",
    "\n",
    "print(f\"Объектов в train: {train_data.shape[0]}, в test: {test_data.shape[0]}\")"
   ]
  },
  {
   "cell_type": "code",
   "execution_count": 19,
   "id": "4409a08d",
   "metadata": {
    "colab": {
     "base_uri": "https://localhost:8080/"
    },
    "executionInfo": {
     "elapsed": 33,
     "status": "ok",
     "timestamp": 1744225941294,
     "user": {
      "displayName": "Danila Silichshev",
      "userId": "13799801190473562794"
     },
     "user_tz": -300
    },
    "id": "4409a08d",
    "outputId": "ea0678db-f9d4-4ee1-c1d8-60ff6e5d4f55"
   },
   "outputs": [
    {
     "name": "stdout",
     "output_type": "stream",
     "text": [
      "Users: 10185\n",
      "Items: 1434\n"
     ]
    }
   ],
   "source": [
    "print(\"Users:\", train_data[\"user\"].nunique())\n",
    "print(\"Items:\", train_data[\"item\"].nunique())"
   ]
  },
  {
   "cell_type": "markdown",
   "id": "9da60032",
   "metadata": {
    "id": "9da60032"
   },
   "source": [
    "Ввиду того, что в нашем датасете наблюдается высокая разреженность (большинство пользователей оставили очень малое количество оценок), применение классических методов коллаборативной фильтрации, таких как `User-User` и `Item-Item` KNN, не является обоснованным для эффективности рекомендаций. В связи с вышесказанным для генерации рекомендаций будут построены 3 модели: **Baseline** и две вариации **LightFM** — с функциями потерь `warp` и `bpr`."
   ]
  },
  {
   "cell_type": "markdown",
   "id": "d61c91f9",
   "metadata": {
    "id": "d61c91f9"
   },
   "source": [
    "### Baseline"
   ]
  },
  {
   "cell_type": "markdown",
   "id": "2b4f49d4",
   "metadata": {
    "id": "2b4f49d4"
   },
   "source": [
    "Выделим топ-10 популярных журналов, у которых средний рейтинг $ \\ge $4.25\t и будем их использовать в качестве **baseline**"
   ]
  },
  {
   "cell_type": "code",
   "execution_count": 20,
   "id": "f58639bd",
   "metadata": {
    "colab": {
     "base_uri": "https://localhost:8080/",
     "height": 363
    },
    "executionInfo": {
     "elapsed": 84,
     "status": "ok",
     "timestamp": 1744225941387,
     "user": {
      "displayName": "Danila Silichshev",
      "userId": "13799801190473562794"
     },
     "user_tz": -300
    },
    "id": "f58639bd",
    "outputId": "7b8a35ae-cbf7-40a5-f3c5-adde18f5cc25"
   },
   "outputs": [
    {
     "data": {
      "application/vnd.google.colaboratory.intrinsic+json": {
       "summary": "{\n  \"name\": \"top_10_baseline\",\n  \"rows\": 10,\n  \"fields\": [\n    {\n      \"column\": \"item\",\n      \"properties\": {\n        \"dtype\": \"string\",\n        \"num_unique_values\": 10,\n        \"samples\": [\n          \"B00005N7OV\",\n          \"B00005N7SC\",\n          \"B00005N7SA\"\n        ],\n        \"semantic_type\": \"\",\n        \"description\": \"\"\n      }\n    },\n    {\n      \"column\": \"count\",\n      \"properties\": {\n        \"dtype\": \"number\",\n        \"std\": 83,\n        \"min\": 156,\n        \"max\": 440,\n        \"num_unique_values\": 10,\n        \"samples\": [\n          172,\n          283,\n          205\n        ],\n        \"semantic_type\": \"\",\n        \"description\": \"\"\n      }\n    },\n    {\n      \"column\": \"mean_rating\",\n      \"properties\": {\n        \"dtype\": \"number\",\n        \"std\": 0.1588183498710577,\n        \"min\": 4.253658536585366,\n        \"max\": 4.670454545454546,\n        \"num_unique_values\": 10,\n        \"samples\": [\n          4.27906976744186,\n          4.318021201413427,\n          4.253658536585366\n        ],\n        \"semantic_type\": \"\",\n        \"description\": \"\"\n      }\n    }\n  ]\n}",
       "type": "dataframe",
       "variable_name": "top_10_baseline"
      },
      "text/html": [
       "\n",
       "  <div id=\"df-dedfb329-c786-4f96-a572-db03d0e56826\" class=\"colab-df-container\">\n",
       "    <div>\n",
       "<style scoped>\n",
       "    .dataframe tbody tr th:only-of-type {\n",
       "        vertical-align: middle;\n",
       "    }\n",
       "\n",
       "    .dataframe tbody tr th {\n",
       "        vertical-align: top;\n",
       "    }\n",
       "\n",
       "    .dataframe thead th {\n",
       "        text-align: right;\n",
       "    }\n",
       "</style>\n",
       "<table border=\"1\" class=\"dataframe\">\n",
       "  <thead>\n",
       "    <tr style=\"text-align: right;\">\n",
       "      <th></th>\n",
       "      <th>item</th>\n",
       "      <th>count</th>\n",
       "      <th>mean_rating</th>\n",
       "    </tr>\n",
       "  </thead>\n",
       "  <tbody>\n",
       "    <tr>\n",
       "      <th>769</th>\n",
       "      <td>B000IJ7RQ8</td>\n",
       "      <td>440</td>\n",
       "      <td>4.284091</td>\n",
       "    </tr>\n",
       "    <tr>\n",
       "      <th>59</th>\n",
       "      <td>B00005N7SC</td>\n",
       "      <td>283</td>\n",
       "      <td>4.318021</td>\n",
       "    </tr>\n",
       "    <tr>\n",
       "      <th>118</th>\n",
       "      <td>B00005NIOH</td>\n",
       "      <td>258</td>\n",
       "      <td>4.662791</td>\n",
       "    </tr>\n",
       "    <tr>\n",
       "      <th>889</th>\n",
       "      <td>B001LF4EVO</td>\n",
       "      <td>218</td>\n",
       "      <td>4.541284</td>\n",
       "    </tr>\n",
       "    <tr>\n",
       "      <th>29</th>\n",
       "      <td>B00005N7QG</td>\n",
       "      <td>206</td>\n",
       "      <td>4.339806</td>\n",
       "    </tr>\n",
       "    <tr>\n",
       "      <th>57</th>\n",
       "      <td>B00005N7SA</td>\n",
       "      <td>205</td>\n",
       "      <td>4.253659</td>\n",
       "    </tr>\n",
       "    <tr>\n",
       "      <th>513</th>\n",
       "      <td>B00007B10Y</td>\n",
       "      <td>181</td>\n",
       "      <td>4.469613</td>\n",
       "    </tr>\n",
       "    <tr>\n",
       "      <th>22</th>\n",
       "      <td>B00005N7Q1</td>\n",
       "      <td>176</td>\n",
       "      <td>4.670455</td>\n",
       "    </tr>\n",
       "    <tr>\n",
       "      <th>11</th>\n",
       "      <td>B00005N7OV</td>\n",
       "      <td>172</td>\n",
       "      <td>4.279070</td>\n",
       "    </tr>\n",
       "    <tr>\n",
       "      <th>782</th>\n",
       "      <td>B000ILY9LW</td>\n",
       "      <td>156</td>\n",
       "      <td>4.346154</td>\n",
       "    </tr>\n",
       "  </tbody>\n",
       "</table>\n",
       "</div>\n",
       "    <div class=\"colab-df-buttons\">\n",
       "\n",
       "  <div class=\"colab-df-container\">\n",
       "    <button class=\"colab-df-convert\" onclick=\"convertToInteractive('df-dedfb329-c786-4f96-a572-db03d0e56826')\"\n",
       "            title=\"Convert this dataframe to an interactive table.\"\n",
       "            style=\"display:none;\">\n",
       "\n",
       "  <svg xmlns=\"http://www.w3.org/2000/svg\" height=\"24px\" viewBox=\"0 -960 960 960\">\n",
       "    <path d=\"M120-120v-720h720v720H120Zm60-500h600v-160H180v160Zm220 220h160v-160H400v160Zm0 220h160v-160H400v160ZM180-400h160v-160H180v160Zm440 0h160v-160H620v160ZM180-180h160v-160H180v160Zm440 0h160v-160H620v160Z\"/>\n",
       "  </svg>\n",
       "    </button>\n",
       "\n",
       "  <style>\n",
       "    .colab-df-container {\n",
       "      display:flex;\n",
       "      gap: 12px;\n",
       "    }\n",
       "\n",
       "    .colab-df-convert {\n",
       "      background-color: #E8F0FE;\n",
       "      border: none;\n",
       "      border-radius: 50%;\n",
       "      cursor: pointer;\n",
       "      display: none;\n",
       "      fill: #1967D2;\n",
       "      height: 32px;\n",
       "      padding: 0 0 0 0;\n",
       "      width: 32px;\n",
       "    }\n",
       "\n",
       "    .colab-df-convert:hover {\n",
       "      background-color: #E2EBFA;\n",
       "      box-shadow: 0px 1px 2px rgba(60, 64, 67, 0.3), 0px 1px 3px 1px rgba(60, 64, 67, 0.15);\n",
       "      fill: #174EA6;\n",
       "    }\n",
       "\n",
       "    .colab-df-buttons div {\n",
       "      margin-bottom: 4px;\n",
       "    }\n",
       "\n",
       "    [theme=dark] .colab-df-convert {\n",
       "      background-color: #3B4455;\n",
       "      fill: #D2E3FC;\n",
       "    }\n",
       "\n",
       "    [theme=dark] .colab-df-convert:hover {\n",
       "      background-color: #434B5C;\n",
       "      box-shadow: 0px 1px 3px 1px rgba(0, 0, 0, 0.15);\n",
       "      filter: drop-shadow(0px 1px 2px rgba(0, 0, 0, 0.3));\n",
       "      fill: #FFFFFF;\n",
       "    }\n",
       "  </style>\n",
       "\n",
       "    <script>\n",
       "      const buttonEl =\n",
       "        document.querySelector('#df-dedfb329-c786-4f96-a572-db03d0e56826 button.colab-df-convert');\n",
       "      buttonEl.style.display =\n",
       "        google.colab.kernel.accessAllowed ? 'block' : 'none';\n",
       "\n",
       "      async function convertToInteractive(key) {\n",
       "        const element = document.querySelector('#df-dedfb329-c786-4f96-a572-db03d0e56826');\n",
       "        const dataTable =\n",
       "          await google.colab.kernel.invokeFunction('convertToInteractive',\n",
       "                                                    [key], {});\n",
       "        if (!dataTable) return;\n",
       "\n",
       "        const docLinkHtml = 'Like what you see? Visit the ' +\n",
       "          '<a target=\"_blank\" href=https://colab.research.google.com/notebooks/data_table.ipynb>data table notebook</a>'\n",
       "          + ' to learn more about interactive tables.';\n",
       "        element.innerHTML = '';\n",
       "        dataTable['output_type'] = 'display_data';\n",
       "        await google.colab.output.renderOutput(dataTable, element);\n",
       "        const docLink = document.createElement('div');\n",
       "        docLink.innerHTML = docLinkHtml;\n",
       "        element.appendChild(docLink);\n",
       "      }\n",
       "    </script>\n",
       "  </div>\n",
       "\n",
       "\n",
       "<div id=\"df-cff8ca47-622a-4a66-805c-51fc4d0f8fad\">\n",
       "  <button class=\"colab-df-quickchart\" onclick=\"quickchart('df-cff8ca47-622a-4a66-805c-51fc4d0f8fad')\"\n",
       "            title=\"Suggest charts\"\n",
       "            style=\"display:none;\">\n",
       "\n",
       "<svg xmlns=\"http://www.w3.org/2000/svg\" height=\"24px\"viewBox=\"0 0 24 24\"\n",
       "     width=\"24px\">\n",
       "    <g>\n",
       "        <path d=\"M19 3H5c-1.1 0-2 .9-2 2v14c0 1.1.9 2 2 2h14c1.1 0 2-.9 2-2V5c0-1.1-.9-2-2-2zM9 17H7v-7h2v7zm4 0h-2V7h2v10zm4 0h-2v-4h2v4z\"/>\n",
       "    </g>\n",
       "</svg>\n",
       "  </button>\n",
       "\n",
       "<style>\n",
       "  .colab-df-quickchart {\n",
       "      --bg-color: #E8F0FE;\n",
       "      --fill-color: #1967D2;\n",
       "      --hover-bg-color: #E2EBFA;\n",
       "      --hover-fill-color: #174EA6;\n",
       "      --disabled-fill-color: #AAA;\n",
       "      --disabled-bg-color: #DDD;\n",
       "  }\n",
       "\n",
       "  [theme=dark] .colab-df-quickchart {\n",
       "      --bg-color: #3B4455;\n",
       "      --fill-color: #D2E3FC;\n",
       "      --hover-bg-color: #434B5C;\n",
       "      --hover-fill-color: #FFFFFF;\n",
       "      --disabled-bg-color: #3B4455;\n",
       "      --disabled-fill-color: #666;\n",
       "  }\n",
       "\n",
       "  .colab-df-quickchart {\n",
       "    background-color: var(--bg-color);\n",
       "    border: none;\n",
       "    border-radius: 50%;\n",
       "    cursor: pointer;\n",
       "    display: none;\n",
       "    fill: var(--fill-color);\n",
       "    height: 32px;\n",
       "    padding: 0;\n",
       "    width: 32px;\n",
       "  }\n",
       "\n",
       "  .colab-df-quickchart:hover {\n",
       "    background-color: var(--hover-bg-color);\n",
       "    box-shadow: 0 1px 2px rgba(60, 64, 67, 0.3), 0 1px 3px 1px rgba(60, 64, 67, 0.15);\n",
       "    fill: var(--button-hover-fill-color);\n",
       "  }\n",
       "\n",
       "  .colab-df-quickchart-complete:disabled,\n",
       "  .colab-df-quickchart-complete:disabled:hover {\n",
       "    background-color: var(--disabled-bg-color);\n",
       "    fill: var(--disabled-fill-color);\n",
       "    box-shadow: none;\n",
       "  }\n",
       "\n",
       "  .colab-df-spinner {\n",
       "    border: 2px solid var(--fill-color);\n",
       "    border-color: transparent;\n",
       "    border-bottom-color: var(--fill-color);\n",
       "    animation:\n",
       "      spin 1s steps(1) infinite;\n",
       "  }\n",
       "\n",
       "  @keyframes spin {\n",
       "    0% {\n",
       "      border-color: transparent;\n",
       "      border-bottom-color: var(--fill-color);\n",
       "      border-left-color: var(--fill-color);\n",
       "    }\n",
       "    20% {\n",
       "      border-color: transparent;\n",
       "      border-left-color: var(--fill-color);\n",
       "      border-top-color: var(--fill-color);\n",
       "    }\n",
       "    30% {\n",
       "      border-color: transparent;\n",
       "      border-left-color: var(--fill-color);\n",
       "      border-top-color: var(--fill-color);\n",
       "      border-right-color: var(--fill-color);\n",
       "    }\n",
       "    40% {\n",
       "      border-color: transparent;\n",
       "      border-right-color: var(--fill-color);\n",
       "      border-top-color: var(--fill-color);\n",
       "    }\n",
       "    60% {\n",
       "      border-color: transparent;\n",
       "      border-right-color: var(--fill-color);\n",
       "    }\n",
       "    80% {\n",
       "      border-color: transparent;\n",
       "      border-right-color: var(--fill-color);\n",
       "      border-bottom-color: var(--fill-color);\n",
       "    }\n",
       "    90% {\n",
       "      border-color: transparent;\n",
       "      border-bottom-color: var(--fill-color);\n",
       "    }\n",
       "  }\n",
       "</style>\n",
       "\n",
       "  <script>\n",
       "    async function quickchart(key) {\n",
       "      const quickchartButtonEl =\n",
       "        document.querySelector('#' + key + ' button');\n",
       "      quickchartButtonEl.disabled = true;  // To prevent multiple clicks.\n",
       "      quickchartButtonEl.classList.add('colab-df-spinner');\n",
       "      try {\n",
       "        const charts = await google.colab.kernel.invokeFunction(\n",
       "            'suggestCharts', [key], {});\n",
       "      } catch (error) {\n",
       "        console.error('Error during call to suggestCharts:', error);\n",
       "      }\n",
       "      quickchartButtonEl.classList.remove('colab-df-spinner');\n",
       "      quickchartButtonEl.classList.add('colab-df-quickchart-complete');\n",
       "    }\n",
       "    (() => {\n",
       "      let quickchartButtonEl =\n",
       "        document.querySelector('#df-cff8ca47-622a-4a66-805c-51fc4d0f8fad button');\n",
       "      quickchartButtonEl.style.display =\n",
       "        google.colab.kernel.accessAllowed ? 'block' : 'none';\n",
       "    })();\n",
       "  </script>\n",
       "</div>\n",
       "\n",
       "  <div id=\"id_510b2f79-e5bc-4766-9942-0b4878af8213\">\n",
       "    <style>\n",
       "      .colab-df-generate {\n",
       "        background-color: #E8F0FE;\n",
       "        border: none;\n",
       "        border-radius: 50%;\n",
       "        cursor: pointer;\n",
       "        display: none;\n",
       "        fill: #1967D2;\n",
       "        height: 32px;\n",
       "        padding: 0 0 0 0;\n",
       "        width: 32px;\n",
       "      }\n",
       "\n",
       "      .colab-df-generate:hover {\n",
       "        background-color: #E2EBFA;\n",
       "        box-shadow: 0px 1px 2px rgba(60, 64, 67, 0.3), 0px 1px 3px 1px rgba(60, 64, 67, 0.15);\n",
       "        fill: #174EA6;\n",
       "      }\n",
       "\n",
       "      [theme=dark] .colab-df-generate {\n",
       "        background-color: #3B4455;\n",
       "        fill: #D2E3FC;\n",
       "      }\n",
       "\n",
       "      [theme=dark] .colab-df-generate:hover {\n",
       "        background-color: #434B5C;\n",
       "        box-shadow: 0px 1px 3px 1px rgba(0, 0, 0, 0.15);\n",
       "        filter: drop-shadow(0px 1px 2px rgba(0, 0, 0, 0.3));\n",
       "        fill: #FFFFFF;\n",
       "      }\n",
       "    </style>\n",
       "    <button class=\"colab-df-generate\" onclick=\"generateWithVariable('top_10_baseline')\"\n",
       "            title=\"Generate code using this dataframe.\"\n",
       "            style=\"display:none;\">\n",
       "\n",
       "  <svg xmlns=\"http://www.w3.org/2000/svg\" height=\"24px\"viewBox=\"0 0 24 24\"\n",
       "       width=\"24px\">\n",
       "    <path d=\"M7,19H8.4L18.45,9,17,7.55,7,17.6ZM5,21V16.75L18.45,3.32a2,2,0,0,1,2.83,0l1.4,1.43a1.91,1.91,0,0,1,.58,1.4,1.91,1.91,0,0,1-.58,1.4L9.25,21ZM18.45,9,17,7.55Zm-12,3A5.31,5.31,0,0,0,4.9,8.1,5.31,5.31,0,0,0,1,6.5,5.31,5.31,0,0,0,4.9,4.9,5.31,5.31,0,0,0,6.5,1,5.31,5.31,0,0,0,8.1,4.9,5.31,5.31,0,0,0,12,6.5,5.46,5.46,0,0,0,6.5,12Z\"/>\n",
       "  </svg>\n",
       "    </button>\n",
       "    <script>\n",
       "      (() => {\n",
       "      const buttonEl =\n",
       "        document.querySelector('#id_510b2f79-e5bc-4766-9942-0b4878af8213 button.colab-df-generate');\n",
       "      buttonEl.style.display =\n",
       "        google.colab.kernel.accessAllowed ? 'block' : 'none';\n",
       "\n",
       "      buttonEl.onclick = () => {\n",
       "        google.colab.notebook.generateWithVariable('top_10_baseline');\n",
       "      }\n",
       "      })();\n",
       "    </script>\n",
       "  </div>\n",
       "\n",
       "    </div>\n",
       "  </div>\n"
      ],
      "text/plain": [
       "           item  count  mean_rating\n",
       "769  B000IJ7RQ8    440     4.284091\n",
       "59   B00005N7SC    283     4.318021\n",
       "118  B00005NIOH    258     4.662791\n",
       "889  B001LF4EVO    218     4.541284\n",
       "29   B00005N7QG    206     4.339806\n",
       "57   B00005N7SA    205     4.253659\n",
       "513  B00007B10Y    181     4.469613\n",
       "22   B00005N7Q1    176     4.670455\n",
       "11   B00005N7OV    172     4.279070\n",
       "782  B000ILY9LW    156     4.346154"
      ]
     },
     "execution_count": 20,
     "metadata": {},
     "output_type": "execute_result"
    }
   ],
   "source": [
    "item_stats = train_data.groupby(\"item\").agg(\n",
    "    count=(\"rating\", \"count\"),\n",
    "    mean_rating=(\"rating\", \"mean\")).reset_index()\n",
    "\n",
    "threshold = 4.25\n",
    "popular_good_items = item_stats[item_stats[\"mean_rating\"] >= threshold]\n",
    "\n",
    "top_10_baseline = popular_good_items.sort_values([\"count\", \"mean_rating\"], ascending=False).head(10)\n",
    "top_10_baseline"
   ]
  },
  {
   "cell_type": "markdown",
   "id": "00d5ee68",
   "metadata": {
    "id": "00d5ee68"
   },
   "source": [
    "Таким образом, мы частично решаем проблему `холодного старта`, предлагая рекомендации для новых пользователей, у которых **отсутствует история взаимодействий**.\n",
    "\n",
    "При этом учитывается не только **популярность журналов (по числу оценок)**, но и их **качество**, выраженное в высоком среднем рейтинге (средний рейтинг $\\ge 4.25$).\n",
    "\n",
    "Такой подход позволяет сделать начальные рекомендации **более осмысленными и релевантными**, даже в условиях `отсутствия персонализированной информации`."
   ]
  },
  {
   "cell_type": "code",
   "execution_count": 21,
   "id": "E_ziV70vpPfa",
   "metadata": {
    "executionInfo": {
     "elapsed": 316,
     "status": "ok",
     "timestamp": 1744225941705,
     "user": {
      "displayName": "Danila Silichshev",
      "userId": "13799801190473562794"
     },
     "user_tz": -300
    },
    "id": "E_ziV70vpPfa"
   },
   "outputs": [],
   "source": [
    "# Получим список всех пользователей из тестовой выборки\n",
    "test_users = test_data[\"user\"].unique()\n",
    "\n",
    "# Извлечём item_id и средний рейтинг из топа\n",
    "top_items = top_10_baseline[[\"item\", \"mean_rating\"]].values\n",
    "\n",
    "# Построим предсказания: каждый пользователь получает топ-10 с соответствующими mean_rating\n",
    "baseline_predictions = [\n",
    "    (user, item, rating)\n",
    "    for user in test_users\n",
    "    for item, rating in top_items\n",
    "]"
   ]
  },
  {
   "cell_type": "code",
   "execution_count": 22,
   "id": "RDIUZGmspWHY",
   "metadata": {
    "executionInfo": {
     "elapsed": 1555,
     "status": "ok",
     "timestamp": 1744225943268,
     "user": {
      "displayName": "Danila Silichshev",
      "userId": "13799801190473562794"
     },
     "user_tz": -300
    },
    "id": "RDIUZGmspWHY"
   },
   "outputs": [],
   "source": [
    "recommended_baseline, relevant_baseline = prepare_recommendations(\n",
    "    baseline_predictions,\n",
    "    test_data,\n",
    "    k=10\n",
    ")\n",
    "\n",
    "total_metrics.append(evaluate_recommendations(\n",
    "    model_name=\"Top-10 Baseline\",\n",
    "    recommended=recommended_baseline,\n",
    "    relevant=relevant_baseline,\n",
    "    catalog=set(train_data[\"item\"].unique()),\n",
    "    item_counts=train_data[\"item\"].value_counts().to_dict(),\n",
    "    num_users=len(recommended_baseline),\n",
    "    k=10\n",
    "))"
   ]
  },
  {
   "cell_type": "markdown",
   "id": "c499e0e2",
   "metadata": {
    "id": "c499e0e2"
   },
   "source": [
    "### LightFM"
   ]
  },
  {
   "cell_type": "markdown",
   "id": "a32a90ef",
   "metadata": {
    "id": "a32a90ef"
   },
   "source": [
    "Модель **LightFM** основана на факторизации матрицы взаимодействий: она разлагает исходную матрицу на две — матрицу пользователей и матрицу объектов, каждая из которых содержит векторы скрытых факторов. Предсказание осуществляется как скалярное произведение соответствующих векторов пользователя и объекта. Таким образом, чем более «согласованы» скрытые интересы пользователя и характеристики объекта, тем выше предсказанный рейтинг.\n",
    "\n",
    "Обе функции потерь в **LightFM** ориентированы на задачи ранжирования.  \n",
    "- `WARP` (Weighted Approximate-Rank Pairwise) стремится повышать позиции релевантных объектов в списке рекомендаций, приближаясь к оптимизации top-K метрик.  \n",
    "- `BPR` (Bayesian Personalized Ranking) минимизирует вероятность того, что нерелевантный объект окажется выше релевантного, основываясь на парных сравнениях.\n",
    "\n",
    "Оба подхода предназначены для ситуаций, где важно не точное значение рейтинга, а порядок рекомендаций."
   ]
  },
  {
   "cell_type": "code",
   "execution_count": 23,
   "id": "0eca6162",
   "metadata": {
    "executionInfo": {
     "elapsed": 17,
     "status": "ok",
     "timestamp": 1744225943290,
     "user": {
      "displayName": "Danila Silichshev",
      "userId": "13799801190473562794"
     },
     "user_tz": -300
    },
    "id": "0eca6162"
   },
   "outputs": [],
   "source": [
    "def build_lightfm_dataset(train_data):\n",
    "    \"\"\"\n",
    "    Создание LightFM Dataset и sparse-матрицы взаимодействий.\n",
    "    \"\"\"\n",
    "\n",
    "    dataset = LFMDataset()\n",
    "    dataset.fit(train_data['user'], train_data[\"item\"])\n",
    "    interactions, _ = dataset.build_interactions(train_data[[\"user\", \"item\", \"rating\"]].itertuples(index=False))\n",
    "    return dataset, interactions\n",
    "\n",
    "\n",
    "def train_lightfm_model(interactions, loss=\"warp\", epochs=50):\n",
    "    \"\"\"\n",
    "    Обучение модели LightFM.\n",
    "    \"\"\"\n",
    "\n",
    "    model = LightFM(no_components=64, loss=loss, random_state=42)\n",
    "    model.fit(interactions, epochs=epochs, num_threads=4)\n",
    "    return model\n",
    "\n",
    "\n",
    "def get_lightfm_predictions(model, dataset, test_data, top_k=10, batch_size=500):\n",
    "    user_id_map, _, item_id_map, _ = dataset.mapping()\n",
    "    inv_item_map = {v: k for k, v in item_id_map.items()}\n",
    "    all_item_ids = np.array(list(item_id_map.values()))\n",
    "    user_ids = test_data[\"user\"].unique()\n",
    "\n",
    "    predictions = []\n",
    "\n",
    "    for i in tqdm(range(0, len(user_ids), batch_size), desc=\"LightFM batches\"):\n",
    "        batch_users = user_ids[i:i+batch_size]\n",
    "\n",
    "        for user in batch_users:\n",
    "            user_idx = user_id_map.get(user)\n",
    "            if user_idx is None:\n",
    "                continue\n",
    "\n",
    "            # Предсказания для всех items\n",
    "            ratings = model.predict(user_idx, all_item_ids, num_threads=1)\n",
    "\n",
    "            # Выбираем top-k items\n",
    "            top_k_idx = np.argsort(-ratings)[:top_k]\n",
    "            for item_idx in top_k_idx:\n",
    "                item_id = inv_item_map[item_idx]\n",
    "                predictions.append((user, item_id, ratings[item_idx]))\n",
    "\n",
    "        # Очистка памяти после каждого батча\n",
    "        gc.collect()\n",
    "\n",
    "    return predictions"
   ]
  },
  {
   "cell_type": "code",
   "execution_count": 24,
   "id": "0afedae9",
   "metadata": {
    "executionInfo": {
     "elapsed": 97,
     "status": "ok",
     "timestamp": 1744225943393,
     "user": {
      "displayName": "Danila Silichshev",
      "userId": "13799801190473562794"
     },
     "user_tz": -300
    },
    "id": "0afedae9"
   },
   "outputs": [],
   "source": [
    "dataset, interactions = build_lightfm_dataset(train_data)"
   ]
  },
  {
   "cell_type": "markdown",
   "id": "94f7e192",
   "metadata": {
    "id": "94f7e192"
   },
   "source": [
    "#### LightFM (loss_function = WARP)"
   ]
  },
  {
   "cell_type": "code",
   "execution_count": 25,
   "id": "d36e1f11",
   "metadata": {
    "colab": {
     "base_uri": "https://localhost:8080/"
    },
    "executionInfo": {
     "elapsed": 20206,
     "status": "ok",
     "timestamp": 1744225963601,
     "user": {
      "displayName": "Danila Silichshev",
      "userId": "13799801190473562794"
     },
     "user_tz": -300
    },
    "id": "d36e1f11",
    "outputId": "a43ac8fc-4c82-408b-eb56-361cc7d382d3"
   },
   "outputs": [
    {
     "name": "stderr",
     "output_type": "stream",
     "text": [
      "LightFM batches: 100%|██████████| 21/21 [00:15<00:00,  1.33it/s]\n"
     ]
    }
   ],
   "source": [
    "model = train_lightfm_model(interactions, loss=\"warp\")\n",
    "\n",
    "predictions_lfm = get_lightfm_predictions(model, dataset, test_data)\n",
    "\n",
    "recommended_lfm, relevant_lfm = prepare_recommendations(predictions_lfm, test_data, k=10)\n",
    "\n",
    "total_metrics.append(evaluate_recommendations(\"LightFM (WARP)\", recommended_lfm, relevant_lfm,\n",
    "                                       catalog, item_counts, num_users, k=10))"
   ]
  },
  {
   "cell_type": "markdown",
   "id": "3fbf4993",
   "metadata": {
    "id": "3fbf4993"
   },
   "source": [
    "#### LightFM (loss_function = BPR)"
   ]
  },
  {
   "cell_type": "code",
   "execution_count": 26,
   "id": "d96e748a",
   "metadata": {
    "colab": {
     "base_uri": "https://localhost:8080/"
    },
    "executionInfo": {
     "elapsed": 13028,
     "status": "ok",
     "timestamp": 1744225976632,
     "user": {
      "displayName": "Danila Silichshev",
      "userId": "13799801190473562794"
     },
     "user_tz": -300
    },
    "id": "d96e748a",
    "outputId": "831db629-baf3-4bc8-c041-88b642121370"
   },
   "outputs": [
    {
     "name": "stderr",
     "output_type": "stream",
     "text": [
      "LightFM batches: 100%|██████████| 21/21 [00:08<00:00,  2.37it/s]\n"
     ]
    }
   ],
   "source": [
    "model = train_lightfm_model(interactions, loss=\"bpr\")\n",
    "\n",
    "predictions_lfm = get_lightfm_predictions(model, dataset, test_data)\n",
    "\n",
    "recommended_lfm, relevant_lfm = prepare_recommendations(predictions_lfm, test_data, k=10)\n",
    "\n",
    "total_metrics.append(evaluate_recommendations(\"LightFM (BPR)\", recommended_lfm, relevant_lfm,\n",
    "                                       catalog, item_counts, num_users, k=10))"
   ]
  },
  {
   "cell_type": "markdown",
   "id": "4fc96b74",
   "metadata": {
    "id": "4fc96b74"
   },
   "source": [
    "## Сравнение моделей"
   ]
  },
  {
   "cell_type": "code",
   "execution_count": 27,
   "id": "c6920610",
   "metadata": {
    "colab": {
     "base_uri": "https://localhost:8080/",
     "height": 143
    },
    "executionInfo": {
     "elapsed": 21,
     "status": "ok",
     "timestamp": 1744225976662,
     "user": {
      "displayName": "Danila Silichshev",
      "userId": "13799801190473562794"
     },
     "user_tz": -300
    },
    "id": "c6920610",
    "outputId": "d19b880a-a96a-4a7a-fce8-bd3d7649d7e5"
   },
   "outputs": [
    {
     "data": {
      "application/vnd.google.colaboratory.intrinsic+json": {
       "summary": "{\n  \"name\": \"total_metrics\",\n  \"rows\": 3,\n  \"fields\": [\n    {\n      \"column\": \"model\",\n      \"properties\": {\n        \"dtype\": \"string\",\n        \"num_unique_values\": 3,\n        \"samples\": [\n          \"Top-10 Baseline\",\n          \"LightFM (WARP)\",\n          \"LightFM (BPR)\"\n        ],\n        \"semantic_type\": \"\",\n        \"description\": \"\"\n      }\n    },\n    {\n      \"column\": \"HR@10\",\n      \"properties\": {\n        \"dtype\": \"number\",\n        \"std\": 0.09985698845919753,\n        \"min\": 0.15267550319096712,\n        \"max\": 0.3366715758468336,\n        \"num_unique_values\": 3,\n        \"samples\": [\n          0.15267550319096712,\n          0.3366715758468336,\n          0.31192930780559647\n        ],\n        \"semantic_type\": \"\",\n        \"description\": \"\"\n      }\n    },\n    {\n      \"column\": \"MRR@10\",\n      \"properties\": {\n        \"dtype\": \"number\",\n        \"std\": 0.05138257608435012,\n        \"min\": 0.04240273199772463,\n        \"max\": 0.133266513936617,\n        \"num_unique_values\": 3,\n        \"samples\": [\n          0.04240273199772463,\n          0.133266513936617,\n          0.1294078983254241\n        ],\n        \"semantic_type\": \"\",\n        \"description\": \"\"\n      }\n    },\n    {\n      \"column\": \"NDCG@10\",\n      \"properties\": {\n        \"dtype\": \"number\",\n        \"std\": 0.06469060770656251,\n        \"min\": 0.06732222300245229,\n        \"max\": 0.183327991371469,\n        \"num_unique_values\": 3,\n        \"samples\": [\n          0.06732222300245229,\n          0.183327991371469,\n          0.17493982733298818\n        ],\n        \"semantic_type\": \"\",\n        \"description\": \"\"\n      }\n    },\n    {\n      \"column\": \"MAP@10\",\n      \"properties\": {\n        \"dtype\": \"number\",\n        \"std\": 0.05138257608435012,\n        \"min\": 0.04240273199772463,\n        \"max\": 0.133266513936617,\n        \"num_unique_values\": 3,\n        \"samples\": [\n          0.04240273199772463,\n          0.133266513936617,\n          0.1294078983254241\n        ],\n        \"semantic_type\": \"\",\n        \"description\": \"\"\n      }\n    },\n    {\n      \"column\": \"Coverage@10\",\n      \"properties\": {\n        \"dtype\": \"number\",\n        \"std\": 0.5088507281265721,\n        \"min\": 0.00697350069735007,\n        \"max\": 0.9902370990237099,\n        \"num_unique_values\": 3,\n        \"samples\": [\n          0.00697350069735007,\n          0.9902370990237099,\n          0.2712691771269177\n        ],\n        \"semantic_type\": \"\",\n        \"description\": \"\"\n      }\n    },\n    {\n      \"column\": \"Novelty@10\",\n      \"properties\": {\n        \"dtype\": \"number\",\n        \"std\": 1.2784025369938699,\n        \"min\": 6.211250734851613,\n        \"max\": 8.75302560165411,\n        \"num_unique_values\": 3,\n        \"samples\": [\n          6.211250734851613,\n          7.721876639603305,\n          8.75302560165411\n        ],\n        \"semantic_type\": \"\",\n        \"description\": \"\"\n      }\n    }\n  ]\n}",
       "type": "dataframe",
       "variable_name": "total_metrics"
      },
      "text/html": [
       "\n",
       "  <div id=\"df-d6d51400-608c-4652-a816-df9ed661b4d3\" class=\"colab-df-container\">\n",
       "    <div>\n",
       "<style scoped>\n",
       "    .dataframe tbody tr th:only-of-type {\n",
       "        vertical-align: middle;\n",
       "    }\n",
       "\n",
       "    .dataframe tbody tr th {\n",
       "        vertical-align: top;\n",
       "    }\n",
       "\n",
       "    .dataframe thead th {\n",
       "        text-align: right;\n",
       "    }\n",
       "</style>\n",
       "<table border=\"1\" class=\"dataframe\">\n",
       "  <thead>\n",
       "    <tr style=\"text-align: right;\">\n",
       "      <th></th>\n",
       "      <th>model</th>\n",
       "      <th>HR@10</th>\n",
       "      <th>MRR@10</th>\n",
       "      <th>NDCG@10</th>\n",
       "      <th>MAP@10</th>\n",
       "      <th>Coverage@10</th>\n",
       "      <th>Novelty@10</th>\n",
       "    </tr>\n",
       "  </thead>\n",
       "  <tbody>\n",
       "    <tr>\n",
       "      <th>0</th>\n",
       "      <td>Top-10 Baseline</td>\n",
       "      <td>0.152676</td>\n",
       "      <td>0.042403</td>\n",
       "      <td>0.067322</td>\n",
       "      <td>0.042403</td>\n",
       "      <td>0.006974</td>\n",
       "      <td>6.211251</td>\n",
       "    </tr>\n",
       "    <tr>\n",
       "      <th>1</th>\n",
       "      <td>LightFM (WARP)</td>\n",
       "      <td>0.336672</td>\n",
       "      <td>0.133267</td>\n",
       "      <td>0.183328</td>\n",
       "      <td>0.133267</td>\n",
       "      <td>0.990237</td>\n",
       "      <td>7.721877</td>\n",
       "    </tr>\n",
       "    <tr>\n",
       "      <th>2</th>\n",
       "      <td>LightFM (BPR)</td>\n",
       "      <td>0.311929</td>\n",
       "      <td>0.129408</td>\n",
       "      <td>0.174940</td>\n",
       "      <td>0.129408</td>\n",
       "      <td>0.271269</td>\n",
       "      <td>8.753026</td>\n",
       "    </tr>\n",
       "  </tbody>\n",
       "</table>\n",
       "</div>\n",
       "    <div class=\"colab-df-buttons\">\n",
       "\n",
       "  <div class=\"colab-df-container\">\n",
       "    <button class=\"colab-df-convert\" onclick=\"convertToInteractive('df-d6d51400-608c-4652-a816-df9ed661b4d3')\"\n",
       "            title=\"Convert this dataframe to an interactive table.\"\n",
       "            style=\"display:none;\">\n",
       "\n",
       "  <svg xmlns=\"http://www.w3.org/2000/svg\" height=\"24px\" viewBox=\"0 -960 960 960\">\n",
       "    <path d=\"M120-120v-720h720v720H120Zm60-500h600v-160H180v160Zm220 220h160v-160H400v160Zm0 220h160v-160H400v160ZM180-400h160v-160H180v160Zm440 0h160v-160H620v160ZM180-180h160v-160H180v160Zm440 0h160v-160H620v160Z\"/>\n",
       "  </svg>\n",
       "    </button>\n",
       "\n",
       "  <style>\n",
       "    .colab-df-container {\n",
       "      display:flex;\n",
       "      gap: 12px;\n",
       "    }\n",
       "\n",
       "    .colab-df-convert {\n",
       "      background-color: #E8F0FE;\n",
       "      border: none;\n",
       "      border-radius: 50%;\n",
       "      cursor: pointer;\n",
       "      display: none;\n",
       "      fill: #1967D2;\n",
       "      height: 32px;\n",
       "      padding: 0 0 0 0;\n",
       "      width: 32px;\n",
       "    }\n",
       "\n",
       "    .colab-df-convert:hover {\n",
       "      background-color: #E2EBFA;\n",
       "      box-shadow: 0px 1px 2px rgba(60, 64, 67, 0.3), 0px 1px 3px 1px rgba(60, 64, 67, 0.15);\n",
       "      fill: #174EA6;\n",
       "    }\n",
       "\n",
       "    .colab-df-buttons div {\n",
       "      margin-bottom: 4px;\n",
       "    }\n",
       "\n",
       "    [theme=dark] .colab-df-convert {\n",
       "      background-color: #3B4455;\n",
       "      fill: #D2E3FC;\n",
       "    }\n",
       "\n",
       "    [theme=dark] .colab-df-convert:hover {\n",
       "      background-color: #434B5C;\n",
       "      box-shadow: 0px 1px 3px 1px rgba(0, 0, 0, 0.15);\n",
       "      filter: drop-shadow(0px 1px 2px rgba(0, 0, 0, 0.3));\n",
       "      fill: #FFFFFF;\n",
       "    }\n",
       "  </style>\n",
       "\n",
       "    <script>\n",
       "      const buttonEl =\n",
       "        document.querySelector('#df-d6d51400-608c-4652-a816-df9ed661b4d3 button.colab-df-convert');\n",
       "      buttonEl.style.display =\n",
       "        google.colab.kernel.accessAllowed ? 'block' : 'none';\n",
       "\n",
       "      async function convertToInteractive(key) {\n",
       "        const element = document.querySelector('#df-d6d51400-608c-4652-a816-df9ed661b4d3');\n",
       "        const dataTable =\n",
       "          await google.colab.kernel.invokeFunction('convertToInteractive',\n",
       "                                                    [key], {});\n",
       "        if (!dataTable) return;\n",
       "\n",
       "        const docLinkHtml = 'Like what you see? Visit the ' +\n",
       "          '<a target=\"_blank\" href=https://colab.research.google.com/notebooks/data_table.ipynb>data table notebook</a>'\n",
       "          + ' to learn more about interactive tables.';\n",
       "        element.innerHTML = '';\n",
       "        dataTable['output_type'] = 'display_data';\n",
       "        await google.colab.output.renderOutput(dataTable, element);\n",
       "        const docLink = document.createElement('div');\n",
       "        docLink.innerHTML = docLinkHtml;\n",
       "        element.appendChild(docLink);\n",
       "      }\n",
       "    </script>\n",
       "  </div>\n",
       "\n",
       "\n",
       "<div id=\"df-8858a74d-19f1-4060-957a-e3c4165ee4f2\">\n",
       "  <button class=\"colab-df-quickchart\" onclick=\"quickchart('df-8858a74d-19f1-4060-957a-e3c4165ee4f2')\"\n",
       "            title=\"Suggest charts\"\n",
       "            style=\"display:none;\">\n",
       "\n",
       "<svg xmlns=\"http://www.w3.org/2000/svg\" height=\"24px\"viewBox=\"0 0 24 24\"\n",
       "     width=\"24px\">\n",
       "    <g>\n",
       "        <path d=\"M19 3H5c-1.1 0-2 .9-2 2v14c0 1.1.9 2 2 2h14c1.1 0 2-.9 2-2V5c0-1.1-.9-2-2-2zM9 17H7v-7h2v7zm4 0h-2V7h2v10zm4 0h-2v-4h2v4z\"/>\n",
       "    </g>\n",
       "</svg>\n",
       "  </button>\n",
       "\n",
       "<style>\n",
       "  .colab-df-quickchart {\n",
       "      --bg-color: #E8F0FE;\n",
       "      --fill-color: #1967D2;\n",
       "      --hover-bg-color: #E2EBFA;\n",
       "      --hover-fill-color: #174EA6;\n",
       "      --disabled-fill-color: #AAA;\n",
       "      --disabled-bg-color: #DDD;\n",
       "  }\n",
       "\n",
       "  [theme=dark] .colab-df-quickchart {\n",
       "      --bg-color: #3B4455;\n",
       "      --fill-color: #D2E3FC;\n",
       "      --hover-bg-color: #434B5C;\n",
       "      --hover-fill-color: #FFFFFF;\n",
       "      --disabled-bg-color: #3B4455;\n",
       "      --disabled-fill-color: #666;\n",
       "  }\n",
       "\n",
       "  .colab-df-quickchart {\n",
       "    background-color: var(--bg-color);\n",
       "    border: none;\n",
       "    border-radius: 50%;\n",
       "    cursor: pointer;\n",
       "    display: none;\n",
       "    fill: var(--fill-color);\n",
       "    height: 32px;\n",
       "    padding: 0;\n",
       "    width: 32px;\n",
       "  }\n",
       "\n",
       "  .colab-df-quickchart:hover {\n",
       "    background-color: var(--hover-bg-color);\n",
       "    box-shadow: 0 1px 2px rgba(60, 64, 67, 0.3), 0 1px 3px 1px rgba(60, 64, 67, 0.15);\n",
       "    fill: var(--button-hover-fill-color);\n",
       "  }\n",
       "\n",
       "  .colab-df-quickchart-complete:disabled,\n",
       "  .colab-df-quickchart-complete:disabled:hover {\n",
       "    background-color: var(--disabled-bg-color);\n",
       "    fill: var(--disabled-fill-color);\n",
       "    box-shadow: none;\n",
       "  }\n",
       "\n",
       "  .colab-df-spinner {\n",
       "    border: 2px solid var(--fill-color);\n",
       "    border-color: transparent;\n",
       "    border-bottom-color: var(--fill-color);\n",
       "    animation:\n",
       "      spin 1s steps(1) infinite;\n",
       "  }\n",
       "\n",
       "  @keyframes spin {\n",
       "    0% {\n",
       "      border-color: transparent;\n",
       "      border-bottom-color: var(--fill-color);\n",
       "      border-left-color: var(--fill-color);\n",
       "    }\n",
       "    20% {\n",
       "      border-color: transparent;\n",
       "      border-left-color: var(--fill-color);\n",
       "      border-top-color: var(--fill-color);\n",
       "    }\n",
       "    30% {\n",
       "      border-color: transparent;\n",
       "      border-left-color: var(--fill-color);\n",
       "      border-top-color: var(--fill-color);\n",
       "      border-right-color: var(--fill-color);\n",
       "    }\n",
       "    40% {\n",
       "      border-color: transparent;\n",
       "      border-right-color: var(--fill-color);\n",
       "      border-top-color: var(--fill-color);\n",
       "    }\n",
       "    60% {\n",
       "      border-color: transparent;\n",
       "      border-right-color: var(--fill-color);\n",
       "    }\n",
       "    80% {\n",
       "      border-color: transparent;\n",
       "      border-right-color: var(--fill-color);\n",
       "      border-bottom-color: var(--fill-color);\n",
       "    }\n",
       "    90% {\n",
       "      border-color: transparent;\n",
       "      border-bottom-color: var(--fill-color);\n",
       "    }\n",
       "  }\n",
       "</style>\n",
       "\n",
       "  <script>\n",
       "    async function quickchart(key) {\n",
       "      const quickchartButtonEl =\n",
       "        document.querySelector('#' + key + ' button');\n",
       "      quickchartButtonEl.disabled = true;  // To prevent multiple clicks.\n",
       "      quickchartButtonEl.classList.add('colab-df-spinner');\n",
       "      try {\n",
       "        const charts = await google.colab.kernel.invokeFunction(\n",
       "            'suggestCharts', [key], {});\n",
       "      } catch (error) {\n",
       "        console.error('Error during call to suggestCharts:', error);\n",
       "      }\n",
       "      quickchartButtonEl.classList.remove('colab-df-spinner');\n",
       "      quickchartButtonEl.classList.add('colab-df-quickchart-complete');\n",
       "    }\n",
       "    (() => {\n",
       "      let quickchartButtonEl =\n",
       "        document.querySelector('#df-8858a74d-19f1-4060-957a-e3c4165ee4f2 button');\n",
       "      quickchartButtonEl.style.display =\n",
       "        google.colab.kernel.accessAllowed ? 'block' : 'none';\n",
       "    })();\n",
       "  </script>\n",
       "</div>\n",
       "\n",
       "  <div id=\"id_5a63cef6-3f5b-4e74-a8df-41d0ed959d19\">\n",
       "    <style>\n",
       "      .colab-df-generate {\n",
       "        background-color: #E8F0FE;\n",
       "        border: none;\n",
       "        border-radius: 50%;\n",
       "        cursor: pointer;\n",
       "        display: none;\n",
       "        fill: #1967D2;\n",
       "        height: 32px;\n",
       "        padding: 0 0 0 0;\n",
       "        width: 32px;\n",
       "      }\n",
       "\n",
       "      .colab-df-generate:hover {\n",
       "        background-color: #E2EBFA;\n",
       "        box-shadow: 0px 1px 2px rgba(60, 64, 67, 0.3), 0px 1px 3px 1px rgba(60, 64, 67, 0.15);\n",
       "        fill: #174EA6;\n",
       "      }\n",
       "\n",
       "      [theme=dark] .colab-df-generate {\n",
       "        background-color: #3B4455;\n",
       "        fill: #D2E3FC;\n",
       "      }\n",
       "\n",
       "      [theme=dark] .colab-df-generate:hover {\n",
       "        background-color: #434B5C;\n",
       "        box-shadow: 0px 1px 3px 1px rgba(0, 0, 0, 0.15);\n",
       "        filter: drop-shadow(0px 1px 2px rgba(0, 0, 0, 0.3));\n",
       "        fill: #FFFFFF;\n",
       "      }\n",
       "    </style>\n",
       "    <button class=\"colab-df-generate\" onclick=\"generateWithVariable('total_metrics')\"\n",
       "            title=\"Generate code using this dataframe.\"\n",
       "            style=\"display:none;\">\n",
       "\n",
       "  <svg xmlns=\"http://www.w3.org/2000/svg\" height=\"24px\"viewBox=\"0 0 24 24\"\n",
       "       width=\"24px\">\n",
       "    <path d=\"M7,19H8.4L18.45,9,17,7.55,7,17.6ZM5,21V16.75L18.45,3.32a2,2,0,0,1,2.83,0l1.4,1.43a1.91,1.91,0,0,1,.58,1.4,1.91,1.91,0,0,1-.58,1.4L9.25,21ZM18.45,9,17,7.55Zm-12,3A5.31,5.31,0,0,0,4.9,8.1,5.31,5.31,0,0,0,1,6.5,5.31,5.31,0,0,0,4.9,4.9,5.31,5.31,0,0,0,6.5,1,5.31,5.31,0,0,0,8.1,4.9,5.31,5.31,0,0,0,12,6.5,5.46,5.46,0,0,0,6.5,12Z\"/>\n",
       "  </svg>\n",
       "    </button>\n",
       "    <script>\n",
       "      (() => {\n",
       "      const buttonEl =\n",
       "        document.querySelector('#id_5a63cef6-3f5b-4e74-a8df-41d0ed959d19 button.colab-df-generate');\n",
       "      buttonEl.style.display =\n",
       "        google.colab.kernel.accessAllowed ? 'block' : 'none';\n",
       "\n",
       "      buttonEl.onclick = () => {\n",
       "        google.colab.notebook.generateWithVariable('total_metrics');\n",
       "      }\n",
       "      })();\n",
       "    </script>\n",
       "  </div>\n",
       "\n",
       "    </div>\n",
       "  </div>\n"
      ],
      "text/plain": [
       "             model     HR@10    MRR@10   NDCG@10    MAP@10  Coverage@10  \\\n",
       "0  Top-10 Baseline  0.152676  0.042403  0.067322  0.042403     0.006974   \n",
       "1   LightFM (WARP)  0.336672  0.133267  0.183328  0.133267     0.990237   \n",
       "2    LightFM (BPR)  0.311929  0.129408  0.174940  0.129408     0.271269   \n",
       "\n",
       "   Novelty@10  \n",
       "0    6.211251  \n",
       "1    7.721877  \n",
       "2    8.753026  "
      ]
     },
     "execution_count": 27,
     "metadata": {},
     "output_type": "execute_result"
    }
   ],
   "source": [
    "total_metrics = pd.DataFrame(total_metrics)\n",
    "\n",
    "total_metrics"
   ]
  },
  {
   "cell_type": "markdown",
   "id": "g1pM42Q_kKEx",
   "metadata": {
    "id": "g1pM42Q_kKEx"
   },
   "source": [
    "## Вывод\n",
    "\n",
    "В рамках построения рекомендательной системы были реализованы и протестированы три модели:  \n",
    "**Baseline**, рекомендующая самые популярные журналы, а также две вариации **LightFM** — с функциями потерь `warp` и `bpr`.\n",
    "\n",
    "Лучшие результаты показала модель **LightFM (WARP)**:\n",
    "- `HR@10 = 0.341`, `NDCG@10 = 0.185`, `MRR@10 = 0.13`\n",
    "- Очень высокое покрытие (`Coverage@10 ≈ 99%`), что говорит о том, что модель рекомендует широкий спектр журналов, а не ограничивается только самыми популярными\n",
    "- Умеренная **новизна** (`Novelty@10 = 7.7`) означает, что пользователям предлагаются не только популярные, но и относительно менее очевидные товары, что способствует персонализации и интересу к рекомендациям\n",
    "\n",
    "Модель **LightFM (BPR)** немного уступила по точности, но показала **наибольшую новизну** (`8.75`), что может быть полезно в задачах, где важна разнообразие и неожиданность рекомендаций.\n",
    "\n",
    "**Baseline** значительно уступает по всем метрикам: низкий `HR@10`, почти нулевое покрытие и слабая новизна, что подтверждает недостаточность простой популярности без учёта предпочтений пользователя.\n",
    "\n",
    "Таким образом, **наиболее сбалансированным и эффективным решением является LightFM с функцией потерь WARP**, обеспечивающая достаточно высокое качество и широкое покрытие."
   ]
  }
 ],
 "metadata": {
  "colab": {
   "provenance": []
  },
  "kernelspec": {
   "display_name": "Python 3 (ipykernel)",
   "language": "python",
   "name": "python3"
  },
  "language_info": {
   "codemirror_mode": {
    "name": "ipython",
    "version": 3
   },
   "file_extension": ".py",
   "mimetype": "text/x-python",
   "name": "python",
   "nbconvert_exporter": "python",
   "pygments_lexer": "ipython3",
   "version": "3.9.13"
  }
 },
 "nbformat": 4,
 "nbformat_minor": 5
}
